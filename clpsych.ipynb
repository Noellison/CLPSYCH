{
 "cells": [
  {
   "cell_type": "markdown",
   "metadata": {},
   "source": [
    "# CLPsych Classification NLP Project\n",
    "Noel Ellison"
   ]
  },
  {
   "cell_type": "markdown",
   "metadata": {},
   "source": [
    "## 1. Set-up Data and Packages"
   ]
  },
  {
   "cell_type": "markdown",
   "metadata": {},
   "source": [
    "### 1.1 Import Packages"
   ]
  },
  {
   "cell_type": "code",
   "execution_count": 1,
   "metadata": {},
   "outputs": [],
   "source": [
    "import warnings\n",
    "warnings.filterwarnings('ignore')"
   ]
  },
  {
   "cell_type": "code",
   "execution_count": 2,
   "metadata": {},
   "outputs": [
    {
     "name": "stdout",
     "output_type": "stream",
     "text": [
      "12.1\n"
     ]
    },
    {
     "data": {
      "text/plain": [
       "'cuda'"
      ]
     },
     "execution_count": 2,
     "metadata": {},
     "output_type": "execute_result"
    }
   ],
   "source": [
    "#BERT model imports\n",
    "import os\n",
    "import re\n",
    "import numpy as np \n",
    "from sklearn.metrics import accuracy_score\n",
    "\n",
    "import transformers\n",
    "from transformers import BertTokenizer, BertModel\n",
    "\n",
    "import torch\n",
    "from torch import cuda\n",
    "#from tqdm.notebook import tqdm as tqdm\n",
    "from tqdm import tqdm_notebook as tqdm\n",
    "device = 'cuda' if cuda.is_available() else 'cpu'\n",
    "print(torch.version.cuda)\n",
    "\n",
    "device\n"
   ]
  },
  {
   "cell_type": "markdown",
   "metadata": {},
   "source": [
    "Helpful website for understanding XML data structures: https://nanonets.com/blog/parse-xml-files-using-python/#:~:text=Let's%20start%20by%20importing%20the,root%20tag%20as%20shown%20below.\n",
    "\n",
    "\n",
    "Turn the XML files into a pandas DF: https://www.reddit.com/r/learnpython/comments/zh9vgw/parsing_xml_into_a_pandas_dataframe/\n",
    "\n",
    "https://stackabuse.com/reading-and-writing-xml-files-in-python-with-pandas/"
   ]
  },
  {
   "cell_type": "markdown",
   "metadata": {},
   "source": [
    "### 1.2 Read-in Source Data"
   ]
  },
  {
   "cell_type": "markdown",
   "metadata": {},
   "source": [
    "#### 1.2.1 Read-in XML Files (individual posts)"
   ]
  },
  {
   "cell_type": "code",
   "execution_count": 3,
   "metadata": {},
   "outputs": [
    {
     "name": "stdout",
     "output_type": "stream",
     "text": [
      "board_id {'type': 'int'}\n",
      "root {'type': 'message', 'href': '/messages/id/52'}\n",
      "kudos {}\n",
      "0\n",
      "message_rating {'type': 'float'}\n",
      "last_edit_author {'type': 'user', 'href': '/users/id/68'}\n",
      "post_time {'type': 'date_time'}\n",
      "last_edit_time {'type': 'date_time'}\n",
      "body {'type': 'string'}\n",
      "thread {'type': 'thread', 'href': '/threads/id/52'}\n",
      "board {'type': 'board', 'href': '/boards/id/Games'}\n",
      "parent {'type': 'message', 'href': '/messages/id/856'}\n",
      "teaser {'type': 'string'}\n",
      "views {}\n",
      "2094\n",
      "subject {'type': 'string'}\n",
      "id {'type': 'int'}\n",
      "read_only {'type': 'boolean'}\n",
      "deleted {'type': 'boolean'}\n",
      "author {'type': 'user', 'href': '/users/id/68'}\n"
     ]
    }
   ],
   "source": [
    "#This code checks one XML file\n",
    "from os import listdir, path\n",
    "import xml.etree.ElementTree as ET\n",
    "import re\n",
    "import os\n",
    "from lxml import etree\n",
    "\n",
    "mypath = 'I:/Project/clpsych17-data/clpsych17-data/data/training/posts/post-886.xml'\n",
    "#files = [path.join(mypath, f) for f in listdir(mypath) if f.endswith('.xml')]\n",
    "messageIDs = []\n",
    "messageBodys = []\n",
    "messagePostTimes = []\n",
    "authorIDs = []\n",
    "\n",
    "\n",
    "tree = ET.parse(mypath)\n",
    "root = tree.getroot()\n",
    "for x in root[0]:\n",
    "    print(x.tag, x.attrib)\n",
    "    if x.tag == 'kudos':\n",
    "            print(x.findall(\".//count\")[0].text)\n",
    "    if x.tag == 'views':\n",
    "            print(x.findall(\".//count\")[0].text)"
   ]
  },
  {
   "cell_type": "code",
   "execution_count": 4,
   "metadata": {},
   "outputs": [],
   "source": [
    "#Import all XML data which contains the text of the posts\n",
    "from os import listdir, path\n",
    "import xml.etree.ElementTree as ET\n",
    "import re\n",
    "import os\n",
    "from lxml import etree\n",
    "\n",
    "mypath = 'I:/Project/clpsych17-data/clpsych17-data/data/training/posts'\n",
    "files = [path.join(mypath, f) for f in listdir(mypath) if f.endswith('.xml')]\n",
    "messageIDs = []\n",
    "messageBodys = []\n",
    "messagePostTimes = []\n",
    "authorIDs = []\n",
    "kudos = []\n",
    "views = []\n",
    "\n",
    "#for file in files:\n",
    " #   print(file)\n",
    "  #  tree = ET.parse(file)\n",
    "   # root = tree.getroot()\n",
    "    #for x in root[0]:\n",
    "     #   print(x.tag, x.attrib)\n",
    "\n",
    "for file in files:\n",
    "    res = re.findall(\"post-(\\d+).xml\", file)\n",
    "    if not res: continue\n",
    "    messageIDs.append(res[0]) # You can append the result to a list\n",
    "    tree = ET.parse(file)\n",
    "    root = tree.getroot()\n",
    "    for x in root[0]:\n",
    "    #print(x.tag, x.attrib)\n",
    "        if x.tag == 'body':\n",
    "            messageBodys.append(x.text)\n",
    "        if x.tag == 'post_time':\n",
    "            messagePostTimes.append(x.text)\n",
    "        if x.tag == 'author':\n",
    "            authorIDs.append((x.attrib['href']).replace('/users/id/',''))\n",
    "        if x.tag == 'kudos':\n",
    "            kudos.append(x.findall(\".//count\")[0].text)\n",
    "        if x.tag == 'views':\n",
    "            views.append(x.findall(\".//count\")[0].text)\n",
    "    if len(messageBodys) != len(messageIDs):\n",
    "        messageBodys.append('')\n",
    "    if len(messagePostTimes) != len(messageIDs):\n",
    "        messagePostTimes.append('')\n",
    "    if len(authorIDs) != len(messageIDs):\n",
    "        authorIDs.append('')\n",
    "    if len(kudos) != len(messageIDs):\n",
    "        authorIDs.append('')\n",
    "    if len(views) != len(messageIDs):\n",
    "        authorIDs.append('')\n",
    "    #print(res[0])\n",
    "\n",
    "\n",
    "#tree.find('./message type').attrib['key']\n"
   ]
  },
  {
   "cell_type": "code",
   "execution_count": 5,
   "metadata": {},
   "outputs": [
    {
     "name": "stdout",
     "output_type": "stream",
     "text": [
      "65755\n",
      "65755\n",
      "65755\n",
      "65755\n",
      "65755\n",
      "65755\n"
     ]
    }
   ],
   "source": [
    "print(len(messageIDs))\n",
    "print(len(authorIDs))\n",
    "print(len(messageBodys))\n",
    "print(len(views))\n",
    "print(len(kudos))\n",
    "print(len(messagePostTimes))"
   ]
  },
  {
   "cell_type": "code",
   "execution_count": 7,
   "metadata": {},
   "outputs": [],
   "source": [
    "import pandas as pd\n",
    "dict = {'Message ID': messageIDs,'Author ID': authorIDs, 'Message Body': messageBodys, 'Message Views': views, 'Message Kudos': kudos, 'Message Post Time': messagePostTimes} \n",
    "    \n",
    "df = pd.DataFrame(dict)"
   ]
  },
  {
   "cell_type": "code",
   "execution_count": 8,
   "metadata": {},
   "outputs": [
    {
     "data": {
      "text/html": [
       "<div>\n",
       "<style scoped>\n",
       "    .dataframe tbody tr th:only-of-type {\n",
       "        vertical-align: middle;\n",
       "    }\n",
       "\n",
       "    .dataframe tbody tr th {\n",
       "        vertical-align: top;\n",
       "    }\n",
       "\n",
       "    .dataframe thead th {\n",
       "        text-align: right;\n",
       "    }\n",
       "</style>\n",
       "<table border=\"1\" class=\"dataframe\">\n",
       "  <thead>\n",
       "    <tr style=\"text-align: right;\">\n",
       "      <th></th>\n",
       "      <th>Message ID</th>\n",
       "      <th>Author ID</th>\n",
       "      <th>Message Body</th>\n",
       "      <th>Message Views</th>\n",
       "      <th>Message Kudos</th>\n",
       "      <th>Message Post Time</th>\n",
       "    </tr>\n",
       "  </thead>\n",
       "  <tbody>\n",
       "    <tr>\n",
       "      <th>65750</th>\n",
       "      <td>99987</td>\n",
       "      <td>3030</td>\n",
       "      <td>&lt;P&gt;Hey &lt;a href=\"http://forums.au.reachout.com/...</td>\n",
       "      <td>451</td>\n",
       "      <td>0</td>\n",
       "      <td>2014-08-22T10:28:17+00:00</td>\n",
       "    </tr>\n",
       "    <tr>\n",
       "      <th>65751</th>\n",
       "      <td>99989</td>\n",
       "      <td>292</td>\n",
       "      <td>&lt;P&gt;&lt;a href=\"http://forums.au.reachout.com/t5/u...</td>\n",
       "      <td>745</td>\n",
       "      <td>0</td>\n",
       "      <td>2014-08-22T10:29:15+00:00</td>\n",
       "    </tr>\n",
       "    <tr>\n",
       "      <th>65752</th>\n",
       "      <td>99993</td>\n",
       "      <td>3030</td>\n",
       "      <td>&lt;P&gt;Hey &lt;a href=\"http://forums.au.reachout.com/...</td>\n",
       "      <td>489</td>\n",
       "      <td>1</td>\n",
       "      <td>2014-08-22T10:35:29+00:00</td>\n",
       "    </tr>\n",
       "    <tr>\n",
       "      <th>65753</th>\n",
       "      <td>99995</td>\n",
       "      <td>292</td>\n",
       "      <td>&lt;P&gt;Mwahahaha&amp;nbsp;&lt;img class=\"emoticon emotico...</td>\n",
       "      <td>426</td>\n",
       "      <td>0</td>\n",
       "      <td>2014-08-22T10:39:06+00:00</td>\n",
       "    </tr>\n",
       "    <tr>\n",
       "      <th>65754</th>\n",
       "      <td>99999</td>\n",
       "      <td>5111</td>\n",
       "      <td>I am looking forward to a new job oppurtunity,...</td>\n",
       "      <td>885</td>\n",
       "      <td>1</td>\n",
       "      <td>2014-08-22T10:44:38+00:00</td>\n",
       "    </tr>\n",
       "  </tbody>\n",
       "</table>\n",
       "</div>"
      ],
      "text/plain": [
       "      Message ID Author ID                                       Message Body  \\\n",
       "65750      99987      3030  <P>Hey <a href=\"http://forums.au.reachout.com/...   \n",
       "65751      99989       292  <P><a href=\"http://forums.au.reachout.com/t5/u...   \n",
       "65752      99993      3030  <P>Hey <a href=\"http://forums.au.reachout.com/...   \n",
       "65753      99995       292  <P>Mwahahaha&nbsp;<img class=\"emoticon emotico...   \n",
       "65754      99999      5111  I am looking forward to a new job oppurtunity,...   \n",
       "\n",
       "      Message Views Message Kudos          Message Post Time  \n",
       "65750           451             0  2014-08-22T10:28:17+00:00  \n",
       "65751           745             0  2014-08-22T10:29:15+00:00  \n",
       "65752           489             1  2014-08-22T10:35:29+00:00  \n",
       "65753           426             0  2014-08-22T10:39:06+00:00  \n",
       "65754           885             1  2014-08-22T10:44:38+00:00  "
      ]
     },
     "execution_count": 8,
     "metadata": {},
     "output_type": "execute_result"
    }
   ],
   "source": [
    "df.tail()"
   ]
  },
  {
   "cell_type": "code",
   "execution_count": 9,
   "metadata": {},
   "outputs": [
    {
     "name": "stdout",
     "output_type": "stream",
     "text": [
      "<class 'pandas.core.frame.DataFrame'>\n",
      "RangeIndex: 65755 entries, 0 to 65754\n",
      "Data columns (total 6 columns):\n",
      " #   Column             Non-Null Count  Dtype \n",
      "---  ------             --------------  ----- \n",
      " 0   Message ID         65755 non-null  object\n",
      " 1   Author ID          65755 non-null  object\n",
      " 2   Message Body       64371 non-null  object\n",
      " 3   Message Views      65755 non-null  object\n",
      " 4   Message Kudos      65755 non-null  object\n",
      " 5   Message Post Time  65755 non-null  object\n",
      "dtypes: object(6)\n",
      "memory usage: 3.0+ MB\n"
     ]
    }
   ],
   "source": [
    "df.info()"
   ]
  },
  {
   "cell_type": "code",
   "execution_count": 10,
   "metadata": {},
   "outputs": [
    {
     "data": {
      "text/plain": [
       "'<BLOCKQUOTE><HR />FindingHope wrote:<BR />\\n<P>Cassie: So my uncle was in a psych ward for about a couple of months and then when discharged, found out he was fired from his job today. It sucks that companies can have lack of compassion for people who are ill <img class=\"emoticon emoticon-smileysad\" id=\"smileysad\" src=\"http://inspire.i.lithium.com/i/smilies/16x16_smiley-sad.png\" alt=\"Smiley Sad\" title=\"Smiley Sad\" /></P>\\n<HR /></BLOCKQUOTE>\\n<P>@Cassie: That seriously sucks. <img class=\"emoticon emoticon-smileysad\" id=\"smileysad\" src=\"http://inspire.i.lithium.com/i/smilies/16x16_smiley-sad.png\" alt=\"Smiley Sad\" title=\"Smiley Sad\" /> It can be so sad when people don\\'t try to take the time to understand the situation and when stigma comes into it. I hope he can find a new job without too much hassle.&nbsp;</P>'"
      ]
     },
     "execution_count": 10,
     "metadata": {},
     "output_type": "execute_result"
    }
   ],
   "source": [
    "df['Message Body'][0]"
   ]
  },
  {
   "cell_type": "markdown",
   "metadata": {},
   "source": [
    "#### 1.2.2 Read-in TSV Files (labels and author rank)"
   ]
  },
  {
   "cell_type": "code",
   "execution_count": 11,
   "metadata": {},
   "outputs": [],
   "source": [
    "#Bring in classification of message\n",
    "df_label = pd.read_csv('I:/Project/clpsych17-data/clpsych17-data/data/training/labels.tsv', sep='\\t', names=['Message ID2','Label','Detail Label'])"
   ]
  },
  {
   "cell_type": "code",
   "execution_count": 12,
   "metadata": {},
   "outputs": [
    {
     "data": {
      "text/html": [
       "<div>\n",
       "<style scoped>\n",
       "    .dataframe tbody tr th:only-of-type {\n",
       "        vertical-align: middle;\n",
       "    }\n",
       "\n",
       "    .dataframe tbody tr th {\n",
       "        vertical-align: top;\n",
       "    }\n",
       "\n",
       "    .dataframe thead th {\n",
       "        text-align: right;\n",
       "    }\n",
       "</style>\n",
       "<table border=\"1\" class=\"dataframe\">\n",
       "  <thead>\n",
       "    <tr style=\"text-align: right;\">\n",
       "      <th></th>\n",
       "      <th>Message ID2</th>\n",
       "      <th>Label</th>\n",
       "      <th>Detail Label</th>\n",
       "    </tr>\n",
       "  </thead>\n",
       "  <tbody>\n",
       "    <tr>\n",
       "      <th>0</th>\n",
       "      <td>135267</td>\n",
       "      <td>green</td>\n",
       "      <td>allClear</td>\n",
       "    </tr>\n",
       "    <tr>\n",
       "      <th>1</th>\n",
       "      <td>135268</td>\n",
       "      <td>green</td>\n",
       "      <td>allClear</td>\n",
       "    </tr>\n",
       "    <tr>\n",
       "      <th>2</th>\n",
       "      <td>135276</td>\n",
       "      <td>green</td>\n",
       "      <td>allClear</td>\n",
       "    </tr>\n",
       "    <tr>\n",
       "      <th>3</th>\n",
       "      <td>135277</td>\n",
       "      <td>green</td>\n",
       "      <td>allClear</td>\n",
       "    </tr>\n",
       "    <tr>\n",
       "      <th>4</th>\n",
       "      <td>135278</td>\n",
       "      <td>green</td>\n",
       "      <td>allClear</td>\n",
       "    </tr>\n",
       "    <tr>\n",
       "      <th>...</th>\n",
       "      <td>...</td>\n",
       "      <td>...</td>\n",
       "      <td>...</td>\n",
       "    </tr>\n",
       "    <tr>\n",
       "      <th>1183</th>\n",
       "      <td>139559</td>\n",
       "      <td>amber</td>\n",
       "      <td>followupOk</td>\n",
       "    </tr>\n",
       "    <tr>\n",
       "      <th>1184</th>\n",
       "      <td>139560</td>\n",
       "      <td>green</td>\n",
       "      <td>allClear</td>\n",
       "    </tr>\n",
       "    <tr>\n",
       "      <th>1185</th>\n",
       "      <td>139562</td>\n",
       "      <td>red</td>\n",
       "      <td>currentAcuteDistress</td>\n",
       "    </tr>\n",
       "    <tr>\n",
       "      <th>1186</th>\n",
       "      <td>139565</td>\n",
       "      <td>green</td>\n",
       "      <td>allClear</td>\n",
       "    </tr>\n",
       "    <tr>\n",
       "      <th>1187</th>\n",
       "      <td>139568</td>\n",
       "      <td>green</td>\n",
       "      <td>allClear</td>\n",
       "    </tr>\n",
       "  </tbody>\n",
       "</table>\n",
       "<p>1188 rows × 3 columns</p>\n",
       "</div>"
      ],
      "text/plain": [
       "      Message ID2  Label          Detail Label\n",
       "0          135267  green              allClear\n",
       "1          135268  green              allClear\n",
       "2          135276  green              allClear\n",
       "3          135277  green              allClear\n",
       "4          135278  green              allClear\n",
       "...           ...    ...                   ...\n",
       "1183       139559  amber            followupOk\n",
       "1184       139560  green              allClear\n",
       "1185       139562    red  currentAcuteDistress\n",
       "1186       139565  green              allClear\n",
       "1187       139568  green              allClear\n",
       "\n",
       "[1188 rows x 3 columns]"
      ]
     },
     "execution_count": 12,
     "metadata": {},
     "output_type": "execute_result"
    }
   ],
   "source": [
    "df_label"
   ]
  },
  {
   "cell_type": "code",
   "execution_count": 13,
   "metadata": {},
   "outputs": [],
   "source": [
    "#Bring in author rankings\n",
    "df_author = pd.read_csv('I:/Project/clpsych17-data/clpsych17-data/data/training/author_rankings.tsv', sep='\\t', names=['Author ID2','Author Rank'])"
   ]
  },
  {
   "cell_type": "code",
   "execution_count": 14,
   "metadata": {},
   "outputs": [
    {
     "data": {
      "text/html": [
       "<div>\n",
       "<style scoped>\n",
       "    .dataframe tbody tr th:only-of-type {\n",
       "        vertical-align: middle;\n",
       "    }\n",
       "\n",
       "    .dataframe tbody tr th {\n",
       "        vertical-align: top;\n",
       "    }\n",
       "\n",
       "    .dataframe thead th {\n",
       "        text-align: right;\n",
       "    }\n",
       "</style>\n",
       "<table border=\"1\" class=\"dataframe\">\n",
       "  <thead>\n",
       "    <tr style=\"text-align: right;\">\n",
       "      <th></th>\n",
       "      <th>Author ID2</th>\n",
       "      <th>Author Rank</th>\n",
       "    </tr>\n",
       "  </thead>\n",
       "  <tbody>\n",
       "    <tr>\n",
       "      <th>0</th>\n",
       "      <td>10</td>\n",
       "      <td>Community Manager</td>\n",
       "    </tr>\n",
       "    <tr>\n",
       "      <th>1</th>\n",
       "      <td>36</td>\n",
       "      <td>Staff</td>\n",
       "    </tr>\n",
       "    <tr>\n",
       "      <th>2</th>\n",
       "      <td>40</td>\n",
       "      <td>Staff</td>\n",
       "    </tr>\n",
       "    <tr>\n",
       "      <th>3</th>\n",
       "      <td>50</td>\n",
       "      <td>Rookie scribe</td>\n",
       "    </tr>\n",
       "    <tr>\n",
       "      <th>4</th>\n",
       "      <td>52</td>\n",
       "      <td>Community Manager</td>\n",
       "    </tr>\n",
       "    <tr>\n",
       "      <th>...</th>\n",
       "      <td>...</td>\n",
       "      <td>...</td>\n",
       "    </tr>\n",
       "    <tr>\n",
       "      <th>1644</th>\n",
       "      <td>6917</td>\n",
       "      <td>Visitor</td>\n",
       "    </tr>\n",
       "    <tr>\n",
       "      <th>1645</th>\n",
       "      <td>6930</td>\n",
       "      <td>Casual scribe</td>\n",
       "    </tr>\n",
       "    <tr>\n",
       "      <th>1646</th>\n",
       "      <td>6932</td>\n",
       "      <td>Rookie scribe</td>\n",
       "    </tr>\n",
       "    <tr>\n",
       "      <th>1647</th>\n",
       "      <td>6934</td>\n",
       "      <td>Rookie</td>\n",
       "    </tr>\n",
       "    <tr>\n",
       "      <th>1648</th>\n",
       "      <td>6935</td>\n",
       "      <td>Rookie scribe</td>\n",
       "    </tr>\n",
       "  </tbody>\n",
       "</table>\n",
       "<p>1649 rows × 2 columns</p>\n",
       "</div>"
      ],
      "text/plain": [
       "      Author ID2        Author Rank\n",
       "0             10  Community Manager\n",
       "1             36              Staff\n",
       "2             40              Staff\n",
       "3             50      Rookie scribe\n",
       "4             52  Community Manager\n",
       "...          ...                ...\n",
       "1644        6917            Visitor\n",
       "1645        6930      Casual scribe\n",
       "1646        6932      Rookie scribe\n",
       "1647        6934             Rookie\n",
       "1648        6935      Rookie scribe\n",
       "\n",
       "[1649 rows x 2 columns]"
      ]
     },
     "execution_count": 14,
     "metadata": {},
     "output_type": "execute_result"
    }
   ],
   "source": [
    "df_author"
   ]
  },
  {
   "cell_type": "code",
   "execution_count": 15,
   "metadata": {},
   "outputs": [
    {
     "name": "stdout",
     "output_type": "stream",
     "text": [
      "<class 'pandas.core.frame.DataFrame'>\n",
      "RangeIndex: 1649 entries, 0 to 1648\n",
      "Data columns (total 2 columns):\n",
      " #   Column       Non-Null Count  Dtype \n",
      "---  ------       --------------  ----- \n",
      " 0   Author ID2   1649 non-null   int64 \n",
      " 1   Author Rank  1649 non-null   object\n",
      "dtypes: int64(1), object(1)\n",
      "memory usage: 25.9+ KB\n"
     ]
    }
   ],
   "source": [
    "df_author.info()"
   ]
  },
  {
   "cell_type": "code",
   "execution_count": 16,
   "metadata": {},
   "outputs": [],
   "source": [
    "#Convert message ID and author to integer in order to merge with tab delimited files\n",
    "df['Message ID2']=df['Message ID'].astype(int)\n",
    "df['Author ID2']=df['Author ID'].astype(int)"
   ]
  },
  {
   "cell_type": "code",
   "execution_count": 17,
   "metadata": {},
   "outputs": [],
   "source": [
    "#Merge message text with classification\n",
    "df_new1=df.merge(df_label, how='inner', on='Message ID2')"
   ]
  },
  {
   "cell_type": "code",
   "execution_count": 18,
   "metadata": {},
   "outputs": [
    {
     "name": "stdout",
     "output_type": "stream",
     "text": [
      "<class 'pandas.core.frame.DataFrame'>\n",
      "RangeIndex: 1188 entries, 0 to 1187\n",
      "Data columns (total 11 columns):\n",
      " #   Column             Non-Null Count  Dtype \n",
      "---  ------             --------------  ----- \n",
      " 0   Message ID         1188 non-null   object\n",
      " 1   Author ID          1188 non-null   object\n",
      " 2   Message Body       1188 non-null   object\n",
      " 3   Message Views      1188 non-null   object\n",
      " 4   Message Kudos      1188 non-null   object\n",
      " 5   Message Post Time  1188 non-null   object\n",
      " 6   Message ID2        1188 non-null   int32 \n",
      " 7   Author ID2         1188 non-null   int32 \n",
      " 8   Label              1188 non-null   object\n",
      " 9   Detail Label       1188 non-null   object\n",
      " 10  Author Rank        1188 non-null   object\n",
      "dtypes: int32(2), object(9)\n",
      "memory usage: 92.9+ KB\n"
     ]
    }
   ],
   "source": [
    "#Merge message data (with label) with author ID\n",
    "df_new=df_new1.merge(df_author, how='left', on='Author ID2')\n",
    "df_new.info()"
   ]
  },
  {
   "cell_type": "code",
   "execution_count": 19,
   "metadata": {},
   "outputs": [
    {
     "data": {
      "text/html": [
       "<div>\n",
       "<style scoped>\n",
       "    .dataframe tbody tr th:only-of-type {\n",
       "        vertical-align: middle;\n",
       "    }\n",
       "\n",
       "    .dataframe tbody tr th {\n",
       "        vertical-align: top;\n",
       "    }\n",
       "\n",
       "    .dataframe thead th {\n",
       "        text-align: right;\n",
       "    }\n",
       "</style>\n",
       "<table border=\"1\" class=\"dataframe\">\n",
       "  <thead>\n",
       "    <tr style=\"text-align: right;\">\n",
       "      <th></th>\n",
       "      <th>Message ID</th>\n",
       "      <th>Author ID</th>\n",
       "      <th>Message Body</th>\n",
       "      <th>Message Views</th>\n",
       "      <th>Message Kudos</th>\n",
       "      <th>Message Post Time</th>\n",
       "      <th>Message ID2</th>\n",
       "      <th>Author ID2</th>\n",
       "      <th>Label</th>\n",
       "      <th>Detail Label</th>\n",
       "      <th>Author Rank</th>\n",
       "    </tr>\n",
       "  </thead>\n",
       "  <tbody>\n",
       "    <tr>\n",
       "      <th>7</th>\n",
       "      <td>135284</td>\n",
       "      <td>5155</td>\n",
       "      <td>Redhead: aaaaarrrrgggg getting really sick of ...</td>\n",
       "      <td>201</td>\n",
       "      <td>0</td>\n",
       "      <td>2015-04-24T06:23:04+00:00</td>\n",
       "      <td>135284</td>\n",
       "      <td>5155</td>\n",
       "      <td>crisis</td>\n",
       "      <td>crisis</td>\n",
       "      <td>Uber contributor</td>\n",
       "    </tr>\n",
       "  </tbody>\n",
       "</table>\n",
       "</div>"
      ],
      "text/plain": [
       "  Message ID Author ID                                       Message Body  \\\n",
       "7     135284      5155  Redhead: aaaaarrrrgggg getting really sick of ...   \n",
       "\n",
       "  Message Views Message Kudos          Message Post Time  Message ID2  \\\n",
       "7           201             0  2015-04-24T06:23:04+00:00       135284   \n",
       "\n",
       "   Author ID2   Label Detail Label       Author Rank  \n",
       "7        5155  crisis       crisis  Uber contributor  "
      ]
     },
     "execution_count": 19,
     "metadata": {},
     "output_type": "execute_result"
    }
   ],
   "source": [
    "#Check one record on the merge\n",
    "df_new[df_new['Message ID2']==135284]"
   ]
  },
  {
   "cell_type": "code",
   "execution_count": null,
   "metadata": {},
   "outputs": [],
   "source": []
  },
  {
   "cell_type": "markdown",
   "metadata": {},
   "source": [
    "## 2. Data Pre-processing\n",
    "In this section I pre-process the data."
   ]
  },
  {
   "cell_type": "markdown",
   "metadata": {},
   "source": [
    "### 2.1 Posts for ReachOut.com Staff\n",
    "In this section, I look into the annotated posts for ReacOut.com Staff to see if they should be included in the dataset. I conclude that they should be included since there were 2 moderators with \"Amber\" posts and since moderators can be trained volunteers, it could be that the moderators themselves need help. The content of these 2 posts was indeed concerning, so I think we should categorize all posts including the staff.\n",
    "\n",
    "There were 97 posts from staff members that were annotated and only 2 were classified as \"Amber.\" I think that the addition 95 \"Green\" posts will provide good positive examples of \"Green\" posts, so it is also good to leave these in the dataset."
   ]
  },
  {
   "cell_type": "code",
   "execution_count": 20,
   "metadata": {},
   "outputs": [
    {
     "data": {
      "text/plain": [
       "Author Rank\n",
       "Uber contributor             680\n",
       "Star contributor             234\n",
       "Casual scribe                 74\n",
       "Mod                           49\n",
       "Mod Squad                     43\n",
       "Rookie scribe                 35\n",
       "Super frequent scribe         27\n",
       "Frequent scribe               22\n",
       "Visitor                        7\n",
       "Rookie                         7\n",
       "Special Guest Contributor      5\n",
       "Post Mod                       2\n",
       "Youth Ambassador               2\n",
       "Frequent Visitor               1\n",
       "Name: count, dtype: int64"
      ]
     },
     "execution_count": 20,
     "metadata": {},
     "output_type": "execute_result"
    }
   ],
   "source": [
    "#Look at distribution of author rankings, see if annotations were done for staff\n",
    "df_new['Author Rank'].value_counts()"
   ]
  },
  {
   "cell_type": "code",
   "execution_count": 21,
   "metadata": {},
   "outputs": [
    {
     "data": {
      "text/plain": [
       "<Axes: xlabel='Author Rank'>"
      ]
     },
     "execution_count": 21,
     "metadata": {},
     "output_type": "execute_result"
    },
    {
     "data": {
      "image/png": "[encoded data removed]",
      "text/plain": [
       "<Figure size 640x480 with 1 Axes>"
      ]
     },
     "metadata": {},
     "output_type": "display_data"
    }
   ],
   "source": [
    "#Look at break-down of categories\n",
    "df_new['Author Rank'].value_counts().plot(kind='bar')"
   ]
  },
  {
   "cell_type": "code",
   "execution_count": 22,
   "metadata": {},
   "outputs": [
    {
     "data": {
      "text/plain": [
       "Label\n",
       "green    95\n",
       "amber     2\n",
       "Name: count, dtype: int64"
      ]
     },
     "execution_count": 22,
     "metadata": {},
     "output_type": "execute_result"
    }
   ],
   "source": [
    "#Look at records for those who work at ReachOut (Community Manager, Mod, Mod in Training, Mod Squad, Reachout.com Crew, Special Guest Contributor, Staff)\n",
    "reachout_staff = ['Community Manager', 'Mod', 'Mod in Training', 'Mod Squad', 'Reachout.com Crew', 'Special Guest Contributor', 'Staff']\n",
    "df_staff=df_new[df_new['Author Rank'].isin(reachout_staff)]\n",
    "df_staff['Label'].value_counts()"
   ]
  },
  {
   "cell_type": "code",
   "execution_count": 23,
   "metadata": {},
   "outputs": [
    {
     "data": {
      "text/plain": [
       "601     Hey guys,<BR /><BR />Long time no see. <img class=\"emoticon emoticon-smileytongue\" id=\"smileytongue\" src=\"http://inspire.i.lithium.com/i/smilies/16x16_smiley-tongue.png\" alt=\"Smiley Tongue\" title=\"Smiley Tongue\" /> Been busy with Assignments and have been binging on Netflix and thinking a lot about what both my psychologist and Dr said.<BR /><BR />They pretty much hate all these new fandangle terms for sexuality and pretty much don't believe in the term demi. They think I am romantically and sexually repressed. But I've had relationships and crushes since the incident they are referring to. So confused. Especially when it came from someone I trust. Not at all what I was expecting.<BR /><BR />Just got to remember that only I can define my sexuality.\n",
       "1025                                                                                                                                                                                                                                                                                                                                            Negative: I seem to have misplaced my meds on Friday and now I can't find them. Opps!<BR />Positive: I haven't really noticed anything bad at the moment, in fact I am feeling quite happy! Just need to remember not to create any sudden movements.<BR /><BR />Negative: My abuse has been affecting me more than normal.<BR />Positive: I know what the trigger was and know that it is a once every 2 year thing, and it is for my health.\n",
       "Name: Message Body, dtype: object"
      ]
     },
     "execution_count": 23,
     "metadata": {},
     "output_type": "execute_result"
    }
   ],
   "source": [
    "pd.set_option('display.max_colwidth', None)\n",
    "df_staff[df_staff['Label']=='amber']['Message Body']"
   ]
  },
  {
   "cell_type": "code",
   "execution_count": 24,
   "metadata": {},
   "outputs": [
    {
     "data": {
      "text/plain": [
       "601     Mod\n",
       "1025    Mod\n",
       "Name: Author Rank, dtype: object"
      ]
     },
     "execution_count": 24,
     "metadata": {},
     "output_type": "execute_result"
    }
   ],
   "source": [
    "df_staff[df_staff['Label']=='amber']['Author Rank']"
   ]
  },
  {
   "cell_type": "code",
   "execution_count": 25,
   "metadata": {},
   "outputs": [],
   "source": [
    "#Use this code if we want to remove ReachOut.com staff\n",
    "#test_df = df_new[~df_new['Author Rank'].isin(reachout_staff)]\n",
    "#test_df['Author Rank'].value_counts()"
   ]
  },
  {
   "cell_type": "markdown",
   "metadata": {},
   "source": [
    "### 2.2 Isolate Emojis\n",
    "In this section, I pull out the emoji information from the message body so it can be included as a feature. I intend to remove the HTML tags from the message body, but this also removes the emoji information. I wanted to keep that information because I think it could speak to emotional distress or stability. I didn't just keep the description of the emoji but also the prefix text **\"emoticon-\"** so that the model would treat this as emoji information."
   ]
  },
  {
   "cell_type": "code",
   "execution_count": 26,
   "metadata": {},
   "outputs": [],
   "source": [
    "#Isolate emoji text\n",
    "#Find the position of <img\n",
    "df_new['pos_emoji'] = df_new['Message Body'].str.find('<img')\n",
    "\n",
    "#Use position to slice using a lambda function, this is the portion of the emoji line I am interested in\n",
    "#Originally had x['pos_emoji'] thru the end of the line to confirm that there was no additiona information needed\n",
    "df_new['emoji_text_full'] = df_new.apply(lambda x: x['Message Body'][x['pos_emoji']+20:x['pos_emoji']+50], axis=1)\n",
    "\n",
    "#Find the end of the emoji string\n",
    "df_new['end_pos_emoji'] =  df_new['emoji_text_full'].str.find('\"')\n",
    "\n",
    "#Slice and cut-off remaining emoji text\n",
    "df_new['emoji_text'] = df_new.apply(lambda x: x['emoji_text_full'][0:x['end_pos_emoji']], axis=1)\n",
    "\n",
    "#Look at the distribution of emojis in training data\n",
    "emoji_data=df_new[df_new['pos_emoji']>0]"
   ]
  },
  {
   "cell_type": "code",
   "execution_count": 27,
   "metadata": {},
   "outputs": [],
   "source": [
    "#Remove emoji text if no emojis were used in the message\n",
    "df_new['Emoji Text'] = df_new.apply(lambda x: x['emoji_text'] if x['pos_emoji']>=0 else '', axis=1)"
   ]
  },
  {
   "cell_type": "code",
   "execution_count": 28,
   "metadata": {},
   "outputs": [
    {
     "data": {
      "text/plain": [
       "Emoji Text\n",
       "                               915\n",
       " emoticon-smileyhappy          138\n",
       " emoticon-smileysad             41\n",
       " emoticon-smileyvery-happy      34\n",
       " emoticon-smileytongue          31\n",
       " emoticon-smileywink             6\n",
       " emoticon-heart                  5\n",
       " emoticon-smileysurprised        4\n",
       " emoticon-cathappy               2\n",
       " emoticon-smileyfrustrated       2\n",
       " emoticon-smileyindifferent      2\n",
       " emoticon-manmad                 1\n",
       " emoticon-manfrustrated          1\n",
       " emoticon-manvery-happy          1\n",
       " emoticon-womanlol               1\n",
       " emoticon-smileymad              1\n",
       " emoticon-cattongue              1\n",
       " emoticon-catsad                 1\n",
       " emoticon-catvery-happy          1\n",
       "Name: count, dtype: int64"
      ]
     },
     "execution_count": 28,
     "metadata": {},
     "output_type": "execute_result"
    }
   ],
   "source": [
    "df_new['Emoji Text'].value_counts()"
   ]
  },
  {
   "cell_type": "code",
   "execution_count": 29,
   "metadata": {},
   "outputs": [
    {
     "data": {
      "text/plain": [
       "<Axes: xlabel='Emoji Text'>"
      ]
     },
     "execution_count": 29,
     "metadata": {},
     "output_type": "execute_result"
    },
    {
     "data": {
      "image/png": "[encoded data removed]",
      "text/plain": [
       "<Figure size 640x480 with 1 Axes>"
      ]
     },
     "metadata": {},
     "output_type": "display_data"
    }
   ],
   "source": [
    "df_new['Emoji Text'].value_counts().plot(kind='bar')"
   ]
  },
  {
   "cell_type": "markdown",
   "metadata": {},
   "source": [
    "### 2.3 Add Date and Time Features\n",
    "In this section, I use the date/time that the post was made to derive features that I think may be important:\n",
    "\n",
    "- **Hour**: The hour that the post was made. Studies show that suicides are more prevelant between midnight and 6 am.\n",
    "- **Day of Week**: The day of the week that the post was made. Studies show that suicides are more likely to occurr on Sundays and Mondays.\n",
    "- **Month**: The month that the post was made. I have not researched this, but imagine that suicides may be higher around the holidays"
   ]
  },
  {
   "cell_type": "code",
   "execution_count": 30,
   "metadata": {},
   "outputs": [
    {
     "name": "stdout",
     "output_type": "stream",
     "text": [
      "           Message Post Time   Datetime        Date      Time Hour  \\\n",
      "0  2015-04-24T03:49:50+00:00 2015-04-24  2015-04-24  03:49:50   03   \n",
      "1  2015-04-24T04:01:22+00:00 2015-04-24  2015-04-24  04:01:22   04   \n",
      "2  2015-04-24T04:43:34+00:00 2015-04-24  2015-04-24  04:43:34   04   \n",
      "\n",
      "  Day of Week  Month  \n",
      "0      Friday  April  \n",
      "1      Friday  April  \n",
      "2      Friday  April  \n"
     ]
    }
   ],
   "source": [
    "#Create date and time variables to be added as features\n",
    "import datetime\n",
    "import calendar\n",
    "\n",
    "# datetime in string format for may 25 1999\n",
    "input = '2021/05/25'\n",
    "format = '%Y/%m/%d'\n",
    " \n",
    "#Get message date and time as separate variables\n",
    "df_new['pos_time'] = df_new['Message Post Time'].str.find('T')\n",
    "df_new['pos_plus'] = df_new['Message Post Time'].str.find('+')\n",
    "\n",
    "#Use position to slice and get date only\n",
    "df_new['Date'] = df_new.apply(lambda x: x['Message Post Time'][0:x['pos_time']], axis=1)\n",
    "\n",
    "df_new['Time'] = df_new.apply(lambda x: x['Message Post Time'][x['pos_time']+1:x['pos_plus']], axis=1)\n",
    "df_new['Hour'] = df_new.apply(lambda x: x['Time'][0:2], axis=1)\n",
    "\n",
    "# convert from string format to datetime format\n",
    "df_new['Datetime'] = pd.to_datetime(df_new['Date'], format='%Y-%m-%d')\n",
    "df_new['Month'] = df_new.apply(lambda x: x['Datetime'].strftime(\"%B\"), axis=1)\n",
    "\n",
    "#Monday=0, Sunday=6\n",
    "df_new['Day of Week'] = df_new['Datetime'].dt.dayofweek\n",
    "\n",
    "#Replace the numeric day of the week with the name of the day\n",
    "daynames = {0:'Monday', 1:'Tuesday', 2:'Wednesday', 3:'Thursday', 4:'Friday', 5:'Saturday', 6:'Sunday'}\n",
    "df_new['Day of Week'].replace(daynames, inplace=True)\n",
    "\n",
    "#Look at results to confirm accuracy\n",
    "print(df_new[['Message Post Time', 'Datetime', 'Date', 'Time','Hour','Day of Week','Month']].head(3))\n",
    "\n",
    "#Look at times\n",
    "#df_new['what_time'] = df_new['Message Post Time'].str.find('T2')\n",
    "#df_new[df_new['what_time']>0]"
   ]
  },
  {
   "cell_type": "markdown",
   "metadata": {},
   "source": [
    "### 2.4 Remove HTML Tags from Text\n",
    "In this section, I remove HTML tags from the text to make it more readable. I have also retained the raw text as I intend to compare the performance of my LLMs on text with and without HTML tags."
   ]
  },
  {
   "cell_type": "code",
   "execution_count": 31,
   "metadata": {},
   "outputs": [
    {
     "data": {
      "text/html": [
       "<div>\n",
       "<style scoped>\n",
       "    .dataframe tbody tr th:only-of-type {\n",
       "        vertical-align: middle;\n",
       "    }\n",
       "\n",
       "    .dataframe tbody tr th {\n",
       "        vertical-align: top;\n",
       "    }\n",
       "\n",
       "    .dataframe thead th {\n",
       "        text-align: right;\n",
       "    }\n",
       "</style>\n",
       "<table border=\"1\" class=\"dataframe\">\n",
       "  <thead>\n",
       "    <tr style=\"text-align: right;\">\n",
       "      <th></th>\n",
       "      <th>Message ID2</th>\n",
       "      <th>Author ID2</th>\n",
       "      <th>Label</th>\n",
       "      <th>Author Rank</th>\n",
       "      <th>Message Body</th>\n",
       "      <th>Emoji Text</th>\n",
       "      <th>Day of Week</th>\n",
       "      <th>Hour</th>\n",
       "      <th>Date</th>\n",
       "      <th>Datetime</th>\n",
       "      <th>Month</th>\n",
       "      <th>Time</th>\n",
       "      <th>Message Views</th>\n",
       "      <th>Message Kudos</th>\n",
       "    </tr>\n",
       "  </thead>\n",
       "  <tbody>\n",
       "    <tr>\n",
       "      <th>1186</th>\n",
       "      <td>139565</td>\n",
       "      <td>5155</td>\n",
       "      <td>green</td>\n",
       "      <td>Uber contributor</td>\n",
       "      <td>Looking forward to seeing my aunt tomorrow who I haven't seen in years, she is coming to Tassie for work and taking me out for dinner. Should be great.</td>\n",
       "      <td></td>\n",
       "      <td>Sunday</td>\n",
       "      <td>12</td>\n",
       "      <td>2015-06-07</td>\n",
       "      <td>2015-06-07</td>\n",
       "      <td>June</td>\n",
       "      <td>12:16:09</td>\n",
       "      <td>214</td>\n",
       "      <td>2</td>\n",
       "    </tr>\n",
       "    <tr>\n",
       "      <th>1187</th>\n",
       "      <td>139568</td>\n",
       "      <td>5111</td>\n",
       "      <td>green</td>\n",
       "      <td>Uber contributor</td>\n",
       "      <td>Just keeping going minute by minute j</td>\n",
       "      <td></td>\n",
       "      <td>Sunday</td>\n",
       "      <td>12</td>\n",
       "      <td>2015-06-07</td>\n",
       "      <td>2015-06-07</td>\n",
       "      <td>June</td>\n",
       "      <td>12:46:45</td>\n",
       "      <td>144</td>\n",
       "      <td>0</td>\n",
       "    </tr>\n",
       "  </tbody>\n",
       "</table>\n",
       "</div>"
      ],
      "text/plain": [
       "      Message ID2  Author ID2  Label       Author Rank  \\\n",
       "1186       139565        5155  green  Uber contributor   \n",
       "1187       139568        5111  green  Uber contributor   \n",
       "\n",
       "                                                                                                                                                 Message Body  \\\n",
       "1186  Looking forward to seeing my aunt tomorrow who I haven't seen in years, she is coming to Tassie for work and taking me out for dinner. Should be great.   \n",
       "1187                                                                                                                    Just keeping going minute by minute j   \n",
       "\n",
       "     Emoji Text Day of Week Hour        Date   Datetime Month      Time  \\\n",
       "1186                 Sunday   12  2015-06-07 2015-06-07  June  12:16:09   \n",
       "1187                 Sunday   12  2015-06-07 2015-06-07  June  12:46:45   \n",
       "\n",
       "     Message Views Message Kudos  \n",
       "1186           214             2  \n",
       "1187           144             0  "
      ]
     },
     "execution_count": 31,
     "metadata": {},
     "output_type": "execute_result"
    }
   ],
   "source": [
    "#Drop variables used for derivations and only keep variables of interest\n",
    "df_red=df_new[['Message ID2', 'Author ID2', 'Label', 'Author Rank', 'Message Body', 'Emoji Text', 'Day of Week', 'Hour', 'Date', 'Datetime', 'Month', 'Time', 'Message Views', 'Message Kudos']]\n",
    "df_red.tail((2))"
   ]
  },
  {
   "cell_type": "code",
   "execution_count": 32,
   "metadata": {},
   "outputs": [
    {
     "data": {
      "text/html": [
       "<div>\n",
       "<style scoped>\n",
       "    .dataframe tbody tr th:only-of-type {\n",
       "        vertical-align: middle;\n",
       "    }\n",
       "\n",
       "    .dataframe tbody tr th {\n",
       "        vertical-align: top;\n",
       "    }\n",
       "\n",
       "    .dataframe thead th {\n",
       "        text-align: right;\n",
       "    }\n",
       "</style>\n",
       "<table border=\"1\" class=\"dataframe\">\n",
       "  <thead>\n",
       "    <tr style=\"text-align: right;\">\n",
       "      <th></th>\n",
       "      <th>Message ID2</th>\n",
       "      <th>Author ID2</th>\n",
       "      <th>Label</th>\n",
       "      <th>Author Rank</th>\n",
       "      <th>Message Body</th>\n",
       "      <th>Emoji Text</th>\n",
       "      <th>Day of Week</th>\n",
       "      <th>Hour</th>\n",
       "      <th>Date</th>\n",
       "      <th>Datetime</th>\n",
       "      <th>Month</th>\n",
       "      <th>Time</th>\n",
       "      <th>Message Views</th>\n",
       "      <th>Message Kudos</th>\n",
       "      <th>Message Body no HTML</th>\n",
       "    </tr>\n",
       "  </thead>\n",
       "  <tbody>\n",
       "    <tr>\n",
       "      <th>0</th>\n",
       "      <td>135267</td>\n",
       "      <td>5111</td>\n",
       "      <td>green</td>\n",
       "      <td>Uber contributor</td>\n",
       "      <td>&lt;P&gt;JAN&lt;BR /&gt; &lt;BR /&gt;FEB&lt;BR /&gt; &lt;BR /&gt;MAR&lt;BR /&gt; &lt;BR /&gt;APR&lt;/P&gt;\\n&lt;P&gt;17th: - J95!&amp;nbsp;&lt;BR /&gt; &lt;BR /&gt;MAY&lt;BR /&gt; &lt;BR /&gt;JUN&lt;BR /&gt; &lt;BR /&gt;JUL&lt;BR /&gt;19th: Sophie!!&lt;BR /&gt; &lt;BR /&gt;AUG&lt;BR /&gt; &lt;BR /&gt;SEP&lt;BR /&gt; &lt;BR /&gt;OCT&lt;BR /&gt; &lt;BR /&gt;NOV &lt;BR /&gt; &lt;BR /&gt;DEC&lt;/P&gt;</td>\n",
       "      <td></td>\n",
       "      <td>Friday</td>\n",
       "      <td>03</td>\n",
       "      <td>2015-04-24</td>\n",
       "      <td>2015-04-24</td>\n",
       "      <td>April</td>\n",
       "      <td>03:49:50</td>\n",
       "      <td>519</td>\n",
       "      <td>0</td>\n",
       "      <td>JAN FEB MAR APR17th: - J95! MAY JUN JUL19th: Sophie!! AUG SEP OCT NOV  DEC</td>\n",
       "    </tr>\n",
       "    <tr>\n",
       "      <th>1</th>\n",
       "      <td>135268</td>\n",
       "      <td>5111</td>\n",
       "      <td>green</td>\n",
       "      <td>Uber contributor</td>\n",
       "      <td>&lt;P&gt;&lt;div class=\"video-embed-center video-embed-youtube\"&gt;&lt;iframe src=\"http://www.youtube.com/embed/K_EjSuYWzxA\" width=\"320\" height=\"265\" frameborder=\"0\" allowfullscreen=\"true\"&gt;&lt;/iframe&gt;&lt;/div&gt;&lt;/P&gt;\\n&lt;P&gt;&amp;nbsp;&lt;/P&gt;\\n&lt;P&gt;Big Scary - Luck Now.&amp;nbsp;&lt;/P&gt;</td>\n",
       "      <td></td>\n",
       "      <td>Friday</td>\n",
       "      <td>04</td>\n",
       "      <td>2015-04-24</td>\n",
       "      <td>2015-04-24</td>\n",
       "      <td>April</td>\n",
       "      <td>04:01:22</td>\n",
       "      <td>207</td>\n",
       "      <td>0</td>\n",
       "      <td>Big Scary - Luck Now.</td>\n",
       "    </tr>\n",
       "  </tbody>\n",
       "</table>\n",
       "</div>"
      ],
      "text/plain": [
       "   Message ID2  Author ID2  Label       Author Rank  \\\n",
       "0       135267        5111  green  Uber contributor   \n",
       "1       135268        5111  green  Uber contributor   \n",
       "\n",
       "                                                                                                                                                                                                                                           Message Body  \\\n",
       "0            <P>JAN<BR /> <BR />FEB<BR /> <BR />MAR<BR /> <BR />APR</P>\\n<P>17th: - J95!&nbsp;<BR /> <BR />MAY<BR /> <BR />JUN<BR /> <BR />JUL<BR />19th: Sophie!!<BR /> <BR />AUG<BR /> <BR />SEP<BR /> <BR />OCT<BR /> <BR />NOV <BR /> <BR />DEC</P>   \n",
       "1  <P><div class=\"video-embed-center video-embed-youtube\"><iframe src=\"http://www.youtube.com/embed/K_EjSuYWzxA\" width=\"320\" height=\"265\" frameborder=\"0\" allowfullscreen=\"true\"></iframe></div></P>\\n<P>&nbsp;</P>\\n<P>Big Scary - Luck Now.&nbsp;</P>   \n",
       "\n",
       "  Emoji Text Day of Week Hour        Date   Datetime  Month      Time  \\\n",
       "0                 Friday   03  2015-04-24 2015-04-24  April  03:49:50   \n",
       "1                 Friday   04  2015-04-24 2015-04-24  April  04:01:22   \n",
       "\n",
       "  Message Views Message Kudos  \\\n",
       "0           519             0   \n",
       "1           207             0   \n",
       "\n",
       "                                                         Message Body no HTML  \n",
       "0  JAN FEB MAR APR17th: - J95! MAY JUN JUL19th: Sophie!! AUG SEP OCT NOV  DEC  \n",
       "1                                                       Big Scary - Luck Now.  "
      ]
     },
     "execution_count": 32,
     "metadata": {},
     "output_type": "execute_result"
    }
   ],
   "source": [
    "#Add variable for text without HTML tags\n",
    "#df_new2=df_new.replace(to_replace=\"<[^>]*>|\\n|&nbsp;\", value=\"\", regex=True)\n",
    "df_red['Message Body no HTML']=df_red['Message Body'].replace(to_replace=\"<[^>]*>|\\n|&nbsp;\", value=\"\", regex=True)\n",
    "df_red.head((2))"
   ]
  },
  {
   "cell_type": "code",
   "execution_count": 33,
   "metadata": {},
   "outputs": [
    {
     "data": {
      "text/plain": [
       "7    Redhead: aaaaarrrrgggg getting really sick of this hypomania. When will this end. getting so agitated, bored. And its raining so I can't even get out for a walk to calm down. what to do. Its starting to make me feel unsafe...<img class=\"emoticon emoticon-smileysad\" id=\"smileysad\" src=\"http://inspire.i.lithium.com/i/smilies/16x16_smiley-sad.png\" alt=\"Smiley Sad\" title=\"Smiley Sad\" /> sorry for being so negative again\n",
       "Name: Message Body, dtype: object"
      ]
     },
     "execution_count": 33,
     "metadata": {},
     "output_type": "execute_result"
    }
   ],
   "source": [
    "#Look at two observations to compare how the text with and without HTML tags looks\n",
    "pd.set_option('display.max_colwidth', None)\n",
    "df_red[df_red['Message ID2']==135284]['Message Body']"
   ]
  },
  {
   "cell_type": "code",
   "execution_count": 34,
   "metadata": {},
   "outputs": [
    {
     "data": {
      "text/plain": [
       "7    Redhead: aaaaarrrrgggg getting really sick of this hypomania. When will this end. getting so agitated, bored. And its raining so I can't even get out for a walk to calm down. what to do. Its starting to make me feel unsafe... sorry for being so negative again\n",
       "Name: Message Body no HTML, dtype: object"
      ]
     },
     "execution_count": 34,
     "metadata": {},
     "output_type": "execute_result"
    }
   ],
   "source": [
    "df_red[df_red['Message ID2']==135284]['Message Body no HTML']"
   ]
  },
  {
   "cell_type": "code",
   "execution_count": 35,
   "metadata": {},
   "outputs": [
    {
     "data": {
      "text/plain": [
       "7     emoticon-smileysad\n",
       "Name: Emoji Text, dtype: object"
      ]
     },
     "execution_count": 35,
     "metadata": {},
     "output_type": "execute_result"
    }
   ],
   "source": [
    "df_red[df_red['Message ID2']==135284]['Emoji Text']"
   ]
  },
  {
   "cell_type": "markdown",
   "metadata": {},
   "source": [
    "### 2.5 Map Labels to Numeric Values\n",
    "Some of the LLMs I intend to use need categories in numbers instead of text, so I create a new variable (Label Num) to contain this information."
   ]
  },
  {
   "cell_type": "code",
   "execution_count": 36,
   "metadata": {},
   "outputs": [],
   "source": [
    "#Map the label to a numerical value because this is needed for BERT instead of the text\n",
    "#to_rep = {'green': 0, 'amber': 1, 'red': 2, 'crisis': 3}\n",
    "to_num = {'green': 0, 'amber': 1, 'red': 2, 'crisis': 3}\n",
    "df_red['Label Num']=df_red['Label']\n",
    "df_red.replace({'Label Num': to_num}, inplace=True)"
   ]
  },
  {
   "cell_type": "markdown",
   "metadata": {},
   "source": [
    "### 2.6 Create Text + Features Variable\n",
    "The research I did indicated that prepending the additional features as text to the message body could improve the accuracy of my LLM. I added the following information to the beginning of the message text:\n",
    "\n",
    "- **Author Rank**: \"My author rank is XXXXX.\"\n",
    "- **Day**: \"It is XXXXX.\"\n",
    "- **Month**: \"The month is XXXXX.\"\n",
    "- **Emoji Text**: \"emoticon-XXXXXXXX.\"\n",
    "- **Views**: \"This post has XXXX views.\"\n",
    "- **Kudos**: \"This post has XXXX kudos.\""
   ]
  },
  {
   "cell_type": "code",
   "execution_count": 37,
   "metadata": {},
   "outputs": [
    {
     "name": "stdout",
     "output_type": "stream",
     "text": [
      "        Author Rank Day of Week Hour  Month Message Views Message Kudos  \\\n",
      "0  Uber contributor      Friday   03  April           519             0   \n",
      "\n",
      "                                                         Message Body no HTML  \\\n",
      "0  JAN FEB MAR APR17th: - J95! MAY JUN JUL19th: Sophie!! AUG SEP OCT NOV  DEC   \n",
      "\n",
      "                                                                                                                                                                                                                    Text and Features  \n",
      "0  My author rank is Uber contributor. I posted this on Friday. The time is 03 oclock. The month is April.  This post has 519 views. This post has 0 kudos.JAN FEB MAR APR17th: - J95! MAY JUN JUL19th: Sophie!! AUG SEP OCT NOV  DEC  \n"
     ]
    }
   ],
   "source": [
    "#Combine text and features\n",
    "df_red['Text and Features'] = \"My author rank is \" + df_red['Author Rank'] + \".\" \\\n",
    "                            + \" I posted this on \" + df_red['Day of Week'] +\".\" \\\n",
    "                            + \" The time is \" + df_red['Hour'] + \" oclock.\" \\\n",
    "                            + \" The month is \" + df_red['Month'] + \". \" \\\n",
    "                            + df_red['Emoji Text'] \\\n",
    "                            + \" This post has \" + df_red['Message Views'] + \" views.\" \\\n",
    "                            + \" This post has \" + df_red['Message Kudos'] + \" kudos.\" \\\n",
    "                            + df_red['Message Body no HTML']\n",
    "print(df_red[['Author Rank', 'Day of Week', 'Hour', 'Month','Message Views','Message Kudos','Message Body no HTML', 'Text and Features']].head(1))"
   ]
  },
  {
   "cell_type": "markdown",
   "metadata": {},
   "source": [
    "### 2.7 Split into Train and Validation\n",
    "I used a 90-10 split for training and validation data. For the CLPsych project, they provided a separate testing dataset. I intend to use their \"Training\" data as training and validation and then apply my final model to their \"Testing\" data. However, the code does refer to the validaiton dataset as \"test\" since I used code from previous homeworks and this is what I had called the validation dataset.\n",
    "\n",
    "After all my model tweaking and testing, I will apply the best LLM to the true testing dataset and check its accuracy."
   ]
  },
  {
   "cell_type": "code",
   "execution_count": 38,
   "metadata": {},
   "outputs": [],
   "source": [
    "#Separate data into test/train\n",
    "np.random.seed(42)\n",
    "test = df_red.sample(frac=0.1)\n",
    "train = df_red[~df_red.index.isin(test.index)]"
   ]
  },
  {
   "cell_type": "markdown",
   "metadata": {},
   "source": [
    "## 3 Baseline Classifiers\n",
    "In this section, I explore baseline classifiers which I will compare my classifiers against: Random, Majority, and XGBoost classifiers."
   ]
  },
  {
   "cell_type": "markdown",
   "metadata": {},
   "source": [
    "### 3.1 Random Classifier\n",
    "In this section, I test the accuarcy of a random classifier which assigns posts randomly to 1 of the 4 triage categories."
   ]
  },
  {
   "cell_type": "code",
   "execution_count": 40,
   "metadata": {},
   "outputs": [
    {
     "name": "stdout",
     "output_type": "stream",
     "text": [
      "Accuracy:  0.21008403361344538\n",
      "F1:  0.2665320909522884\n"
     ]
    }
   ],
   "source": [
    "from sklearn.metrics import f1_score\n",
    "\n",
    "type_list=['green','amber','red','crisis']\n",
    "test['Random_BL'] = np.random.choice(type_list, len(test))\n",
    "print(\"Accuracy: \", accuracy_score(test['Label'], test['Random_BL']))\n",
    "print(\"F1: \", f1_score(test['Label'], test['Random_BL'], average='weighted'))"
   ]
  },
  {
   "cell_type": "markdown",
   "metadata": {},
   "source": [
    "### 3.2 Majority Classifier\n",
    "In this section, I derive the majority classifier."
   ]
  },
  {
   "cell_type": "code",
   "execution_count": 41,
   "metadata": {},
   "outputs": [
    {
     "data": {
      "text/plain": [
       "Label\n",
       "green     715\n",
       "amber     296\n",
       "red       137\n",
       "crisis     40\n",
       "Name: count, dtype: int64"
      ]
     },
     "execution_count": 41,
     "metadata": {},
     "output_type": "execute_result"
    }
   ],
   "source": [
    "df_red['Label'].value_counts()"
   ]
  },
  {
   "cell_type": "code",
   "execution_count": 42,
   "metadata": {},
   "outputs": [
    {
     "data": {
      "text/plain": [
       "<Axes: xlabel='Label'>"
      ]
     },
     "execution_count": 42,
     "metadata": {},
     "output_type": "execute_result"
    },
    {
     "data": {
      "image/png": "[encoded data removed]",
      "text/plain": [
       "<Figure size 640x480 with 1 Axes>"
      ]
     },
     "metadata": {},
     "output_type": "display_data"
    }
   ],
   "source": [
    "#Look at break-down of categories\n",
    "df_red['Label'].value_counts().plot(kind='bar')"
   ]
  },
  {
   "cell_type": "code",
   "execution_count": 43,
   "metadata": {},
   "outputs": [
    {
     "name": "stdout",
     "output_type": "stream",
     "text": [
      "Accuracy:  0.6554621848739496\n",
      "F1:  0.5190461971590666\n"
     ]
    }
   ],
   "source": [
    "test['Majority_BL']='green'\n",
    "print(\"Accuracy: \", accuracy_score(test['Label'], test['Majority_BL']))\n",
    "print(\"F1: \", f1_score(test['Label'], test['Majority_BL'], average='weighted'))"
   ]
  },
  {
   "cell_type": "markdown",
   "metadata": {},
   "source": [
    "### 3.3 XGBoost Classifier\n",
    "In this section, I create a classification tree using XGBoost and the non-text features of the data. I then plot the feature importance and gain to see which are most important for predicting triage label. Message Views appears to be the most important features, but the most gain comes from the Message Kudos variable."
   ]
  },
  {
   "cell_type": "code",
   "execution_count": 44,
   "metadata": {},
   "outputs": [],
   "source": [
    "#XGBoost with the categorical non-text variables: Author Rank, Day, Month, Hour\n",
    "df_XG=df_red\n",
    "\n",
    "#Assign code to each unique category value\n",
    "df_XG[\"Author Rank\"] = df_XG[\"Author Rank\"].astype('category')\n",
    "df_XG[\"Day of Week\"] = df_XG[\"Day of Week\"].astype('category')\n",
    "df_XG[\"Month\"] = df_XG[\"Month\"].astype('category')\n",
    "\n",
    "#Replace strings with coded values\n",
    "df_XG[\"Author Rank\"] = df_XG[\"Author Rank\"].cat.codes\n",
    "df_XG[\"Day of Week\"] = df_XG[\"Day of Week\"].cat.codes\n",
    "df_XG[\"Month\"] = df_XG[\"Month\"].cat.codes"
   ]
  },
  {
   "cell_type": "code",
   "execution_count": 45,
   "metadata": {},
   "outputs": [],
   "source": [
    "#Convert numerical fields to float\n",
    "df_XG[\"Hour\"] = df_XG[\"Hour\"].astype('float')\n",
    "df_XG['Message Views'] = df_XG['Message Views'].astype('float')\n",
    "df_XG['Message Kudos'] = df_XG['Message Kudos'].astype('float')"
   ]
  },
  {
   "cell_type": "code",
   "execution_count": 46,
   "metadata": {},
   "outputs": [
    {
     "name": "stdout",
     "output_type": "stream",
     "text": [
      "  Training size: 1,069\n",
      "Validation size: 118\n"
     ]
    }
   ],
   "source": [
    "import random\n",
    "import numpy as np\n",
    "np.random.seed(42)\n",
    "\n",
    "# First, calculate the split sizes. 80% training, 10% validation, 10% test.\n",
    "train_size = int(0.9 * len(df_XG))\n",
    "val_size = int(0.1 * len(df_XG))\n",
    "\n",
    "# Create a list of indeces for all of the samples in the dataset.\n",
    "indeces = np.arange(0, len(df_XG))\n",
    "\n",
    "# Shuffle the indeces randomly.\n",
    "random.shuffle(indeces)\n",
    "\n",
    "# Get a list of indeces for each of the splits.\n",
    "train_idx = indeces[0:train_size]\n",
    "val_idx = indeces[train_size:(train_size + val_size)]\n",
    "\n",
    "# With these lists, we can now select the corresponding dataframe rows using, \n",
    "# e.g., train_df = data_df.iloc[train_idx] \n",
    "print('  Training size: {:,}'.format(train_size))\n",
    "print('Validation size: {:,}'.format(val_size))"
   ]
  },
  {
   "cell_type": "code",
   "execution_count": 47,
   "metadata": {},
   "outputs": [],
   "source": [
    "# Retrieve the labels for each of the splits.\n",
    "y_train = df_XG[\"Label Num\"].iloc[train_idx]\n",
    "y_val = df_XG[\"Label Num\"].iloc[val_idx]\n",
    "#y_test = df_XG[\"Label Num\"].iloc[test_idx]\n",
    "\n",
    "# Before selecting the inputs, remove text columns and the labels.\n",
    "df_XG= df_XG[['Author Rank','Day of Week','Month','Hour','Message Kudos', 'Message Views']]\n",
    "\n",
    "# Select the inputs for the different splits.\n",
    "X_train = df_XG.iloc[train_idx]\n",
    "X_val = df_XG.iloc[val_idx]"
   ]
  },
  {
   "cell_type": "code",
   "execution_count": 48,
   "metadata": {},
   "outputs": [
    {
     "name": "stdout",
     "output_type": "stream",
     "text": [
      "Using XGBoost on non-text features\n",
      "Accuracy:  0.5338983050847458\n",
      "F1:  0.48257410308756266\n"
     ]
    }
   ],
   "source": [
    "from xgboost import XGBClassifier\n",
    "\n",
    "# Create an instance of the classifier\n",
    "model = XGBClassifier()\n",
    "\n",
    "# Train it on the training set.\n",
    "model.fit(X_train, y_train)\n",
    "\n",
    "# Use the trained model to predict the labels for the test set.\n",
    "predictions = model.predict(X_val)\n",
    "\n",
    "# Calculate the accuracy.\n",
    "print('Using XGBoost on non-text features')\n",
    "print(\"Accuracy: \", accuracy_score(y_val, predictions))\n",
    "print(\"F1: \", f1_score(y_val, predictions, average='weighted'))"
   ]
  },
  {
   "cell_type": "code",
   "execution_count": 49,
   "metadata": {},
   "outputs": [
    {
     "data": {
      "image/png": "[encoded data removed]",
      "text/plain": [
       "<Figure size 640x480 with 1 Axes>"
      ]
     },
     "metadata": {},
     "output_type": "display_data"
    }
   ],
   "source": [
    "from xgboost import plot_importance\n",
    "from matplotlib import pyplot\n",
    "\n",
    "# plot feature importance\n",
    "plot_importance(model)\n",
    "\n",
    "pyplot.show()"
   ]
  },
  {
   "cell_type": "code",
   "execution_count": 50,
   "metadata": {},
   "outputs": [
    {
     "data": {
      "text/plain": [
       "([0, 1, 2, 3, 4, 5],\n",
       " [Text(0, 0, 'Author Rank'),\n",
       "  Text(1, 0, 'Day of Week'),\n",
       "  Text(2, 0, 'Month'),\n",
       "  Text(3, 0, 'Hour'),\n",
       "  Text(4, 0, 'Message Kudos'),\n",
       "  Text(5, 0, 'Message Views')])"
      ]
     },
     "execution_count": 50,
     "metadata": {},
     "output_type": "execute_result"
    },
    {
     "data": {
      "image/png": "[encoded data removed]",
      "text/plain": [
       "<Figure size 640x480 with 1 Axes>"
      ]
     },
     "metadata": {},
     "output_type": "display_data"
    }
   ],
   "source": [
    "feat_gains = model.get_booster().get_score(importance_type=\"gain\")\n",
    "\n",
    "pyplot.bar(feat_gains.keys(), feat_gains.values())\n",
    "pyplot.xticks(rotation = 90)"
   ]
  },
  {
   "cell_type": "markdown",
   "metadata": {},
   "source": [
    "## 4 BERT Classifier"
   ]
  },
  {
   "cell_type": "code",
   "execution_count": 51,
   "metadata": {},
   "outputs": [
    {
     "name": "stdout",
     "output_type": "stream",
     "text": [
      "Maximum length string is : Continuing... (because I went over the character limit... whoops)Neg:Rightio, that other negative. Around birthdays and christmas time gift giving seems like a natural part of the season. Which is why I don't feel as much guilt when given gifts but it's still there hanging over my shoulder, dragging me down. Because so often my family doesn't get it right and the gifts, they remain unused. A waste of money, just sitting there. Sometimes handed down but otherwise just wasted. And I feel at fault because they were for me, I should be thankful that I'm even receiving anything but all I feel is guilt and annoyance because my family just doesn't get me. I feel jealous of my younger cousin and brother who get cool things, things I would like, and I get the things my other cousin or sister would like. It's not right, socially, to be feeling jealous, guilt and annoyance in a 'jolly' season where I should be grateful, happy and... sombre? Humble even? And the worst part is I can't reprociate their gifts. I can't buy something for someone else without help because I just don't know people, not very well at least. Which makes me feel more guilty because all I can do is try to look happy and smile and say thankyou. Like I'm supposed to. Ugh, I want to give my families gifts but I can't because I don't know how, how to buy something for them they'd want or how to give without worrying about what they think. Whether they'd think or say 'oh you shouldn't have!' It's meant pleasantly, oh you shouldn't have bought something for me, I don't need/want anything! But it doesn't feel like it, it feels like they are downplaying your gift, saying your gesture is wasted.Pos:I am, obviously, way overthinking this. Your family, while completely messed up and slightly misunderstood, are slowly getting better. Their gifts are something you'd use. Not a selfish thought, but it means they are understanding you better and what I like, what I love. And I'm being a little silly saying jealousy isn't in the seasons. Of course it is, not a highly advertised part but as a growing teenage girl feeling misunderstood by her family it's totally acceptable to feel jealous of your male relatives getting stuff you'd be interested it. I'm sure plently of people would feel annoyed too, especially sibling rivalries, being generally annoyed with your family. And you are grateful, and if not happy, but appeased. I feel content with where I am, happy that I am with my family. And sure, I suck at gift giving but lots of people do. Only last year was my family close to accurate, giving my foriegn money and travel things in preparation for my journeys. While it also sucks people aren't always straight forward with what they want, I know what some of the people in my life like and enjoy. And that's okay. And the gesture isn't being downplayed by the phrase 'you shouldn't have'. Being honest I don't know what it means but I honestly don't remember encountering it myself and I doubt I will. It's just something I've read and seen/heard on the various things I've watched. Nothing to fear, and even if it does happen, tone and body language also mean a lot. The phrase itself seems somewhat harsh but with welcoming body language and a soft, happy tone it means something else.Neg:People are hard to talk to. And I can't manage very well. At all.Pos:Hahaha. I've created LIL for this, Laugh Inside Loudly, for those quiet moments when you are LOL but not making any sound (or even movement) to show laughter. Because I can assure myself that I have made at least two friends that I will hopefully stick with. Even more people that are more than aquantainces but I don't know if the word friend fits.Neg:I'm absolutely terrible at making my own friends. Just look at my track record. My best friend from early age, our families have been friends for a long time. My school friends, my mum introduced me to them and then left me there. A friend I made on my own, gone. More friends I've tried to make are gone. Even on my trip it felt like a friend I've made wasn't really a friend, just circumstances left us to be 'friends'.Pos:Hush darling, I would say to myself. I've changed a lot, still not the best judge of character but I'm getting better. And my friend who I sometimes feel like it a 'friend'. She's speaks another language natively, and she was with her other native friends. They are my friends too, but sometimes it can be difficult speaking another language and she just didn't want that. And we are in the same school and see each other a lot. I'm getting better at friend-making. And that's good.Neg:Walk in to the restuarant near-first. Sit down at a lovely, and empty, (four person) table. Watch patiently as people move around you and sit at other tables. Feel your hope for friends dim, seeyour three friends sit somewhere else. Watch as the restuarant is almost full, your table still empty. Sigh deeply because you feel alone. Force a smile as late people are directed to your lovely and still empty table.Every. Bloody. Time.Pos:Not always restuarants but it still hurts of course. But that's expected, I don't mind being by myself but alone... except I'm not alone, not really. I confessed to the people who sat down and they said, yeah it's the same with us. I couldn't help think that they still had each other while I was alone but, her meaning was clear, I'm not the only one it happens to.More Pos:You don't call out to people, so they can always think the seats are taken. It didn't always happen and it also happened less towards the end. You even had an amazing friend who saw you by yourself and moved to sit with you so you weren't alone. This negative probably won't leave for awhile, maybe not at all. It'll happen occassionally but what's important, and what shines it out and throws it in that 'do not look, listen or touch' drawer is that you do have friends. People who will sit with you, or just general people who will if you encourage. I'm shy, reserved, people might think I want to be alone and leave it at that. I have friends who will sit with me and even if they don't, they're still willing another time.Neg:It seems to be taking me forever to actually fall asleep, which is becoming increasingly annoying. My head won't stop running, it won't even quiet down, and I just toss and turn for close to an hour.Pos:It's a pleasing feeling to wake up in the morning (except to alarms but we all know that feeling ) knowing that I've fallen asleep. Even though I'm usually still tired.Just one more.... (this involves sexuality and sexual topics, if that makes you uncomfortable, you can skip over it. )Neg:My head likes stories and sometimes these stories can be sexual. The problem is I am uncomfortable around those things and it just feels like I'm fighting against myself. My brain, thoughts and body are all fighting against each other and it's getting near too much.Pos:I know where I stand and where my feelings sit on this particular topic. While your head might go a little too far and I'm left feeling uncomfortable it's okay because it will go away. It's alright to be confused but I know that I'm asexual. I know that I will never have sex. And I'm okay with it too.That's better. But now sleep and I'm sorry if refering to myself as 'you' got confusing. It's what I do when I pep-talk myself. \n"
     ]
    }
   ],
   "source": [
    "#Get length of longest message text (1,310 words)\n",
    "# initialize list \n",
    "message = df_red['Message Body no HTML'].to_list()\n",
    "  \n",
    "# Longest String in list\n",
    "# using max() + key\n",
    "res = max(message, key = len)\n",
    " \n",
    "# printing result\n",
    "print(\"Maximum length string is : \" + res)"
   ]
  },
  {
   "cell_type": "code",
   "execution_count": 52,
   "metadata": {},
   "outputs": [
    {
     "data": {
      "text/plain": [
       "400.57828282828285"
      ]
     },
     "execution_count": 52,
     "metadata": {},
     "output_type": "execute_result"
    }
   ],
   "source": [
    "#Get the average number of words in a post\n",
    "total_avg = sum( map(len, message) ) / len(message)\n",
    "total_avg"
   ]
  },
  {
   "cell_type": "code",
   "execution_count": 53,
   "metadata": {},
   "outputs": [
    {
     "name": "stdout",
     "output_type": "stream",
     "text": [
      "12.1\n"
     ]
    },
    {
     "data": {
      "text/plain": [
       "'cuda'"
      ]
     },
     "execution_count": 53,
     "metadata": {},
     "output_type": "execute_result"
    }
   ],
   "source": [
    "import os\n",
    "import re\n",
    "import numpy as np \n",
    "from sklearn.metrics import accuracy_score\n",
    "\n",
    "import transformers\n",
    "from transformers import BertTokenizer, BertModel\n",
    "\n",
    "import torch\n",
    "from torch import cuda\n",
    "#from tqdm.notebook import tqdm as tqdm\n",
    "from tqdm import tqdm_notebook as tqdm\n",
    "device = 'cuda' if cuda.is_available() else 'cpu'\n",
    "print(torch.version.cuda)\n",
    "\n",
    "device"
   ]
  },
  {
   "cell_type": "markdown",
   "metadata": {},
   "source": [
    "### 4.1 Raw Message Text"
   ]
  },
  {
   "cell_type": "code",
   "execution_count": 54,
   "metadata": {},
   "outputs": [
    {
     "data": {
      "text/plain": [
       "(1069, 1069)"
      ]
     },
     "execution_count": 54,
     "metadata": {},
     "output_type": "execute_result"
    }
   ],
   "source": [
    "#Split test and training data into X and Y\n",
    "train_X = train['Message Body'].to_list()\n",
    "train_y = train['Label Num'].to_list()\n",
    "test_X = test['Message Body'].to_list()\n",
    "test_y = test['Label Num'].to_list()\n",
    "\n",
    "len(train_X), len(train_y)"
   ]
  },
  {
   "cell_type": "code",
   "execution_count": 55,
   "metadata": {},
   "outputs": [],
   "source": [
    "class MultiLabelDataset(torch.utils.data.Dataset):\n",
    "\n",
    "    #Initializer function\n",
    "    #Self references what it is within this class\n",
    "    def __init__(self, text, labels, tokenizer, max_len):\n",
    "        self.tokenizer = tokenizer\n",
    "        self.text = text\n",
    "        self.targets = labels\n",
    "        self.max_len = max_len\n",
    "\n",
    "    #Return lenght of text\n",
    "    def __len__(self):\n",
    "        return len(self.text)\n",
    "\n",
    "    def __getitem__(self, index):\n",
    "        text = self.text[index]\n",
    "        inputs = self.tokenizer.encode_plus(\n",
    "            text,\n",
    "            None,\n",
    "            add_special_tokens=True,\n",
    "            max_length=self.max_len,\n",
    "            pad_to_max_length=True,                                  \n",
    "            truncation=True,\n",
    "            return_token_type_ids=True\n",
    "        )\n",
    "        ids = inputs['input_ids']\n",
    "        mask = inputs['attention_mask']\n",
    "        token_type_ids = inputs[\"token_type_ids\"]\n",
    "\n",
    "        return {\n",
    "            'ids': torch.tensor(ids, dtype=torch.long),\n",
    "            'mask': torch.tensor(mask, dtype=torch.long),\n",
    "            'token_type_ids': torch.tensor(token_type_ids, dtype=torch.long),\n",
    "            'targets': torch.tensor(self.targets[index], dtype=torch.long)\n",
    "        }"
   ]
  },
  {
   "cell_type": "code",
   "execution_count": 56,
   "metadata": {},
   "outputs": [],
   "source": [
    "class BERTClass(torch.nn.Module):\n",
    "    def __init__(self, NUM_OUT):\n",
    "        super(BERTClass, self).__init__()\n",
    "                   \n",
    "        self.l1 = BertModel.from_pretrained(\"bert-base-uncased\")\n",
    "#         self.pre_classifier = torch.nn.Linear(768, 256)\n",
    "        self.classifier = torch.nn.Linear(768, NUM_OUT)\n",
    "#         self.dropout = torch.nn.Dropout(0.5)\n",
    "        self.softmax = torch.nn.Softmax(dim=1)\n",
    "\n",
    "    def forward(self, input_ids, attention_mask, token_type_ids):\n",
    "        output_1 = self.l1(input_ids=input_ids, attention_mask=attention_mask)\n",
    "        hidden_state = output_1[0]\n",
    "        pooler = hidden_state[:, 0]\n",
    "#         pooler = self.pre_classifier(pooler)\n",
    "#         pooler = torch.nn.Tanh()(pooler)\n",
    "#         pooler = self.dropout(pooler)\n",
    "        output = self.classifier(pooler)\n",
    "        output = self.softmax(output)\n",
    "        return output"
   ]
  },
  {
   "cell_type": "code",
   "execution_count": 57,
   "metadata": {},
   "outputs": [],
   "source": [
    "def loss_fn(outputs, targets):\n",
    "    return torch.nn.CrossEntropyLoss()(outputs, targets)\n",
    "\n",
    "def train(model, training_loader, optimizer):\n",
    "    model.train()\n",
    "    for data in tqdm(training_loader):\n",
    "        ids = data['ids'].to(device, dtype = torch.long)\n",
    "        mask = data['mask'].to(device, dtype = torch.long)\n",
    "        token_type_ids = data['token_type_ids'].to(device, dtype = torch.long)\n",
    "        targets = data['targets'].to(device, dtype = torch.long)\n",
    "\n",
    "        outputs = model(ids, mask, token_type_ids)\n",
    "\n",
    "        optimizer.zero_grad()\n",
    "        loss = loss_fn(outputs, targets)\n",
    "\n",
    "        optimizer.zero_grad()\n",
    "        loss.backward()\n",
    "        optimizer.step()\n",
    "    return loss\n",
    "    \n",
    "def validation(model, testing_loader):\n",
    "    model.eval()\n",
    "    fin_targets=[]\n",
    "    fin_outputs=[]\n",
    "    with torch.no_grad():\n",
    "        for data in tqdm(testing_loader):\n",
    "            targets = data['targets']\n",
    "            ids = data['ids'].to(device, dtype = torch.long)\n",
    "            mask = data['mask'].to(device, dtype = torch.long)\n",
    "            token_type_ids = data['token_type_ids'].to(device, dtype = torch.long)\n",
    "            outputs = model(ids, mask, token_type_ids)\n",
    "            outputs = torch.sigmoid(outputs).cpu().detach()\n",
    "            fin_outputs.extend(outputs)\n",
    "            fin_targets.extend(targets)\n",
    "    return torch.stack(fin_outputs), torch.stack(fin_targets)"
   ]
  },
  {
   "cell_type": "code",
   "execution_count": 58,
   "metadata": {},
   "outputs": [
    {
     "name": "stdout",
     "output_type": "stream",
     "text": [
      "<P>@blithe&nbsp;</P>\n",
      "<P>&nbsp;</P>\n",
      "<P><STRONG>Thank you for your awesome advice - I feel much better. I had one of those mood swings where you feel like nothing can be achieved and all the self esteem drops and stuff. I am over it - I felt like I overreacted but I guess it got to do with the mood. Thank you for your suggestions and advice, the websites were useful, thank you. <img class=\"emoticon emoticon-smileyhappy\" id=\"smileyhappy\" src=\"http://inspire.i.lithium.com/i/smilies/16x16_smiley-happy.png\" alt=\"Smiley Happy\" title=\"Smiley Happy\" /></STRONG></P>\n"
     ]
    },
    {
     "data": {
      "text/plain": [
       "{'input_ids': [101, 1026, 1052, 1028, 1030, 1038, 15909, 5369, 1004, 1050, 5910, 2361, 1025, 1026, 1013, 1052, 1028, 1026, 1052, 1028, 1004, 1050, 5910, 2361, 1025, 1026, 1013, 1052, 1028, 1026, 1052, 1028, 1026, 2844, 1028, 4067, 2017, 2005, 2115, 12476, 6040, 1011, 1045, 2514, 2172, 2488, 1012, 1045, 2018, 2028, 1997, 2216, 6888, 18755, 2073, 2017, 2514, 2066, 2498, 2064, 2022, 4719, 1998, 2035, 1996, 2969, 19593, 9010, 1998, 4933, 1012, 1045, 2572, 2058, 2009, 1011, 1045, 2371, 2066, 1045, 2058, 16416, 10985, 2021, 1045, 3984, 2009, 2288, 2000, 2079, 2007, 1996, 6888, 1012, 4067, 2017, 2005, 2115, 15690, 1998, 6040, 1010, 1996, 11744, 2020, 6179, 1010, 4067, 2017, 1012, 1026, 10047, 2290, 2465, 1027, 1000, 7861, 20214, 2239, 7861, 20214, 2239, 1011, 27420, 3270, 27659, 1000, 8909, 1027, 1000, 27420, 3270, 27659, 1000, 5034, 2278, 1027, 1000, 8299, 1024, 1013, 1013, 18708, 1012, 1045, 1012, 22157, 1012, 4012, 1013, 1045, 1013, 15488, 18622, 2229, 1013, 2385, 2595, 16048, 1035, 27420, 1011, 3407, 1012, 1052, 3070, 1000, 12456, 1027, 1000, 27420, 3407, 1000, 2516, 1027, 1000, 27420, 3407, 1000, 1013, 1028, 1026, 1013, 2844, 1028, 1026, 1013, 1052, 1028, 102, 0, 0, 0, 0, 0, 0, 0, 0, 0, 0, 0, 0, 0, 0, 0, 0, 0, 0, 0, 0, 0, 0, 0, 0, 0, 0, 0, 0, 0, 0, 0, 0, 0, 0, 0, 0, 0, 0, 0, 0, 0, 0, 0, 0, 0, 0, 0, 0, 0, 0, 0, 0, 0, 0, 0, 0, 0, 0, 0, 0, 0, 0, 0, 0, 0, 0, 0, 0, 0, 0, 0, 0, 0, 0, 0, 0, 0, 0, 0, 0, 0, 0, 0, 0, 0, 0, 0, 0, 0, 0, 0, 0, 0, 0, 0, 0, 0, 0, 0, 0, 0, 0, 0, 0, 0, 0, 0, 0, 0, 0, 0, 0, 0, 0, 0, 0, 0, 0, 0, 0, 0, 0, 0, 0, 0, 0, 0, 0, 0, 0, 0, 0, 0, 0, 0, 0, 0, 0, 0, 0, 0, 0, 0, 0, 0, 0, 0, 0, 0, 0, 0, 0, 0, 0, 0, 0, 0, 0, 0, 0, 0, 0, 0, 0, 0, 0, 0, 0, 0, 0, 0, 0, 0, 0, 0, 0, 0, 0, 0, 0, 0, 0, 0, 0, 0, 0, 0, 0, 0, 0, 0, 0, 0, 0, 0, 0, 0, 0, 0, 0, 0, 0, 0, 0, 0, 0, 0, 0, 0, 0, 0, 0, 0, 0, 0, 0, 0, 0, 0, 0, 0, 0, 0, 0, 0, 0, 0, 0, 0, 0, 0, 0, 0, 0, 0, 0, 0, 0, 0, 0, 0, 0, 0, 0, 0, 0, 0, 0, 0, 0, 0, 0, 0, 0, 0, 0, 0, 0, 0, 0, 0, 0, 0, 0, 0, 0, 0, 0, 0, 0, 0, 0, 0, 0, 0, 0, 0, 0, 0, 0, 0, 0, 0, 0, 0, 0, 0, 0, 0, 0, 0, 0, 0, 0, 0, 0, 0, 0, 0, 0, 0, 0, 0, 0, 0, 0, 0, 0, 0, 0, 0, 0, 0, 0, 0, 0, 0, 0, 0, 0, 0, 0], 'token_type_ids': [0, 0, 0, 0, 0, 0, 0, 0, 0, 0, 0, 0, 0, 0, 0, 0, 0, 0, 0, 0, 0, 0, 0, 0, 0, 0, 0, 0, 0, 0, 0, 0, 0, 0, 0, 0, 0, 0, 0, 0, 0, 0, 0, 0, 0, 0, 0, 0, 0, 0, 0, 0, 0, 0, 0, 0, 0, 0, 0, 0, 0, 0, 0, 0, 0, 0, 0, 0, 0, 0, 0, 0, 0, 0, 0, 0, 0, 0, 0, 0, 0, 0, 0, 0, 0, 0, 0, 0, 0, 0, 0, 0, 0, 0, 0, 0, 0, 0, 0, 0, 0, 0, 0, 0, 0, 0, 0, 0, 0, 0, 0, 0, 0, 0, 0, 0, 0, 0, 0, 0, 0, 0, 0, 0, 0, 0, 0, 0, 0, 0, 0, 0, 0, 0, 0, 0, 0, 0, 0, 0, 0, 0, 0, 0, 0, 0, 0, 0, 0, 0, 0, 0, 0, 0, 0, 0, 0, 0, 0, 0, 0, 0, 0, 0, 0, 0, 0, 0, 0, 0, 0, 0, 0, 0, 0, 0, 0, 0, 0, 0, 0, 0, 0, 0, 0, 0, 0, 0, 0, 0, 0, 0, 0, 0, 0, 0, 0, 0, 0, 0, 0, 0, 0, 0, 0, 0, 0, 0, 0, 0, 0, 0, 0, 0, 0, 0, 0, 0, 0, 0, 0, 0, 0, 0, 0, 0, 0, 0, 0, 0, 0, 0, 0, 0, 0, 0, 0, 0, 0, 0, 0, 0, 0, 0, 0, 0, 0, 0, 0, 0, 0, 0, 0, 0, 0, 0, 0, 0, 0, 0, 0, 0, 0, 0, 0, 0, 0, 0, 0, 0, 0, 0, 0, 0, 0, 0, 0, 0, 0, 0, 0, 0, 0, 0, 0, 0, 0, 0, 0, 0, 0, 0, 0, 0, 0, 0, 0, 0, 0, 0, 0, 0, 0, 0, 0, 0, 0, 0, 0, 0, 0, 0, 0, 0, 0, 0, 0, 0, 0, 0, 0, 0, 0, 0, 0, 0, 0, 0, 0, 0, 0, 0, 0, 0, 0, 0, 0, 0, 0, 0, 0, 0, 0, 0, 0, 0, 0, 0, 0, 0, 0, 0, 0, 0, 0, 0, 0, 0, 0, 0, 0, 0, 0, 0, 0, 0, 0, 0, 0, 0, 0, 0, 0, 0, 0, 0, 0, 0, 0, 0, 0, 0, 0, 0, 0, 0, 0, 0, 0, 0, 0, 0, 0, 0, 0, 0, 0, 0, 0, 0, 0, 0, 0, 0, 0, 0, 0, 0, 0, 0, 0, 0, 0, 0, 0, 0, 0, 0, 0, 0, 0, 0, 0, 0, 0, 0, 0, 0, 0, 0, 0, 0, 0, 0, 0, 0, 0, 0, 0, 0, 0, 0, 0, 0, 0, 0, 0, 0, 0, 0, 0, 0, 0, 0, 0, 0, 0, 0, 0, 0, 0, 0, 0, 0, 0, 0, 0, 0, 0, 0, 0, 0, 0, 0, 0, 0, 0, 0, 0, 0, 0, 0, 0, 0, 0, 0, 0, 0, 0, 0, 0, 0, 0, 0, 0, 0, 0, 0, 0, 0, 0, 0, 0, 0, 0, 0, 0, 0, 0, 0, 0, 0], 'attention_mask': [1, 1, 1, 1, 1, 1, 1, 1, 1, 1, 1, 1, 1, 1, 1, 1, 1, 1, 1, 1, 1, 1, 1, 1, 1, 1, 1, 1, 1, 1, 1, 1, 1, 1, 1, 1, 1, 1, 1, 1, 1, 1, 1, 1, 1, 1, 1, 1, 1, 1, 1, 1, 1, 1, 1, 1, 1, 1, 1, 1, 1, 1, 1, 1, 1, 1, 1, 1, 1, 1, 1, 1, 1, 1, 1, 1, 1, 1, 1, 1, 1, 1, 1, 1, 1, 1, 1, 1, 1, 1, 1, 1, 1, 1, 1, 1, 1, 1, 1, 1, 1, 1, 1, 1, 1, 1, 1, 1, 1, 1, 1, 1, 1, 1, 1, 1, 1, 1, 1, 1, 1, 1, 1, 1, 1, 1, 1, 1, 1, 1, 1, 1, 1, 1, 1, 1, 1, 1, 1, 1, 1, 1, 1, 1, 1, 1, 1, 1, 1, 1, 1, 1, 1, 1, 1, 1, 1, 1, 1, 1, 1, 1, 1, 1, 1, 1, 1, 1, 1, 1, 1, 1, 1, 1, 1, 1, 1, 1, 1, 1, 1, 1, 1, 1, 1, 1, 1, 1, 1, 1, 0, 0, 0, 0, 0, 0, 0, 0, 0, 0, 0, 0, 0, 0, 0, 0, 0, 0, 0, 0, 0, 0, 0, 0, 0, 0, 0, 0, 0, 0, 0, 0, 0, 0, 0, 0, 0, 0, 0, 0, 0, 0, 0, 0, 0, 0, 0, 0, 0, 0, 0, 0, 0, 0, 0, 0, 0, 0, 0, 0, 0, 0, 0, 0, 0, 0, 0, 0, 0, 0, 0, 0, 0, 0, 0, 0, 0, 0, 0, 0, 0, 0, 0, 0, 0, 0, 0, 0, 0, 0, 0, 0, 0, 0, 0, 0, 0, 0, 0, 0, 0, 0, 0, 0, 0, 0, 0, 0, 0, 0, 0, 0, 0, 0, 0, 0, 0, 0, 0, 0, 0, 0, 0, 0, 0, 0, 0, 0, 0, 0, 0, 0, 0, 0, 0, 0, 0, 0, 0, 0, 0, 0, 0, 0, 0, 0, 0, 0, 0, 0, 0, 0, 0, 0, 0, 0, 0, 0, 0, 0, 0, 0, 0, 0, 0, 0, 0, 0, 0, 0, 0, 0, 0, 0, 0, 0, 0, 0, 0, 0, 0, 0, 0, 0, 0, 0, 0, 0, 0, 0, 0, 0, 0, 0, 0, 0, 0, 0, 0, 0, 0, 0, 0, 0, 0, 0, 0, 0, 0, 0, 0, 0, 0, 0, 0, 0, 0, 0, 0, 0, 0, 0, 0, 0, 0, 0, 0, 0, 0, 0, 0, 0, 0, 0, 0, 0, 0, 0, 0, 0, 0, 0, 0, 0, 0, 0, 0, 0, 0, 0, 0, 0, 0, 0, 0, 0, 0, 0, 0, 0, 0, 0, 0, 0, 0, 0, 0, 0, 0, 0, 0, 0, 0, 0, 0, 0, 0, 0, 0, 0, 0, 0, 0, 0, 0, 0, 0, 0, 0, 0, 0, 0, 0, 0, 0, 0, 0, 0, 0, 0, 0, 0, 0, 0, 0, 0, 0, 0, 0, 0, 0, 0, 0, 0, 0, 0, 0, 0, 0, 0, 0, 0]}"
      ]
     },
     "execution_count": 58,
     "metadata": {},
     "output_type": "execute_result"
    }
   ],
   "source": [
    "tokenizer = BertTokenizer.from_pretrained('bert-base-uncased')\n",
    "\n",
    "# what does the tokenizer do?\n",
    "print(train_X[10])\n",
    "\n",
    "tokenizer.encode_plus(\n",
    "            train_X[10],\n",
    "            None,\n",
    "            add_special_tokens=True,\n",
    "            max_length=512,\n",
    "            pad_to_max_length=True,\n",
    "            truncation=True,\n",
    "            return_token_type_ids=True\n",
    "        )"
   ]
  },
  {
   "cell_type": "code",
   "execution_count": 59,
   "metadata": {},
   "outputs": [],
   "source": [
    "MAX_LEN = 350\n",
    "BATCH_SIZE = 64\n",
    "EPOCHS = 3\n",
    "NUM_OUT = 4 # 7 classifications\n",
    "LEARNING_RATE = 2e-05\n",
    "\n",
    "train_y2 = torch.tensor(train_y, dtype=torch.long, device=device)\n",
    "test_y2 = torch.tensor(test_y, dtype=torch.long, device=device)\n",
    "\n",
    "training_data = MultiLabelDataset(train_X, train_y2, tokenizer, MAX_LEN)\n",
    "test_data = MultiLabelDataset(test_X, test_y2, tokenizer, MAX_LEN)\n",
    "\n",
    "train_params = {'batch_size': BATCH_SIZE,\n",
    "                'shuffle': True,\n",
    "                'num_workers': 0\n",
    "                }\n",
    "\n",
    "test_params = {'batch_size': BATCH_SIZE,\n",
    "                'shuffle': True,\n",
    "                'num_workers': 0\n",
    "                }    \n",
    "\n",
    "training_loader = torch.utils.data.DataLoader(training_data, **train_params)\n",
    "testing_loader = torch.utils.data.DataLoader(test_data, **test_params)"
   ]
  },
  {
   "cell_type": "code",
   "execution_count": 60,
   "metadata": {},
   "outputs": [
    {
     "data": {
      "application/vnd.jupyter.widget-view+json": {
       "model_id": "45af048cff944711bb98ec93bdff98b4",
       "version_major": 2,
       "version_minor": 0
      },
      "text/plain": [
       "  0%|          | 0/17 [00:00<?, ?it/s]"
      ]
     },
     "metadata": {},
     "output_type": "display_data"
    },
    {
     "name": "stdout",
     "output_type": "stream",
     "text": [
      "Epoch: 0, Loss:  1.2081209421157837\n"
     ]
    },
    {
     "data": {
      "application/vnd.jupyter.widget-view+json": {
       "model_id": "70ea22bebd2f4b909cad16e8bed4df04",
       "version_major": 2,
       "version_minor": 0
      },
      "text/plain": [
       "  0%|          | 0/2 [00:00<?, ?it/s]"
      ]
     },
     "metadata": {},
     "output_type": "display_data"
    },
    {
     "name": "stdout",
     "output_type": "stream",
     "text": [
      "Acurracy on test set 0.6554621848739496\n",
      "F1 on test set 0.7918781725888325\n"
     ]
    },
    {
     "data": {
      "application/vnd.jupyter.widget-view+json": {
       "model_id": "c154696d2f5f436d9cbf439a2cb9e7dd",
       "version_major": 2,
       "version_minor": 0
      },
      "text/plain": [
       "  0%|          | 0/17 [00:00<?, ?it/s]"
      ]
     },
     "metadata": {},
     "output_type": "display_data"
    },
    {
     "name": "stdout",
     "output_type": "stream",
     "text": [
      "Epoch: 1, Loss:  1.1999701261520386\n"
     ]
    },
    {
     "data": {
      "application/vnd.jupyter.widget-view+json": {
       "model_id": "dd0253ae2a4d4cb597bbc57cc4ee52ab",
       "version_major": 2,
       "version_minor": 0
      },
      "text/plain": [
       "  0%|          | 0/2 [00:00<?, ?it/s]"
      ]
     },
     "metadata": {},
     "output_type": "display_data"
    },
    {
     "name": "stdout",
     "output_type": "stream",
     "text": [
      "Acurracy on test set 0.680672268907563\n",
      "F1 on test set 0.732430705424207\n"
     ]
    },
    {
     "data": {
      "application/vnd.jupyter.widget-view+json": {
       "model_id": "c483c6840a4548c8bcfbfa926477de61",
       "version_major": 2,
       "version_minor": 0
      },
      "text/plain": [
       "  0%|          | 0/17 [00:00<?, ?it/s]"
      ]
     },
     "metadata": {},
     "output_type": "display_data"
    },
    {
     "name": "stdout",
     "output_type": "stream",
     "text": [
      "Epoch: 2, Loss:  1.023274302482605\n"
     ]
    },
    {
     "data": {
      "application/vnd.jupyter.widget-view+json": {
       "model_id": "4a57b463df0d428984f81142ad593707",
       "version_major": 2,
       "version_minor": 0
      },
      "text/plain": [
       "  0%|          | 0/2 [00:00<?, ?it/s]"
      ]
     },
     "metadata": {},
     "output_type": "display_data"
    },
    {
     "name": "stdout",
     "output_type": "stream",
     "text": [
      "Acurracy on test set 0.6974789915966386\n",
      "F1 on test set 0.7326404245908891\n"
     ]
    }
   ],
   "source": [
    "#Run on Body with HTML codes\n",
    "model = BERTClass(NUM_OUT)\n",
    "model.to(device)   \n",
    "\n",
    "optimizer = torch.optim.Adam(params =  model.parameters(), lr=LEARNING_RATE)\n",
    "\n",
    "for epoch in range(EPOCHS):\n",
    "    loss = train(model, training_loader, optimizer)\n",
    "    print(f'Epoch: {epoch}, Loss:  {loss.item()}')  \n",
    "    guess, targs = validation(model, testing_loader)\n",
    " \n",
    "    guesses = torch.max(guess, dim=1)    \n",
    "    \n",
    "    print('Acurracy on test set {}'.format(accuracy_score(guesses.indices.cpu().numpy(), targs.cpu().numpy())))\n",
    "    print('F1 on test set {}'.format(f1_score(guesses.indices.cpu().numpy(), targs.cpu().numpy(), average='weighted')))"
   ]
  },
  {
   "cell_type": "markdown",
   "metadata": {},
   "source": [
    "### 4.2 Message Text without HTML Codes"
   ]
  },
  {
   "cell_type": "code",
   "execution_count": 105,
   "metadata": {},
   "outputs": [],
   "source": [
    "#Separate data into test/train\n",
    "np.random.seed(42)\n",
    "test = df_red.sample(frac=0.1)\n",
    "train = df_red[~df_red.index.isin(test.index)]"
   ]
  },
  {
   "cell_type": "code",
   "execution_count": 106,
   "metadata": {},
   "outputs": [
    {
     "data": {
      "text/plain": [
       "(1069, 1069)"
      ]
     },
     "execution_count": 106,
     "metadata": {},
     "output_type": "execute_result"
    }
   ],
   "source": [
    "#Split test and training data into X and Y\n",
    "train_X = train['Message Body no HTML'].to_list()\n",
    "train_y = train['Label Num'].to_list()\n",
    "test_X = test['Message Body no HTML'].to_list()\n",
    "test_y = test['Label Num'].to_list()\n",
    "\n",
    "len(train_X), len(train_y)"
   ]
  },
  {
   "cell_type": "code",
   "execution_count": 107,
   "metadata": {},
   "outputs": [],
   "source": [
    "class MultiLabelDataset(torch.utils.data.Dataset):\n",
    "\n",
    "    #Initializer function\n",
    "    #Self references what it is within this class\n",
    "    def __init__(self, text, labels, tokenizer, max_len):\n",
    "        self.tokenizer = tokenizer\n",
    "        self.text = text\n",
    "        self.targets = labels\n",
    "        self.max_len = max_len\n",
    "\n",
    "    #Return lenght of text\n",
    "    def __len__(self):\n",
    "        return len(self.text)\n",
    "\n",
    "    def __getitem__(self, index):\n",
    "        text = self.text[index]\n",
    "        inputs = self.tokenizer.encode_plus(\n",
    "            text,\n",
    "            None,\n",
    "            add_special_tokens=True,\n",
    "            max_length=self.max_len,\n",
    "            pad_to_max_length=True,                                  \n",
    "            truncation=True,\n",
    "            return_token_type_ids=True\n",
    "        )\n",
    "        ids = inputs['input_ids']\n",
    "        mask = inputs['attention_mask']\n",
    "        token_type_ids = inputs[\"token_type_ids\"]\n",
    "\n",
    "        return {\n",
    "            'ids': torch.tensor(ids, dtype=torch.long),\n",
    "            'mask': torch.tensor(mask, dtype=torch.long),\n",
    "            'token_type_ids': torch.tensor(token_type_ids, dtype=torch.long),\n",
    "            'targets': torch.tensor(self.targets[index], dtype=torch.long)\n",
    "        }"
   ]
  },
  {
   "cell_type": "code",
   "execution_count": 108,
   "metadata": {},
   "outputs": [],
   "source": [
    "class BERTClass(torch.nn.Module):\n",
    "    def __init__(self, NUM_OUT):\n",
    "        super(BERTClass, self).__init__()\n",
    "                   \n",
    "        self.l1 = BertModel.from_pretrained(\"bert-base-uncased\")\n",
    "#         self.pre_classifier = torch.nn.Linear(768, 256)\n",
    "        self.classifier = torch.nn.Linear(768, NUM_OUT)\n",
    "#         self.dropout = torch.nn.Dropout(0.5)\n",
    "        self.softmax = torch.nn.Softmax(dim=1)\n",
    "\n",
    "    def forward(self, input_ids, attention_mask, token_type_ids):\n",
    "        output_1 = self.l1(input_ids=input_ids, attention_mask=attention_mask)\n",
    "        hidden_state = output_1[0]\n",
    "        pooler = hidden_state[:, 0]\n",
    "#         pooler = self.pre_classifier(pooler)\n",
    "#         pooler = torch.nn.Tanh()(pooler)\n",
    "#         pooler = self.dropout(pooler)\n",
    "        output = self.classifier(pooler)\n",
    "        output = self.softmax(output)\n",
    "        return output"
   ]
  },
  {
   "cell_type": "code",
   "execution_count": 109,
   "metadata": {},
   "outputs": [],
   "source": [
    "def loss_fn(outputs, targets):\n",
    "    return torch.nn.CrossEntropyLoss()(outputs, targets)\n",
    "\n",
    "def train(model, training_loader, optimizer):\n",
    "    model.train()\n",
    "    for data in tqdm(training_loader):\n",
    "        ids = data['ids'].to(device, dtype = torch.long)\n",
    "        mask = data['mask'].to(device, dtype = torch.long)\n",
    "        token_type_ids = data['token_type_ids'].to(device, dtype = torch.long)\n",
    "        targets = data['targets'].to(device, dtype = torch.long)\n",
    "\n",
    "        outputs = model(ids, mask, token_type_ids)\n",
    "\n",
    "        optimizer.zero_grad()\n",
    "        loss = loss_fn(outputs, targets)\n",
    "\n",
    "        optimizer.zero_grad()\n",
    "        loss.backward()\n",
    "        optimizer.step()\n",
    "    return loss\n",
    "    \n",
    "def validation(model, testing_loader):\n",
    "    model.eval()\n",
    "    fin_targets=[]\n",
    "    fin_outputs=[]\n",
    "    with torch.no_grad():\n",
    "        for data in tqdm(testing_loader):\n",
    "            targets = data['targets']\n",
    "            ids = data['ids'].to(device, dtype = torch.long)\n",
    "            mask = data['mask'].to(device, dtype = torch.long)\n",
    "            token_type_ids = data['token_type_ids'].to(device, dtype = torch.long)\n",
    "            outputs = model(ids, mask, token_type_ids)\n",
    "            outputs = torch.sigmoid(outputs).cpu().detach()\n",
    "            fin_outputs.extend(outputs)\n",
    "            fin_targets.extend(targets)\n",
    "    return torch.stack(fin_outputs), torch.stack(fin_targets)"
   ]
  },
  {
   "cell_type": "code",
   "execution_count": 111,
   "metadata": {},
   "outputs": [
    {
     "name": "stdout",
     "output_type": "stream",
     "text": [
      "@Sophie-RO I need to say something but I dont know how\n"
     ]
    },
    {
     "data": {
      "text/plain": [
       "{'input_ids': [101, 1030, 8234, 1011, 20996, 1045, 2342, 2000, 2360, 2242, 2021, 1045, 2123, 2102, 2113, 2129, 102, 0, 0, 0, 0, 0, 0, 0, 0, 0, 0, 0, 0, 0], 'token_type_ids': [0, 0, 0, 0, 0, 0, 0, 0, 0, 0, 0, 0, 0, 0, 0, 0, 0, 0, 0, 0, 0, 0, 0, 0, 0, 0, 0, 0, 0, 0], 'attention_mask': [1, 1, 1, 1, 1, 1, 1, 1, 1, 1, 1, 1, 1, 1, 1, 1, 1, 0, 0, 0, 0, 0, 0, 0, 0, 0, 0, 0, 0, 0]}"
      ]
     },
     "execution_count": 111,
     "metadata": {},
     "output_type": "execute_result"
    }
   ],
   "source": [
    "tokenizer = BertTokenizer.from_pretrained('bert-base-uncased')\n",
    "\n",
    "# what does the tokenizer do?\n",
    "print(train_X[5])\n",
    "\n",
    "tokenizer.encode_plus(\n",
    "            train_X[5],\n",
    "            None,\n",
    "            add_special_tokens=True,\n",
    "            max_length=30,\n",
    "            pad_to_max_length=True,\n",
    "            truncation=True,\n",
    "            return_token_type_ids=True\n",
    "        )"
   ]
  },
  {
   "cell_type": "code",
   "execution_count": 112,
   "metadata": {},
   "outputs": [],
   "source": [
    "MAX_LEN = 350\n",
    "BATCH_SIZE = 64\n",
    "EPOCHS = 3\n",
    "NUM_OUT = 4 # 7 classifications\n",
    "LEARNING_RATE = 2e-05\n",
    "\n",
    "train_y2 = torch.tensor(train_y, dtype=torch.long, device=device)\n",
    "test_y2 = torch.tensor(test_y, dtype=torch.long, device=device)\n",
    "\n",
    "training_data = MultiLabelDataset(train_X, train_y2, tokenizer, MAX_LEN)\n",
    "test_data = MultiLabelDataset(test_X, test_y2, tokenizer, MAX_LEN)\n",
    "\n",
    "train_params = {'batch_size': BATCH_SIZE,\n",
    "                'shuffle': True,\n",
    "                'num_workers': 0\n",
    "                }\n",
    "\n",
    "test_params = {'batch_size': BATCH_SIZE,\n",
    "                'shuffle': True,\n",
    "                'num_workers': 0\n",
    "                }    \n",
    "\n",
    "training_loader = torch.utils.data.DataLoader(training_data, **train_params)\n",
    "testing_loader = torch.utils.data.DataLoader(test_data, **test_params)"
   ]
  },
  {
   "cell_type": "code",
   "execution_count": 113,
   "metadata": {},
   "outputs": [
    {
     "data": {
      "application/vnd.jupyter.widget-view+json": {
       "model_id": "bd174f9f3a584f54aa10af6809a30adc",
       "version_major": 2,
       "version_minor": 0
      },
      "text/plain": [
       "  0%|          | 0/17 [00:00<?, ?it/s]"
      ]
     },
     "metadata": {},
     "output_type": "display_data"
    },
    {
     "name": "stdout",
     "output_type": "stream",
     "text": [
      "Epoch: 0, Loss:  1.1568504571914673\n"
     ]
    },
    {
     "data": {
      "application/vnd.jupyter.widget-view+json": {
       "model_id": "273d88ea08b845a1a8fd7773838d892c",
       "version_major": 2,
       "version_minor": 0
      },
      "text/plain": [
       "  0%|          | 0/2 [00:00<?, ?it/s]"
      ]
     },
     "metadata": {},
     "output_type": "display_data"
    },
    {
     "name": "stdout",
     "output_type": "stream",
     "text": [
      "Acurracy on test set 0.6554621848739496\n",
      "F1 on test set 0.7918781725888325\n"
     ]
    },
    {
     "data": {
      "application/vnd.jupyter.widget-view+json": {
       "model_id": "fac8ab6f00bb439f83c6d20d71623a8f",
       "version_major": 2,
       "version_minor": 0
      },
      "text/plain": [
       "  0%|          | 0/17 [00:00<?, ?it/s]"
      ]
     },
     "metadata": {},
     "output_type": "display_data"
    },
    {
     "name": "stdout",
     "output_type": "stream",
     "text": [
      "Epoch: 1, Loss:  1.1732046604156494\n"
     ]
    },
    {
     "data": {
      "application/vnd.jupyter.widget-view+json": {
       "model_id": "2ce6f81a67ac44e48fc084a5d99e5f02",
       "version_major": 2,
       "version_minor": 0
      },
      "text/plain": [
       "  0%|          | 0/2 [00:00<?, ?it/s]"
      ]
     },
     "metadata": {},
     "output_type": "display_data"
    },
    {
     "name": "stdout",
     "output_type": "stream",
     "text": [
      "Acurracy on test set 0.680672268907563\n",
      "F1 on test set 0.7106399482870072\n"
     ]
    },
    {
     "data": {
      "application/vnd.jupyter.widget-view+json": {
       "model_id": "7839f48d84554442b730e16fa9a951d7",
       "version_major": 2,
       "version_minor": 0
      },
      "text/plain": [
       "  0%|          | 0/17 [00:00<?, ?it/s]"
      ]
     },
     "metadata": {},
     "output_type": "display_data"
    },
    {
     "name": "stdout",
     "output_type": "stream",
     "text": [
      "Epoch: 2, Loss:  0.8439045548439026\n"
     ]
    },
    {
     "data": {
      "application/vnd.jupyter.widget-view+json": {
       "model_id": "bdf9f99615a544c09f63a727939ef31d",
       "version_major": 2,
       "version_minor": 0
      },
      "text/plain": [
       "  0%|          | 0/2 [00:00<?, ?it/s]"
      ]
     },
     "metadata": {},
     "output_type": "display_data"
    },
    {
     "name": "stdout",
     "output_type": "stream",
     "text": [
      "Acurracy on test set 0.7058823529411765\n",
      "F1 on test set 0.7557457765714982\n"
     ]
    }
   ],
   "source": [
    "#Run on Body without HTML codes\n",
    "model = BERTClass(NUM_OUT)\n",
    "model.to(device)   \n",
    "\n",
    "optimizer = torch.optim.Adam(params =  model.parameters(), lr=LEARNING_RATE)\n",
    "\n",
    "for epoch in range(EPOCHS):\n",
    "    loss = train(model, training_loader, optimizer)\n",
    "    print(f'Epoch: {epoch}, Loss:  {loss.item()}')  \n",
    "    guess, targs = validation(model, testing_loader)\n",
    " \n",
    "    guesses = torch.max(guess, dim=1)    \n",
    "    \n",
    "    print('Acurracy on test set {}'.format(accuracy_score(guesses.indices.cpu().numpy(), targs.cpu().numpy())))\n",
    "    print('F1 on test set {}'.format(f1_score(guesses.indices.cpu().numpy(), targs.cpu().numpy(), average='weighted')))"
   ]
  },
  {
   "cell_type": "markdown",
   "metadata": {},
   "source": [
    "### 4.3 Message Text without HTML Codes + Features"
   ]
  },
  {
   "cell_type": "code",
   "execution_count": 114,
   "metadata": {},
   "outputs": [],
   "source": [
    "#Separate data into test/train\n",
    "np.random.seed(42)\n",
    "test = df_red.sample(frac=0.1)\n",
    "train = df_red[~df_red.index.isin(test.index)]"
   ]
  },
  {
   "cell_type": "code",
   "execution_count": 115,
   "metadata": {},
   "outputs": [
    {
     "data": {
      "text/plain": [
       "(1069, 1069)"
      ]
     },
     "execution_count": 115,
     "metadata": {},
     "output_type": "execute_result"
    }
   ],
   "source": [
    "#Split test and training data into X and Y\n",
    "train_X = train['Text and Features'].to_list()\n",
    "train_y = train['Label Num'].to_list()\n",
    "test_X = test['Text and Features'].to_list()\n",
    "test_y = test['Label Num'].to_list()\n",
    "\n",
    "len(train_X), len(train_y)"
   ]
  },
  {
   "cell_type": "code",
   "execution_count": 116,
   "metadata": {},
   "outputs": [],
   "source": [
    "class MultiLabelDataset(torch.utils.data.Dataset):\n",
    "\n",
    "    #Initializer function\n",
    "    #Self references what it is within this class\n",
    "    def __init__(self, text, labels, tokenizer, max_len):\n",
    "        self.tokenizer = tokenizer\n",
    "        self.text = text\n",
    "        self.targets = labels\n",
    "        self.max_len = max_len\n",
    "\n",
    "    #Return lenght of text\n",
    "    def __len__(self):\n",
    "        return len(self.text)\n",
    "\n",
    "    def __getitem__(self, index):\n",
    "        text = self.text[index]\n",
    "        inputs = self.tokenizer.encode_plus(\n",
    "            text,\n",
    "            None,\n",
    "            add_special_tokens=True,\n",
    "            max_length=self.max_len,\n",
    "            pad_to_max_length=True,                                  \n",
    "            truncation=True,\n",
    "            return_token_type_ids=True\n",
    "        )\n",
    "        ids = inputs['input_ids']\n",
    "        mask = inputs['attention_mask']\n",
    "        token_type_ids = inputs[\"token_type_ids\"]\n",
    "\n",
    "        return {\n",
    "            'ids': torch.tensor(ids, dtype=torch.long),\n",
    "            'mask': torch.tensor(mask, dtype=torch.long),\n",
    "            'token_type_ids': torch.tensor(token_type_ids, dtype=torch.long),\n",
    "            'targets': torch.tensor(self.targets[index], dtype=torch.long)\n",
    "        }"
   ]
  },
  {
   "cell_type": "code",
   "execution_count": 117,
   "metadata": {},
   "outputs": [],
   "source": [
    "class BERTClass(torch.nn.Module):\n",
    "    def __init__(self, NUM_OUT):\n",
    "        super(BERTClass, self).__init__()\n",
    "                   \n",
    "        self.l1 = BertModel.from_pretrained(\"bert-base-uncased\")\n",
    "#         self.pre_classifier = torch.nn.Linear(768, 256)\n",
    "        self.classifier = torch.nn.Linear(768, NUM_OUT)\n",
    "#         self.dropout = torch.nn.Dropout(0.5)\n",
    "        self.softmax = torch.nn.Softmax(dim=1)\n",
    "\n",
    "    def forward(self, input_ids, attention_mask, token_type_ids):\n",
    "        output_1 = self.l1(input_ids=input_ids, attention_mask=attention_mask)\n",
    "        hidden_state = output_1[0]\n",
    "        pooler = hidden_state[:, 0]\n",
    "#         pooler = self.pre_classifier(pooler)\n",
    "#         pooler = torch.nn.Tanh()(pooler)\n",
    "#         pooler = self.dropout(pooler)\n",
    "        output = self.classifier(pooler)\n",
    "        output = self.softmax(output)\n",
    "        return output"
   ]
  },
  {
   "cell_type": "code",
   "execution_count": 118,
   "metadata": {},
   "outputs": [],
   "source": [
    "def loss_fn(outputs, targets):\n",
    "    return torch.nn.CrossEntropyLoss()(outputs, targets)\n",
    "\n",
    "def train(model, training_loader, optimizer):\n",
    "    model.train()\n",
    "    for data in tqdm(training_loader):\n",
    "        ids = data['ids'].to(device, dtype = torch.long)\n",
    "        mask = data['mask'].to(device, dtype = torch.long)\n",
    "        token_type_ids = data['token_type_ids'].to(device, dtype = torch.long)\n",
    "        targets = data['targets'].to(device, dtype = torch.long)\n",
    "\n",
    "        outputs = model(ids, mask, token_type_ids)\n",
    "\n",
    "        optimizer.zero_grad()\n",
    "        loss = loss_fn(outputs, targets)\n",
    "\n",
    "        optimizer.zero_grad()\n",
    "        loss.backward()\n",
    "        optimizer.step()\n",
    "    return loss\n",
    "    \n",
    "def validation(model, testing_loader):\n",
    "    model.eval()\n",
    "    fin_targets=[]\n",
    "    fin_outputs=[]\n",
    "    with torch.no_grad():\n",
    "        for data in tqdm(testing_loader):\n",
    "            targets = data['targets']\n",
    "            ids = data['ids'].to(device, dtype = torch.long)\n",
    "            mask = data['mask'].to(device, dtype = torch.long)\n",
    "            token_type_ids = data['token_type_ids'].to(device, dtype = torch.long)\n",
    "            outputs = model(ids, mask, token_type_ids)\n",
    "            outputs = torch.sigmoid(outputs).cpu().detach()\n",
    "            fin_outputs.extend(outputs)\n",
    "            fin_targets.extend(targets)\n",
    "    return torch.stack(fin_outputs), torch.stack(fin_targets)"
   ]
  },
  {
   "cell_type": "code",
   "execution_count": 119,
   "metadata": {},
   "outputs": [
    {
     "name": "stdout",
     "output_type": "stream",
     "text": [
      "My author rank is Uber contributor. I posted this on Friday. The time is 05 oclock. The month is April.  This post has 215 views. This post has 0 kudos.@Sophie-RO I need to say something but I dont know how\n"
     ]
    },
    {
     "data": {
      "text/plain": [
       "{'input_ids': [101, 2026, 3166, 4635, 2003, 19169, 12130, 1012, 1045, 6866, 2023, 2006, 5958, 1012, 1996, 2051, 2003, 5709, 1051, 20464, 7432, 1012, 1996, 3204, 2003, 2258, 1012, 2023, 2695, 102], 'token_type_ids': [0, 0, 0, 0, 0, 0, 0, 0, 0, 0, 0, 0, 0, 0, 0, 0, 0, 0, 0, 0, 0, 0, 0, 0, 0, 0, 0, 0, 0, 0], 'attention_mask': [1, 1, 1, 1, 1, 1, 1, 1, 1, 1, 1, 1, 1, 1, 1, 1, 1, 1, 1, 1, 1, 1, 1, 1, 1, 1, 1, 1, 1, 1]}"
      ]
     },
     "execution_count": 119,
     "metadata": {},
     "output_type": "execute_result"
    }
   ],
   "source": [
    "tokenizer = BertTokenizer.from_pretrained('bert-base-uncased')\n",
    "\n",
    "# what does the tokenizer do?\n",
    "print(train_X[5])\n",
    "\n",
    "tokenizer.encode_plus(\n",
    "            train_X[5],\n",
    "            None,\n",
    "            add_special_tokens=True,\n",
    "            max_length=30,\n",
    "            pad_to_max_length=True,\n",
    "            truncation=True,\n",
    "            return_token_type_ids=True\n",
    "        )"
   ]
  },
  {
   "cell_type": "code",
   "execution_count": 120,
   "metadata": {},
   "outputs": [],
   "source": [
    "MAX_LEN = 350\n",
    "BATCH_SIZE = 64\n",
    "EPOCHS = 3\n",
    "NUM_OUT = 4 # 7 classifications\n",
    "LEARNING_RATE = 2e-05\n",
    "\n",
    "train_y2 = torch.tensor(train_y, dtype=torch.long, device=device)\n",
    "test_y2 = torch.tensor(test_y, dtype=torch.long, device=device)\n",
    "\n",
    "training_data = MultiLabelDataset(train_X, train_y2, tokenizer, MAX_LEN)\n",
    "test_data = MultiLabelDataset(test_X, test_y2, tokenizer, MAX_LEN)\n",
    "\n",
    "train_params = {'batch_size': BATCH_SIZE,\n",
    "                'shuffle': True,\n",
    "                'num_workers': 0\n",
    "                }\n",
    "\n",
    "test_params = {'batch_size': BATCH_SIZE,\n",
    "                'shuffle': True,\n",
    "                'num_workers': 0\n",
    "                }    \n",
    "\n",
    "training_loader = torch.utils.data.DataLoader(training_data, **train_params)\n",
    "testing_loader = torch.utils.data.DataLoader(test_data, **test_params)"
   ]
  },
  {
   "cell_type": "code",
   "execution_count": 121,
   "metadata": {},
   "outputs": [
    {
     "data": {
      "application/vnd.jupyter.widget-view+json": {
       "model_id": "2a2c4d29752c48f18e8b01b5ca12f67d",
       "version_major": 2,
       "version_minor": 0
      },
      "text/plain": [
       "  0%|          | 0/17 [00:00<?, ?it/s]"
      ]
     },
     "metadata": {},
     "output_type": "display_data"
    },
    {
     "name": "stdout",
     "output_type": "stream",
     "text": [
      "Epoch: 0, Loss:  1.2050983905792236\n"
     ]
    },
    {
     "data": {
      "application/vnd.jupyter.widget-view+json": {
       "model_id": "fc5815f57a014b8ab4d54e7ac02716fd",
       "version_major": 2,
       "version_minor": 0
      },
      "text/plain": [
       "  0%|          | 0/2 [00:00<?, ?it/s]"
      ]
     },
     "metadata": {},
     "output_type": "display_data"
    },
    {
     "name": "stdout",
     "output_type": "stream",
     "text": [
      "Acurracy on test set 0.6554621848739496\n",
      "F1 on test set 0.7918781725888325\n"
     ]
    },
    {
     "data": {
      "application/vnd.jupyter.widget-view+json": {
       "model_id": "cc1cbbb5534b44eb900ba1b114c4027e",
       "version_major": 2,
       "version_minor": 0
      },
      "text/plain": [
       "  0%|          | 0/17 [00:00<?, ?it/s]"
      ]
     },
     "metadata": {},
     "output_type": "display_data"
    },
    {
     "name": "stdout",
     "output_type": "stream",
     "text": [
      "Epoch: 1, Loss:  1.0176002979278564\n"
     ]
    },
    {
     "data": {
      "application/vnd.jupyter.widget-view+json": {
       "model_id": "e27f4295921142b5b3dae73ea05c4eae",
       "version_major": 2,
       "version_minor": 0
      },
      "text/plain": [
       "  0%|          | 0/2 [00:00<?, ?it/s]"
      ]
     },
     "metadata": {},
     "output_type": "display_data"
    },
    {
     "name": "stdout",
     "output_type": "stream",
     "text": [
      "Acurracy on test set 0.6974789915966386\n",
      "F1 on test set 0.7670510064490913\n"
     ]
    },
    {
     "data": {
      "application/vnd.jupyter.widget-view+json": {
       "model_id": "f423fda39a00429eaec5ed91f4cfefa3",
       "version_major": 2,
       "version_minor": 0
      },
      "text/plain": [
       "  0%|          | 0/17 [00:00<?, ?it/s]"
      ]
     },
     "metadata": {},
     "output_type": "display_data"
    },
    {
     "name": "stdout",
     "output_type": "stream",
     "text": [
      "Epoch: 2, Loss:  1.074723243713379\n"
     ]
    },
    {
     "data": {
      "application/vnd.jupyter.widget-view+json": {
       "model_id": "7f691b905264460dba25b0a08430ca31",
       "version_major": 2,
       "version_minor": 0
      },
      "text/plain": [
       "  0%|          | 0/2 [00:00<?, ?it/s]"
      ]
     },
     "metadata": {},
     "output_type": "display_data"
    },
    {
     "name": "stdout",
     "output_type": "stream",
     "text": [
      "Acurracy on test set 0.6890756302521008\n",
      "F1 on test set 0.7216247426122766\n"
     ]
    }
   ],
   "source": [
    "#Run on Text + Features\n",
    "model = BERTClass(NUM_OUT)\n",
    "model.to(device)   \n",
    "\n",
    "optimizer = torch.optim.Adam(params =  model.parameters(), lr=LEARNING_RATE)\n",
    "\n",
    "for epoch in range(EPOCHS):\n",
    "    loss = train(model, training_loader, optimizer)\n",
    "    print(f'Epoch: {epoch}, Loss:  {loss.item()}')  \n",
    "    guess, targs = validation(model, testing_loader)\n",
    " \n",
    "    guesses = torch.max(guess, dim=1)    \n",
    "    \n",
    "    print('Acurracy on test set {}'.format(accuracy_score(guesses.indices.cpu().numpy(), targs.cpu().numpy())))\n",
    "    print('F1 on test set {}'.format(f1_score(guesses.indices.cpu().numpy(), targs.cpu().numpy(), average='weighted')))"
   ]
  },
  {
   "cell_type": "markdown",
   "metadata": {},
   "source": [
    "## 5. Testing Dataset"
   ]
  },
  {
   "cell_type": "markdown",
   "metadata": {},
   "source": [
    "### 5.1 Import Testing Data\n",
    "\n",
    "Since my final BERT model did not use any additional features and kept posts from all authors I only need to import message ID and the message body."
   ]
  },
  {
   "cell_type": "code",
   "execution_count": 39,
   "metadata": {},
   "outputs": [],
   "source": [
    "#Import all XML data which contains the text of the posts\n",
    "from os import listdir, path\n",
    "import xml.etree.ElementTree as ET\n",
    "import re\n",
    "import os\n",
    "from lxml import etree\n",
    "\n",
    "mypath = 'clpsych17-data/clpsych17-data/clpsych17-test/posts'\n",
    "files = [path.join(mypath, f) for f in listdir(mypath) if f.endswith('.xml')]\n",
    "messageIDs = []\n",
    "messageBodys = []\n",
    "messagePostTimes = []\n",
    "authorIDs = []\n",
    "kudos = []\n",
    "views = []\n",
    "\n",
    "#for file in files:\n",
    " #   print(file)\n",
    "  #  tree = ET.parse(file)\n",
    "   # root = tree.getroot()\n",
    "    #for x in root[0]:\n",
    "     #   print(x.tag, x.attrib)\n",
    "\n",
    "for file in files:\n",
    "    res = re.findall(\"post-(\\d+).xml\", file)\n",
    "    if not res: continue\n",
    "    messageIDs.append(res[0]) # You can append the result to a list\n",
    "    tree = ET.parse(file)\n",
    "    root = tree.getroot()\n",
    "    for x in root[0]:\n",
    "    #print(x.tag, x.attrib)\n",
    "        if x.tag == 'body':\n",
    "            messageBodys.append(x.text)\n",
    "        if x.tag == 'post_time':\n",
    "            messagePostTimes.append(x.text)\n",
    "        if x.tag == 'author':\n",
    "            authorIDs.append((x.attrib['href']).replace('/users/id/',''))\n",
    "        if x.tag == 'kudos':\n",
    "            kudos.append(x.findall(\".//count\")[0].text)\n",
    "        if x.tag == 'views':\n",
    "            views.append(x.findall(\".//count\")[0].text)\n",
    "    if len(messageBodys) != len(messageIDs):\n",
    "        messageBodys.append('')\n",
    "    if len(messagePostTimes) != len(messageIDs):\n",
    "        messagePostTimes.append('')\n",
    "    if len(authorIDs) != len(messageIDs):\n",
    "        authorIDs.append('')\n",
    "    if len(kudos) != len(messageIDs):\n",
    "        authorIDs.append('')\n",
    "    if len(views) != len(messageIDs):\n",
    "        authorIDs.append('')\n",
    "    #print(res[0])\n",
    "\n",
    "\n",
    "#tree.find('./message type').attrib['key']\n"
   ]
  },
  {
   "cell_type": "code",
   "execution_count": 44,
   "metadata": {},
   "outputs": [
    {
     "name": "stdout",
     "output_type": "stream",
     "text": [
      "92206\n",
      "358481\n",
      "92206\n",
      "81863\n",
      "81863\n",
      "92206\n"
     ]
    }
   ],
   "source": [
    "#The import did not get authorIDs, views, or kudos imported properly\n",
    "print(len(messageIDs))\n",
    "print(len(authorIDs))\n",
    "print(len(messageBodys))\n",
    "print(len(views))\n",
    "print(len(kudos))\n",
    "print(len(messagePostTimes))"
   ]
  },
  {
   "cell_type": "code",
   "execution_count": 45,
   "metadata": {},
   "outputs": [],
   "source": [
    "import pandas as pd\n",
    "dict = {'Message ID': messageIDs, 'Message Body': messageBodys, 'Message Post Time': messagePostTimes} \n",
    "    \n",
    "df = pd.DataFrame(dict)"
   ]
  },
  {
   "cell_type": "code",
   "execution_count": 46,
   "metadata": {},
   "outputs": [
    {
     "data": {
      "text/html": [
       "<div>\n",
       "<style scoped>\n",
       "    .dataframe tbody tr th:only-of-type {\n",
       "        vertical-align: middle;\n",
       "    }\n",
       "\n",
       "    .dataframe tbody tr th {\n",
       "        vertical-align: top;\n",
       "    }\n",
       "\n",
       "    .dataframe thead th {\n",
       "        text-align: right;\n",
       "    }\n",
       "</style>\n",
       "<table border=\"1\" class=\"dataframe\">\n",
       "  <thead>\n",
       "    <tr style=\"text-align: right;\">\n",
       "      <th></th>\n",
       "      <th>Message ID</th>\n",
       "      <th>Message Body</th>\n",
       "      <th>Message Post Time</th>\n",
       "    </tr>\n",
       "  </thead>\n",
       "  <tbody>\n",
       "    <tr>\n",
       "      <th>92201</th>\n",
       "      <td>231770</td>\n",
       "      <td>Hi &lt;a href=\"http://forums.au.reachout.com/t5/user/viewprofilepage/user-id/292\"&gt;@lokifish&lt;/a&gt;&lt;BR /&gt;Full of nightmares so didn't sleep that much.&lt;BR /&gt;Yeah i find everything to be hard atm .</td>\n",
       "      <td>2017-03-10T02:03:50+00:00</td>\n",
       "    </tr>\n",
       "    <tr>\n",
       "      <th>92202</th>\n",
       "      <td>231771</td>\n",
       "      <td>Everything &lt;a href=\"http://forums.au.reachout.com/t5/user/viewprofilepage/user-id/8464\"&gt;@JanaG&lt;/a&gt;&lt;BR /&gt;Im failing at my job. Im failing being a big sister. Im failing at studying. Im failing at making friends. Im failing at my family relationships. My mental health is shot as well as my physical&lt;BR /&gt;Ive been promising to go for a bike ride with one sister and teach my youngest sister to ride a 2 wheeler bike but i haven't done either. Everyone keeps getting angry at me. I never do anything right. Im a horrible person!!</td>\n",
       "      <td>2017-03-10T02:17:35+00:00</td>\n",
       "    </tr>\n",
       "    <tr>\n",
       "      <th>92203</th>\n",
       "      <td>231772</td>\n",
       "      <td>Hi, I don't know the answer to the question 'how many young people don't tell anyone about their mental illness' but in 2007 the Australian Bureau of Statistics conducted a survey that asked people who had mental disorder whether they had accessed a mental health service and only 23% of young people aged 16 -24 said they had. This means that 77% hadn't accessed a mental health service. Hope this helps. lorri-RO</td>\n",
       "      <td>2017-03-10T02:43:22+00:00</td>\n",
       "    </tr>\n",
       "    <tr>\n",
       "      <th>92204</th>\n",
       "      <td>231773</td>\n",
       "      <td>None</td>\n",
       "      <td>2017-03-10T02:50:40+00:00</td>\n",
       "    </tr>\n",
       "    <tr>\n",
       "      <th>92205</th>\n",
       "      <td>231774</td>\n",
       "      <td>&lt;P&gt;How are you today&amp;nbsp;&lt;a href=\"http://forums.au.reachout.com/t5/user/viewprofilepage/user-id/5111\"&gt;@j95&lt;/a&gt;? Hope you're feeling okay.&lt;/P&gt;&lt;P&gt;&amp;nbsp;&lt;/P&gt;&lt;P&gt;Yay&amp;nbsp;&lt;a href=\"http://forums.au.reachout.com/t5/user/viewprofilepage/user-id/2306\"&gt;@N1ghtW1ng&lt;/a&gt;! Good luck for the rest of your studying &lt;img class=\"emoticon emoticon-smileyhappy\" id=\"smileyhappy\" src=\"http://inspire.i.lithium.com/i/smilies/16x16_smiley-happy.png\" alt=\"Smiley Happy\" title=\"Smiley Happy\" /&gt;&lt;/P&gt;&lt;P&gt;&amp;nbsp;&lt;/P&gt;&lt;P&gt;&lt;a href=\"http://forums.au.reachout.com/t5/user/viewprofilepage/user-id/9324\"&gt;@Paris83&lt;/a&gt;&amp;nbsp;Enjoy your tv watching &lt;img class=\"emoticon emoticon-smileyhappy\" id=\"smileyhappy\" src=\"http://inspire.i.lithium.com/i/smilies/16x16_smiley-happy.png\" alt=\"Smiley Happy\" title=\"Smiley Happy\" /&gt; Reality tv is so much fun to watch sometimes&amp;nbsp;&lt;img class=\"emoticon emoticon-smileytongue\" id=\"smileytongue\" src=\"http://inspire.i.lithium.com/i/smilies/16x16_smiley-tongue.png\" alt=\"Smiley Tongue\" title=\"Smiley Tongue\" /&gt;&lt;/P&gt;</td>\n",
       "      <td>2017-03-10T03:24:54+00:00</td>\n",
       "    </tr>\n",
       "  </tbody>\n",
       "</table>\n",
       "</div>"
      ],
      "text/plain": [
       "      Message ID  \\\n",
       "92201     231770   \n",
       "92202     231771   \n",
       "92203     231772   \n",
       "92204     231773   \n",
       "92205     231774   \n",
       "\n",
       "                                                                                                                                                                                                                                                                                                                                                                                                                                                                                                                                                                                                                                                                                                                                                                                                                                                                                                                                                                                                                                           Message Body  \\\n",
       "92201                                                                                                                                                                                                                                                                                                                                                                                                                                                                                                                                                                                                                                                                                                                                                                                                                                                      Hi <a href=\"http://forums.au.reachout.com/t5/user/viewprofilepage/user-id/292\">@lokifish</a><BR />Full of nightmares so didn't sleep that much.<BR />Yeah i find everything to be hard atm .   \n",
       "92202                                                                                                                                                                                                                                                                                                                                                                                                                                                                                                    Everything <a href=\"http://forums.au.reachout.com/t5/user/viewprofilepage/user-id/8464\">@JanaG</a><BR />Im failing at my job. Im failing being a big sister. Im failing at studying. Im failing at making friends. Im failing at my family relationships. My mental health is shot as well as my physical<BR />Ive been promising to go for a bike ride with one sister and teach my youngest sister to ride a 2 wheeler bike but i haven't done either. Everyone keeps getting angry at me. I never do anything right. Im a horrible person!!   \n",
       "92203                                                                                                                                                                                                                                                                                                                                                                                                                                                                                                                                                                                                                    Hi, I don't know the answer to the question 'how many young people don't tell anyone about their mental illness' but in 2007 the Australian Bureau of Statistics conducted a survey that asked people who had mental disorder whether they had accessed a mental health service and only 23% of young people aged 16 -24 said they had. This means that 77% hadn't accessed a mental health service. Hope this helps. lorri-RO   \n",
       "92204                                                                                                                                                                                                                                                                                                                                                                                                                                                                                                                                                                                                                                                                                                                                                                                                                                                                                                                                                                                                                                              None   \n",
       "92205  <P>How are you today&nbsp;<a href=\"http://forums.au.reachout.com/t5/user/viewprofilepage/user-id/5111\">@j95</a>? Hope you're feeling okay.</P><P>&nbsp;</P><P>Yay&nbsp;<a href=\"http://forums.au.reachout.com/t5/user/viewprofilepage/user-id/2306\">@N1ghtW1ng</a>! Good luck for the rest of your studying <img class=\"emoticon emoticon-smileyhappy\" id=\"smileyhappy\" src=\"http://inspire.i.lithium.com/i/smilies/16x16_smiley-happy.png\" alt=\"Smiley Happy\" title=\"Smiley Happy\" /></P><P>&nbsp;</P><P><a href=\"http://forums.au.reachout.com/t5/user/viewprofilepage/user-id/9324\">@Paris83</a>&nbsp;Enjoy your tv watching <img class=\"emoticon emoticon-smileyhappy\" id=\"smileyhappy\" src=\"http://inspire.i.lithium.com/i/smilies/16x16_smiley-happy.png\" alt=\"Smiley Happy\" title=\"Smiley Happy\" /> Reality tv is so much fun to watch sometimes&nbsp;<img class=\"emoticon emoticon-smileytongue\" id=\"smileytongue\" src=\"http://inspire.i.lithium.com/i/smilies/16x16_smiley-tongue.png\" alt=\"Smiley Tongue\" title=\"Smiley Tongue\" /></P>   \n",
       "\n",
       "               Message Post Time  \n",
       "92201  2017-03-10T02:03:50+00:00  \n",
       "92202  2017-03-10T02:17:35+00:00  \n",
       "92203  2017-03-10T02:43:22+00:00  \n",
       "92204  2017-03-10T02:50:40+00:00  \n",
       "92205  2017-03-10T03:24:54+00:00  "
      ]
     },
     "execution_count": 46,
     "metadata": {},
     "output_type": "execute_result"
    }
   ],
   "source": [
    "df.tail()"
   ]
  },
  {
   "cell_type": "code",
   "execution_count": 47,
   "metadata": {},
   "outputs": [
    {
     "name": "stdout",
     "output_type": "stream",
     "text": [
      "<class 'pandas.core.frame.DataFrame'>\n",
      "RangeIndex: 92206 entries, 0 to 92205\n",
      "Data columns (total 3 columns):\n",
      " #   Column             Non-Null Count  Dtype \n",
      "---  ------             --------------  ----- \n",
      " 0   Message ID         92206 non-null  object\n",
      " 1   Message Body       89162 non-null  object\n",
      " 2   Message Post Time  92206 non-null  object\n",
      "dtypes: object(3)\n",
      "memory usage: 2.1+ MB\n"
     ]
    }
   ],
   "source": [
    "df.info()"
   ]
  },
  {
   "cell_type": "code",
   "execution_count": 66,
   "metadata": {},
   "outputs": [],
   "source": [
    "#Bring in classification of message\n",
    "df_label = pd.read_csv('clpsych17-data/clpsych17-data/clpsych17-test/2017-test.tsv', sep='\\t', names=['Message ID2','Label','Detail Label','Empty1','Empty2'])"
   ]
  },
  {
   "cell_type": "code",
   "execution_count": 67,
   "metadata": {},
   "outputs": [
    {
     "data": {
      "text/html": [
       "<div>\n",
       "<style scoped>\n",
       "    .dataframe tbody tr th:only-of-type {\n",
       "        vertical-align: middle;\n",
       "    }\n",
       "\n",
       "    .dataframe tbody tr th {\n",
       "        vertical-align: top;\n",
       "    }\n",
       "\n",
       "    .dataframe thead th {\n",
       "        text-align: right;\n",
       "    }\n",
       "</style>\n",
       "<table border=\"1\" class=\"dataframe\">\n",
       "  <thead>\n",
       "    <tr style=\"text-align: right;\">\n",
       "      <th></th>\n",
       "      <th>Message ID2</th>\n",
       "      <th>Label</th>\n",
       "      <th>Detail Label</th>\n",
       "      <th>Empty1</th>\n",
       "      <th>Empty2</th>\n",
       "    </tr>\n",
       "  </thead>\n",
       "  <tbody>\n",
       "    <tr>\n",
       "      <th>0</th>\n",
       "      <td>194634</td>\n",
       "      <td>green</td>\n",
       "      <td>supporting</td>\n",
       "      <td>NaN</td>\n",
       "      <td>NaN</td>\n",
       "    </tr>\n",
       "    <tr>\n",
       "      <th>1</th>\n",
       "      <td>194658</td>\n",
       "      <td>green</td>\n",
       "      <td>allClear</td>\n",
       "      <td>NaN</td>\n",
       "      <td>NaN</td>\n",
       "    </tr>\n",
       "    <tr>\n",
       "      <th>2</th>\n",
       "      <td>194760</td>\n",
       "      <td>crisis</td>\n",
       "      <td>crisis</td>\n",
       "      <td>NaN</td>\n",
       "      <td>NaN</td>\n",
       "    </tr>\n",
       "    <tr>\n",
       "      <th>3</th>\n",
       "      <td>194783</td>\n",
       "      <td>green</td>\n",
       "      <td>allClear</td>\n",
       "      <td>NaN</td>\n",
       "      <td>NaN</td>\n",
       "    </tr>\n",
       "    <tr>\n",
       "      <th>4</th>\n",
       "      <td>194795</td>\n",
       "      <td>green</td>\n",
       "      <td>allClear</td>\n",
       "      <td>NaN</td>\n",
       "      <td>NaN</td>\n",
       "    </tr>\n",
       "  </tbody>\n",
       "</table>\n",
       "</div>"
      ],
      "text/plain": [
       "   Message ID2   Label Detail Label  Empty1  Empty2\n",
       "0       194634   green   supporting     NaN     NaN\n",
       "1       194658   green     allClear     NaN     NaN\n",
       "2       194760  crisis       crisis     NaN     NaN\n",
       "3       194783   green     allClear     NaN     NaN\n",
       "4       194795   green     allClear     NaN     NaN"
      ]
     },
     "execution_count": 67,
     "metadata": {},
     "output_type": "execute_result"
    }
   ],
   "source": [
    "df_label.head()"
   ]
  },
  {
   "cell_type": "code",
   "execution_count": 69,
   "metadata": {},
   "outputs": [],
   "source": [
    "#Convert message ID and author to integer in order to merge with tab delimited files\n",
    "df['Message ID2']=df['Message ID'].astype(int)"
   ]
  },
  {
   "cell_type": "code",
   "execution_count": 70,
   "metadata": {},
   "outputs": [
    {
     "name": "stdout",
     "output_type": "stream",
     "text": [
      "<class 'pandas.core.frame.DataFrame'>\n",
      "RangeIndex: 400 entries, 0 to 399\n",
      "Data columns (total 8 columns):\n",
      " #   Column             Non-Null Count  Dtype  \n",
      "---  ------             --------------  -----  \n",
      " 0   Message ID         400 non-null    object \n",
      " 1   Message Body       400 non-null    object \n",
      " 2   Message Post Time  400 non-null    object \n",
      " 3   Message ID2        400 non-null    int32  \n",
      " 4   Label              400 non-null    object \n",
      " 5   Detail Label       400 non-null    object \n",
      " 6   Empty1             0 non-null      float64\n",
      " 7   Empty2             0 non-null      float64\n",
      "dtypes: float64(2), int32(1), object(5)\n",
      "memory usage: 23.6+ KB\n"
     ]
    }
   ],
   "source": [
    "#Merge message text with classification\n",
    "df_new=df.merge(df_label, how='inner', on='Message ID2')\n",
    "df_new.info()"
   ]
  },
  {
   "cell_type": "code",
   "execution_count": 74,
   "metadata": {},
   "outputs": [
    {
     "data": {
      "text/html": [
       "<div>\n",
       "<style scoped>\n",
       "    .dataframe tbody tr th:only-of-type {\n",
       "        vertical-align: middle;\n",
       "    }\n",
       "\n",
       "    .dataframe tbody tr th {\n",
       "        vertical-align: top;\n",
       "    }\n",
       "\n",
       "    .dataframe thead th {\n",
       "        text-align: right;\n",
       "    }\n",
       "</style>\n",
       "<table border=\"1\" class=\"dataframe\">\n",
       "  <thead>\n",
       "    <tr style=\"text-align: right;\">\n",
       "      <th></th>\n",
       "      <th>Message ID</th>\n",
       "      <th>Message Body</th>\n",
       "      <th>Message Post Time</th>\n",
       "      <th>Message ID2</th>\n",
       "      <th>Label</th>\n",
       "      <th>Detail Label</th>\n",
       "      <th>Empty1</th>\n",
       "      <th>Empty2</th>\n",
       "    </tr>\n",
       "  </thead>\n",
       "  <tbody>\n",
       "    <tr>\n",
       "      <th>2</th>\n",
       "      <td>194760</td>\n",
       "      <td>&lt;P&gt;hello, I'm not really sure where to start with this or how to go about saying it I guess I've never really been good at telling people things but I thought I would give it a try. Over the last few year's I have been battling with anxiety and depression, up until the last few months I have been able to manage them on my own I have been able to manage the feelings they bring and all of the other bad stuff, but recently they have become too much for me to be able to handle and it is getting the better of me, the feelings of wanting to harm myself, of not enjoying life or the things in life, the feeling of everyone around me hating me, it is all becoming too much for me to handle. I am so stressed out with school and trying to be able to afford things like moving out of home at the end of the year and having a car, the stress of school mixed with doing nothing at school and people at school that is becoming too much to handle, I don't enjoy going to school or seeing my friends, when i get home things aren't much better I don't talk much to my family at all and I can't tell them things that are going on mentally with me because they have to deal with an older sibling of mine who for the last 8 years has been dealing with severe&amp;nbsp;anxiety, depression, and self-harm and I just can't add my problems for my family to deal with, having someone so close to me as I have grown up going through this and seeing them hurt themselves and the other things have taken a seriously large toll on me. My girlfriend is also dealing with forms of depression and I can't really tell her things without the fear of her getting mad at me or upset at herself, I blame myself for her problems&amp;nbsp;and I'm scared of the damage that her on a daily basis having to deal with me who is dealing with these illnesses I am scared of the damage it is doing to her, I blame myself for her self-harming I try to help her but I seem to just make things worse I feel like I'm a failure. I am always feeling sick due to stomach ulcers that have been caused from all the anxiety, due to these ulcers and the pain they cause me, I barely eat anything ever I have gone through periods where all I will eat is a very small dinner once a day. I don't sleep very well at night ever I only get a few hours of sleep mainly because I just can't fall asleep then when I do fall asleep I wake up many times, I feel useless in life like my life is going nowhere, I feel like I am fighting everything in my head on my own with nobody by my side to help me through it and it's not working anymore I'm not strong enough to keep going I'm becoming so tired&amp;nbsp;(not sleeping tired but mentally tired) I can't keep my fight up much longer I am starting to break down in tears for no reason all the time, the urges to harm myself and to not keep fighting and just give up are just getting too strong. I feel that I am alone with all of this with nobody around to help I have nobody I can talk to,&amp;nbsp;I'm struggling to cope with everything right now and I just can't take it my mind can't take it anymore. I'm sorry I'm an inconvenience to everyone and to the people around me, I'm sorry if this doesn't make much sense, I have never really been good at telling people things so I have just started writing and I'm&amp;nbsp;sorry if this doesnt make sense, but long story short i really am struggling with everything at the moment and all i feel like doing is giving up and the stuff in my head is really starting to get to me and i can't find a way to escape from it.&lt;/P&gt;&lt;P&gt;Thank you for taking the time to read this, Jubby.&amp;nbsp;&lt;/P&gt;</td>\n",
       "      <td>2016-08-15T11:11:36+00:00</td>\n",
       "      <td>194760</td>\n",
       "      <td>crisis</td>\n",
       "      <td>crisis</td>\n",
       "      <td>NaN</td>\n",
       "      <td>NaN</td>\n",
       "    </tr>\n",
       "  </tbody>\n",
       "</table>\n",
       "</div>"
      ],
      "text/plain": [
       "  Message ID  \\\n",
       "2     194760   \n",
       "\n",
       "                                                                                                                                                                                                                                                                                                                                                                                                                                                                                                                                                                                                                                                                                                                                                                                                                                                                                                                                                                                                                                                                                                                                                                                                                                                                                                                                                                                                                                                                                                                                                                                                                                                                                                                                                                                                                                                                                                                                                                                                                                                                                                                                                                                                                                                                                                                                                                                                                                                                                                                                                                                                                                                                                                                                                                                                                                                                                                                                                                                                                                                                                                                                                                                                                                                                                                                                                                                                                                                                                                                                                                                                                                                                                                                                           Message Body  \\\n",
       "2  <P>hello, I'm not really sure where to start with this or how to go about saying it I guess I've never really been good at telling people things but I thought I would give it a try. Over the last few year's I have been battling with anxiety and depression, up until the last few months I have been able to manage them on my own I have been able to manage the feelings they bring and all of the other bad stuff, but recently they have become too much for me to be able to handle and it is getting the better of me, the feelings of wanting to harm myself, of not enjoying life or the things in life, the feeling of everyone around me hating me, it is all becoming too much for me to handle. I am so stressed out with school and trying to be able to afford things like moving out of home at the end of the year and having a car, the stress of school mixed with doing nothing at school and people at school that is becoming too much to handle, I don't enjoy going to school or seeing my friends, when i get home things aren't much better I don't talk much to my family at all and I can't tell them things that are going on mentally with me because they have to deal with an older sibling of mine who for the last 8 years has been dealing with severe&nbsp;anxiety, depression, and self-harm and I just can't add my problems for my family to deal with, having someone so close to me as I have grown up going through this and seeing them hurt themselves and the other things have taken a seriously large toll on me. My girlfriend is also dealing with forms of depression and I can't really tell her things without the fear of her getting mad at me or upset at herself, I blame myself for her problems&nbsp;and I'm scared of the damage that her on a daily basis having to deal with me who is dealing with these illnesses I am scared of the damage it is doing to her, I blame myself for her self-harming I try to help her but I seem to just make things worse I feel like I'm a failure. I am always feeling sick due to stomach ulcers that have been caused from all the anxiety, due to these ulcers and the pain they cause me, I barely eat anything ever I have gone through periods where all I will eat is a very small dinner once a day. I don't sleep very well at night ever I only get a few hours of sleep mainly because I just can't fall asleep then when I do fall asleep I wake up many times, I feel useless in life like my life is going nowhere, I feel like I am fighting everything in my head on my own with nobody by my side to help me through it and it's not working anymore I'm not strong enough to keep going I'm becoming so tired&nbsp;(not sleeping tired but mentally tired) I can't keep my fight up much longer I am starting to break down in tears for no reason all the time, the urges to harm myself and to not keep fighting and just give up are just getting too strong. I feel that I am alone with all of this with nobody around to help I have nobody I can talk to,&nbsp;I'm struggling to cope with everything right now and I just can't take it my mind can't take it anymore. I'm sorry I'm an inconvenience to everyone and to the people around me, I'm sorry if this doesn't make much sense, I have never really been good at telling people things so I have just started writing and I'm&nbsp;sorry if this doesnt make sense, but long story short i really am struggling with everything at the moment and all i feel like doing is giving up and the stuff in my head is really starting to get to me and i can't find a way to escape from it.</P><P>Thank you for taking the time to read this, Jubby.&nbsp;</P>   \n",
       "\n",
       "           Message Post Time  Message ID2   Label Detail Label  Empty1  Empty2  \n",
       "2  2016-08-15T11:11:36+00:00       194760  crisis       crisis     NaN     NaN  "
      ]
     },
     "execution_count": 74,
     "metadata": {},
     "output_type": "execute_result"
    }
   ],
   "source": [
    "#Check one record on the merge\n",
    "df_new[df_new['Message ID2']==194760]"
   ]
  },
  {
   "cell_type": "code",
   "execution_count": 75,
   "metadata": {},
   "outputs": [
    {
     "data": {
      "text/html": [
       "<div>\n",
       "<style scoped>\n",
       "    .dataframe tbody tr th:only-of-type {\n",
       "        vertical-align: middle;\n",
       "    }\n",
       "\n",
       "    .dataframe tbody tr th {\n",
       "        vertical-align: top;\n",
       "    }\n",
       "\n",
       "    .dataframe thead th {\n",
       "        text-align: right;\n",
       "    }\n",
       "</style>\n",
       "<table border=\"1\" class=\"dataframe\">\n",
       "  <thead>\n",
       "    <tr style=\"text-align: right;\">\n",
       "      <th></th>\n",
       "      <th>Message ID2</th>\n",
       "      <th>Label</th>\n",
       "      <th>Message Body</th>\n",
       "    </tr>\n",
       "  </thead>\n",
       "  <tbody>\n",
       "    <tr>\n",
       "      <th>398</th>\n",
       "      <td>231256</td>\n",
       "      <td>red</td>\n",
       "      <td>&lt;P&gt;i have allwas whated to have a cool good life but i stell dont. and i have got evryone telling me that wen i grow up&lt;/P&gt;&lt;P&gt;that im going to fael and that im not going to get eny wher and it suks. cuz my mum has mentil elnes to and i dont even now&lt;/P&gt;&lt;P&gt;wo my dad even is :,( I dont no what to do. plzzz help some one enyone&lt;/P&gt;&lt;P&gt;&amp;nbsp;&lt;/P&gt;&lt;P&gt;(FYI) I SUKE AT ENGLESH and its hard geting throw life. and i dot even know what a good life is.&lt;/P&gt;&lt;P&gt;&amp;nbsp;&lt;/P&gt;&lt;P&gt;&amp;nbsp;&lt;/P&gt;&lt;P&gt;&amp;nbsp;&lt;/P&gt;</td>\n",
       "    </tr>\n",
       "    <tr>\n",
       "      <th>399</th>\n",
       "      <td>231774</td>\n",
       "      <td>green</td>\n",
       "      <td>&lt;P&gt;How are you today&amp;nbsp;&lt;a href=\"http://forums.au.reachout.com/t5/user/viewprofilepage/user-id/5111\"&gt;@j95&lt;/a&gt;? Hope you're feeling okay.&lt;/P&gt;&lt;P&gt;&amp;nbsp;&lt;/P&gt;&lt;P&gt;Yay&amp;nbsp;&lt;a href=\"http://forums.au.reachout.com/t5/user/viewprofilepage/user-id/2306\"&gt;@N1ghtW1ng&lt;/a&gt;! Good luck for the rest of your studying &lt;img class=\"emoticon emoticon-smileyhappy\" id=\"smileyhappy\" src=\"http://inspire.i.lithium.com/i/smilies/16x16_smiley-happy.png\" alt=\"Smiley Happy\" title=\"Smiley Happy\" /&gt;&lt;/P&gt;&lt;P&gt;&amp;nbsp;&lt;/P&gt;&lt;P&gt;&lt;a href=\"http://forums.au.reachout.com/t5/user/viewprofilepage/user-id/9324\"&gt;@Paris83&lt;/a&gt;&amp;nbsp;Enjoy your tv watching &lt;img class=\"emoticon emoticon-smileyhappy\" id=\"smileyhappy\" src=\"http://inspire.i.lithium.com/i/smilies/16x16_smiley-happy.png\" alt=\"Smiley Happy\" title=\"Smiley Happy\" /&gt; Reality tv is so much fun to watch sometimes&amp;nbsp;&lt;img class=\"emoticon emoticon-smileytongue\" id=\"smileytongue\" src=\"http://inspire.i.lithium.com/i/smilies/16x16_smiley-tongue.png\" alt=\"Smiley Tongue\" title=\"Smiley Tongue\" /&gt;&lt;/P&gt;</td>\n",
       "    </tr>\n",
       "  </tbody>\n",
       "</table>\n",
       "</div>"
      ],
      "text/plain": [
       "     Message ID2  Label  \\\n",
       "398       231256    red   \n",
       "399       231774  green   \n",
       "\n",
       "                                                                                                                                                                                                                                                                                                                                                                                                                                                                                                                                                                                                                                                                                                                                                                                                                                                                                                                                                                                                                                         Message Body  \n",
       "398                                                                                                                                                                                                                                                                                                                                                                                                                                                                                                                                             <P>i have allwas whated to have a cool good life but i stell dont. and i have got evryone telling me that wen i grow up</P><P>that im going to fael and that im not going to get eny wher and it suks. cuz my mum has mentil elnes to and i dont even now</P><P>wo my dad even is :,( I dont no what to do. plzzz help some one enyone</P><P>&nbsp;</P><P>(FYI) I SUKE AT ENGLESH and its hard geting throw life. and i dot even know what a good life is.</P><P>&nbsp;</P><P>&nbsp;</P><P>&nbsp;</P>  \n",
       "399  <P>How are you today&nbsp;<a href=\"http://forums.au.reachout.com/t5/user/viewprofilepage/user-id/5111\">@j95</a>? Hope you're feeling okay.</P><P>&nbsp;</P><P>Yay&nbsp;<a href=\"http://forums.au.reachout.com/t5/user/viewprofilepage/user-id/2306\">@N1ghtW1ng</a>! Good luck for the rest of your studying <img class=\"emoticon emoticon-smileyhappy\" id=\"smileyhappy\" src=\"http://inspire.i.lithium.com/i/smilies/16x16_smiley-happy.png\" alt=\"Smiley Happy\" title=\"Smiley Happy\" /></P><P>&nbsp;</P><P><a href=\"http://forums.au.reachout.com/t5/user/viewprofilepage/user-id/9324\">@Paris83</a>&nbsp;Enjoy your tv watching <img class=\"emoticon emoticon-smileyhappy\" id=\"smileyhappy\" src=\"http://inspire.i.lithium.com/i/smilies/16x16_smiley-happy.png\" alt=\"Smiley Happy\" title=\"Smiley Happy\" /> Reality tv is so much fun to watch sometimes&nbsp;<img class=\"emoticon emoticon-smileytongue\" id=\"smileytongue\" src=\"http://inspire.i.lithium.com/i/smilies/16x16_smiley-tongue.png\" alt=\"Smiley Tongue\" title=\"Smiley Tongue\" /></P>  "
      ]
     },
     "execution_count": 75,
     "metadata": {},
     "output_type": "execute_result"
    }
   ],
   "source": [
    "#Drop variables used for derivations and only keep variables of interest\n",
    "df_red=df_new[['Message ID2', 'Label','Message Body']]\n",
    "df_red.tail((2))"
   ]
  },
  {
   "cell_type": "code",
   "execution_count": 76,
   "metadata": {},
   "outputs": [
    {
     "data": {
      "text/html": [
       "<div>\n",
       "<style scoped>\n",
       "    .dataframe tbody tr th:only-of-type {\n",
       "        vertical-align: middle;\n",
       "    }\n",
       "\n",
       "    .dataframe tbody tr th {\n",
       "        vertical-align: top;\n",
       "    }\n",
       "\n",
       "    .dataframe thead th {\n",
       "        text-align: right;\n",
       "    }\n",
       "</style>\n",
       "<table border=\"1\" class=\"dataframe\">\n",
       "  <thead>\n",
       "    <tr style=\"text-align: right;\">\n",
       "      <th></th>\n",
       "      <th>Message ID2</th>\n",
       "      <th>Label</th>\n",
       "      <th>Message Body</th>\n",
       "      <th>Message Body no HTML</th>\n",
       "    </tr>\n",
       "  </thead>\n",
       "  <tbody>\n",
       "    <tr>\n",
       "      <th>0</th>\n",
       "      <td>194634</td>\n",
       "      <td>green</td>\n",
       "      <td>Hey &lt;a href=\"http://forums.au.reachout.com/t5/user/viewprofilepage/user-id/8220\"&gt;@BluezCluez&lt;/a&gt;,&lt;BR /&gt;&lt;BR /&gt;Before I say anything else, I want to let you know how awesome it is you went out. Living with social anxiety is hard, and going out can be really difficult. Even though it took a negative turn, you should still be super proud that you went out.&lt;BR /&gt;It sucks that the old man was so rude to you, sometimes people can be so horrible, it's not right and it's okay to get mad. You handled yourself really well in that situation, you should be proud of that too. &lt;img class=\"emoticon emoticon-smileyhappy\" id=\"smileyhappy\" src=\"http://inspire.i.lithium.com/i/smilies/16x16_smiley-happy.png\" alt=\"Smiley Happy\" title=\"Smiley Happy\" /&gt; It is really hard to not act on your anger and remaining in control is a good thing, even though the guy might've deserved it. Your parents are wrong in calling you a coward, it takes more strength to resist than to act.&lt;BR /&gt;&lt;BR /&gt;I don't know why people act the way they do, but not everyone is horrible. There are good people out there, and those people make it all worthwhile, as hard as they might be to find, they are there.&lt;BR /&gt;I can't say for sure how I would've reacted in that situation. I do know that you did really well in how you reacted.&lt;BR /&gt;&lt;BR /&gt;How are you feeling today? Have things improved at all?</td>\n",
       "      <td>Hey @BluezCluez,Before I say anything else, I want to let you know how awesome it is you went out. Living with social anxiety is hard, and going out can be really difficult. Even though it took a negative turn, you should still be super proud that you went out.It sucks that the old man was so rude to you, sometimes people can be so horrible, it's not right and it's okay to get mad. You handled yourself really well in that situation, you should be proud of that too.  It is really hard to not act on your anger and remaining in control is a good thing, even though the guy might've deserved it. Your parents are wrong in calling you a coward, it takes more strength to resist than to act.I don't know why people act the way they do, but not everyone is horrible. There are good people out there, and those people make it all worthwhile, as hard as they might be to find, they are there.I can't say for sure how I would've reacted in that situation. I do know that you did really well in how you reacted.How are you feeling today? Have things improved at all?</td>\n",
       "    </tr>\n",
       "    <tr>\n",
       "      <th>1</th>\n",
       "      <td>194658</td>\n",
       "      <td>green</td>\n",
       "      <td>&lt;P&gt;Hi awesome people!&lt;/P&gt;&lt;P&gt;&amp;nbsp;&lt;/P&gt;&lt;P&gt;&lt;STRONG&gt;Tell us a bit about your pets? If you don’t have pets, tell us what sort of pet you would like!&lt;/STRONG&gt;&lt;/P&gt;&lt;P&gt;I'm not allowed pets where I live (the joys of renting)&amp;nbsp;&lt;/P&gt;&lt;P&gt;When I buy my own house (eventually) I'm gonna have a kitty, a dog and a pet sheep that I will train.&amp;nbsp;&lt;/P&gt;</td>\n",
       "      <td>Hi awesome people!Tell us a bit about your pets? If you don’t have pets, tell us what sort of pet you would like!I'm not allowed pets where I live (the joys of renting)When I buy my own house (eventually) I'm gonna have a kitty, a dog and a pet sheep that I will train.</td>\n",
       "    </tr>\n",
       "  </tbody>\n",
       "</table>\n",
       "</div>"
      ],
      "text/plain": [
       "   Message ID2  Label  \\\n",
       "0       194634  green   \n",
       "1       194658  green   \n",
       "\n",
       "                                                                                                                                                                                                                                                                                                                                                                                                                                                                                                                                                                                                                                                                                                                                                                                                                                                                                                                                                                                                                                                                                                                                                                                                                                                                                                                                                                                                       Message Body  \\\n",
       "0  Hey <a href=\"http://forums.au.reachout.com/t5/user/viewprofilepage/user-id/8220\">@BluezCluez</a>,<BR /><BR />Before I say anything else, I want to let you know how awesome it is you went out. Living with social anxiety is hard, and going out can be really difficult. Even though it took a negative turn, you should still be super proud that you went out.<BR />It sucks that the old man was so rude to you, sometimes people can be so horrible, it's not right and it's okay to get mad. You handled yourself really well in that situation, you should be proud of that too. <img class=\"emoticon emoticon-smileyhappy\" id=\"smileyhappy\" src=\"http://inspire.i.lithium.com/i/smilies/16x16_smiley-happy.png\" alt=\"Smiley Happy\" title=\"Smiley Happy\" /> It is really hard to not act on your anger and remaining in control is a good thing, even though the guy might've deserved it. Your parents are wrong in calling you a coward, it takes more strength to resist than to act.<BR /><BR />I don't know why people act the way they do, but not everyone is horrible. There are good people out there, and those people make it all worthwhile, as hard as they might be to find, they are there.<BR />I can't say for sure how I would've reacted in that situation. I do know that you did really well in how you reacted.<BR /><BR />How are you feeling today? Have things improved at all?   \n",
       "1                                                                                                                                                                                                                                                                                                                                                                                                                                                                                                                                                                                                                                                                                                                                                                                                                                                                                                                                                                                                                                                               <P>Hi awesome people!</P><P>&nbsp;</P><P><STRONG>Tell us a bit about your pets? If you don’t have pets, tell us what sort of pet you would like!</STRONG></P><P>I'm not allowed pets where I live (the joys of renting)&nbsp;</P><P>When I buy my own house (eventually) I'm gonna have a kitty, a dog and a pet sheep that I will train.&nbsp;</P>   \n",
       "\n",
       "                                                                                                                                                                                                                                                                                                                                                                                                                                                                                                                                                                                                                                                                                                                                                                                                                                                                                                                                                                                                                                                                                    Message Body no HTML  \n",
       "0  Hey @BluezCluez,Before I say anything else, I want to let you know how awesome it is you went out. Living with social anxiety is hard, and going out can be really difficult. Even though it took a negative turn, you should still be super proud that you went out.It sucks that the old man was so rude to you, sometimes people can be so horrible, it's not right and it's okay to get mad. You handled yourself really well in that situation, you should be proud of that too.  It is really hard to not act on your anger and remaining in control is a good thing, even though the guy might've deserved it. Your parents are wrong in calling you a coward, it takes more strength to resist than to act.I don't know why people act the way they do, but not everyone is horrible. There are good people out there, and those people make it all worthwhile, as hard as they might be to find, they are there.I can't say for sure how I would've reacted in that situation. I do know that you did really well in how you reacted.How are you feeling today? Have things improved at all?  \n",
       "1                                                                                                                                                                                                                                                                                                                                                                                                                                                                                                                                                                                                                                                                                                                                                                                                                          Hi awesome people!Tell us a bit about your pets? If you don’t have pets, tell us what sort of pet you would like!I'm not allowed pets where I live (the joys of renting)When I buy my own house (eventually) I'm gonna have a kitty, a dog and a pet sheep that I will train.  "
      ]
     },
     "execution_count": 76,
     "metadata": {},
     "output_type": "execute_result"
    }
   ],
   "source": [
    "#Add variable for text without HTML tags\n",
    "#df_new2=df_new.replace(to_replace=\"<[^>]*>|\\n|&nbsp;\", value=\"\", regex=True)\n",
    "df_red['Message Body no HTML']=df_red['Message Body'].replace(to_replace=\"<[^>]*>|\\n|&nbsp;\", value=\"\", regex=True)\n",
    "df_red.head((2))"
   ]
  },
  {
   "cell_type": "code",
   "execution_count": 77,
   "metadata": {},
   "outputs": [],
   "source": [
    "#Map the label to a numerical value because this is needed for BERT instead of the text\n",
    "#to_rep = {'green': 0, 'amber': 1, 'red': 2, 'crisis': 3}\n",
    "to_num = {'green': 0, 'amber': 1, 'red': 2, 'crisis': 3}\n",
    "df_red['Label Num']=df_red['Label']\n",
    "df_red.replace({'Label Num': to_num}, inplace=True)"
   ]
  },
  {
   "cell_type": "markdown",
   "metadata": {},
   "source": [
    "### 5.2 Run BERT Model on Testing"
   ]
  },
  {
   "cell_type": "code",
   "execution_count": 78,
   "metadata": {},
   "outputs": [],
   "source": [
    "realtest=df_red"
   ]
  },
  {
   "cell_type": "code",
   "execution_count": 80,
   "metadata": {},
   "outputs": [
    {
     "data": {
      "text/plain": [
       "(1069, 1069)"
      ]
     },
     "execution_count": 80,
     "metadata": {},
     "output_type": "execute_result"
    }
   ],
   "source": [
    "#Split test and training data into X and Y\n",
    "train_X = train['Message Body no HTML'].to_list()\n",
    "train_y = train['Label Num'].to_list()\n",
    "\n",
    "test_X = test['Message Body no HTML'].to_list()\n",
    "test_y = test['Label Num'].to_list()\n",
    "\n",
    "realtest_X = realtest['Message Body no HTML'].to_list()\n",
    "realtest_y = realtest['Label Num'].to_list()\n",
    "\n",
    "len(train_X), len(train_y)"
   ]
  },
  {
   "cell_type": "code",
   "execution_count": 81,
   "metadata": {},
   "outputs": [],
   "source": [
    "class MultiLabelDataset(torch.utils.data.Dataset):\n",
    "\n",
    "    #Initializer function\n",
    "    #Self references what it is within this class\n",
    "    def __init__(self, text, labels, tokenizer, max_len):\n",
    "        self.tokenizer = tokenizer\n",
    "        self.text = text\n",
    "        self.targets = labels\n",
    "        self.max_len = max_len\n",
    "\n",
    "    #Return lenght of text\n",
    "    def __len__(self):\n",
    "        return len(self.text)\n",
    "\n",
    "    def __getitem__(self, index):\n",
    "        text = self.text[index]\n",
    "        inputs = self.tokenizer.encode_plus(\n",
    "            text,\n",
    "            None,\n",
    "            add_special_tokens=True,\n",
    "            max_length=self.max_len,\n",
    "            pad_to_max_length=True,                                  \n",
    "            truncation=True,\n",
    "            return_token_type_ids=True\n",
    "        )\n",
    "        ids = inputs['input_ids']\n",
    "        mask = inputs['attention_mask']\n",
    "        token_type_ids = inputs[\"token_type_ids\"]\n",
    "\n",
    "        return {\n",
    "            'ids': torch.tensor(ids, dtype=torch.long),\n",
    "            'mask': torch.tensor(mask, dtype=torch.long),\n",
    "            'token_type_ids': torch.tensor(token_type_ids, dtype=torch.long),\n",
    "            'targets': torch.tensor(self.targets[index], dtype=torch.long)\n",
    "        }"
   ]
  },
  {
   "cell_type": "code",
   "execution_count": 82,
   "metadata": {},
   "outputs": [],
   "source": [
    "class BERTClass(torch.nn.Module):\n",
    "    def __init__(self, NUM_OUT):\n",
    "        super(BERTClass, self).__init__()\n",
    "                   \n",
    "        self.l1 = BertModel.from_pretrained(\"bert-base-uncased\")\n",
    "#         self.pre_classifier = torch.nn.Linear(768, 256)\n",
    "        self.classifier = torch.nn.Linear(768, NUM_OUT)\n",
    "#         self.dropout = torch.nn.Dropout(0.5)\n",
    "        self.softmax = torch.nn.Softmax(dim=1)\n",
    "\n",
    "    def forward(self, input_ids, attention_mask, token_type_ids):\n",
    "        output_1 = self.l1(input_ids=input_ids, attention_mask=attention_mask)\n",
    "        hidden_state = output_1[0]\n",
    "        pooler = hidden_state[:, 0]\n",
    "#         pooler = self.pre_classifier(pooler)\n",
    "#         pooler = torch.nn.Tanh()(pooler)\n",
    "#         pooler = self.dropout(pooler)\n",
    "        output = self.classifier(pooler)\n",
    "        output = self.softmax(output)\n",
    "        return output"
   ]
  },
  {
   "cell_type": "code",
   "execution_count": 83,
   "metadata": {},
   "outputs": [],
   "source": [
    "def loss_fn(outputs, targets):\n",
    "    return torch.nn.CrossEntropyLoss()(outputs, targets)\n",
    "\n",
    "def train(model, training_loader, optimizer):\n",
    "    model.train()\n",
    "    for data in tqdm(training_loader):\n",
    "        ids = data['ids'].to(device, dtype = torch.long)\n",
    "        mask = data['mask'].to(device, dtype = torch.long)\n",
    "        token_type_ids = data['token_type_ids'].to(device, dtype = torch.long)\n",
    "        targets = data['targets'].to(device, dtype = torch.long)\n",
    "\n",
    "        outputs = model(ids, mask, token_type_ids)\n",
    "\n",
    "        optimizer.zero_grad()\n",
    "        loss = loss_fn(outputs, targets)\n",
    "\n",
    "        optimizer.zero_grad()\n",
    "        loss.backward()\n",
    "        optimizer.step()\n",
    "    return loss\n",
    "    \n",
    "def validation(model, testing_loader):\n",
    "    model.eval()\n",
    "    fin_targets=[]\n",
    "    fin_outputs=[]\n",
    "    with torch.no_grad():\n",
    "        for data in tqdm(testing_loader):\n",
    "            targets = data['targets']\n",
    "            ids = data['ids'].to(device, dtype = torch.long)\n",
    "            mask = data['mask'].to(device, dtype = torch.long)\n",
    "            token_type_ids = data['token_type_ids'].to(device, dtype = torch.long)\n",
    "            outputs = model(ids, mask, token_type_ids)\n",
    "            outputs = torch.sigmoid(outputs).cpu().detach()\n",
    "            fin_outputs.extend(outputs)\n",
    "            fin_targets.extend(targets)\n",
    "    return torch.stack(fin_outputs), torch.stack(fin_targets)"
   ]
  },
  {
   "cell_type": "code",
   "execution_count": 84,
   "metadata": {},
   "outputs": [
    {
     "name": "stdout",
     "output_type": "stream",
     "text": [
      "@Sophie-RO I need to say something but I dont know how\n"
     ]
    },
    {
     "data": {
      "text/plain": [
       "{'input_ids': [101, 1030, 8234, 1011, 20996, 1045, 2342, 2000, 2360, 2242, 2021, 1045, 2123, 2102, 2113, 2129, 102, 0, 0, 0, 0, 0, 0, 0, 0, 0, 0, 0, 0, 0], 'token_type_ids': [0, 0, 0, 0, 0, 0, 0, 0, 0, 0, 0, 0, 0, 0, 0, 0, 0, 0, 0, 0, 0, 0, 0, 0, 0, 0, 0, 0, 0, 0], 'attention_mask': [1, 1, 1, 1, 1, 1, 1, 1, 1, 1, 1, 1, 1, 1, 1, 1, 1, 0, 0, 0, 0, 0, 0, 0, 0, 0, 0, 0, 0, 0]}"
      ]
     },
     "execution_count": 84,
     "metadata": {},
     "output_type": "execute_result"
    }
   ],
   "source": [
    "tokenizer = BertTokenizer.from_pretrained('bert-base-uncased')\n",
    "\n",
    "# what does the tokenizer do?\n",
    "print(train_X[5])\n",
    "\n",
    "tokenizer.encode_plus(\n",
    "            train_X[5],\n",
    "            None,\n",
    "            add_special_tokens=True,\n",
    "            max_length=30,\n",
    "            pad_to_max_length=True,\n",
    "            truncation=True,\n",
    "            return_token_type_ids=True\n",
    "        )"
   ]
  },
  {
   "cell_type": "code",
   "execution_count": 85,
   "metadata": {},
   "outputs": [],
   "source": [
    "MAX_LEN = 350\n",
    "BATCH_SIZE = 64\n",
    "EPOCHS = 3\n",
    "NUM_OUT = 4 # 7 classifications\n",
    "LEARNING_RATE = 2e-05\n",
    "\n",
    "train_y2 = torch.tensor(train_y, dtype=torch.long, device=device)\n",
    "test_y2 = torch.tensor(test_y, dtype=torch.long, device=device)\n",
    "realtest_y2 = torch.tensor(realtest_y, dtype=torch.long, device=device)\n",
    "\n",
    "training_data = MultiLabelDataset(train_X, train_y2, tokenizer, MAX_LEN)\n",
    "test_data     = MultiLabelDataset(test_X, test_y2, tokenizer, MAX_LEN)\n",
    "realtest_data = MultiLabelDataset(realtest_X, realtest_y2, tokenizer, MAX_LEN)\n",
    "\n",
    "train_params = {'batch_size': BATCH_SIZE,\n",
    "                'shuffle': True,\n",
    "                'num_workers': 0\n",
    "                }\n",
    "\n",
    "test_params = {'batch_size': BATCH_SIZE,\n",
    "                'shuffle': True,\n",
    "                'num_workers': 0\n",
    "                }    \n",
    "\n",
    "realtest_params = {'batch_size': BATCH_SIZE,\n",
    "                'shuffle': True,\n",
    "                'num_workers': 0\n",
    "                }  \n",
    "\n",
    "training_loader = torch.utils.data.DataLoader(training_data, **train_params)\n",
    "testing_loader = torch.utils.data.DataLoader(test_data, **test_params)\n",
    "realtesting_loader = torch.utils.data.DataLoader(realtest_data, **realtest_params)"
   ]
  },
  {
   "cell_type": "code",
   "execution_count": 87,
   "metadata": {},
   "outputs": [
    {
     "data": {
      "application/vnd.jupyter.widget-view+json": {
       "model_id": "352e37c93ec54ee0b41df02e8454a2be",
       "version_major": 2,
       "version_minor": 0
      },
      "text/plain": [
       "  0%|          | 0/17 [00:00<?, ?it/s]"
      ]
     },
     "metadata": {},
     "output_type": "display_data"
    },
    {
     "name": "stdout",
     "output_type": "stream",
     "text": [
      "Epoch: 0, Loss:  1.1574394702911377\n"
     ]
    },
    {
     "data": {
      "application/vnd.jupyter.widget-view+json": {
       "model_id": "99a577279d514332aa8259b0a9b01221",
       "version_major": 2,
       "version_minor": 0
      },
      "text/plain": [
       "  0%|          | 0/2 [00:00<?, ?it/s]"
      ]
     },
     "metadata": {},
     "output_type": "display_data"
    },
    {
     "name": "stdout",
     "output_type": "stream",
     "text": [
      "Acurracy on validation set 0.7058823529411765\n",
      "F1 on validation set 0.7786189620356814\n"
     ]
    },
    {
     "data": {
      "application/vnd.jupyter.widget-view+json": {
       "model_id": "1082e9bdabbb4fcbaa093c9161b2fa0d",
       "version_major": 2,
       "version_minor": 0
      },
      "text/plain": [
       "  0%|          | 0/7 [00:00<?, ?it/s]"
      ]
     },
     "metadata": {},
     "output_type": "display_data"
    },
    {
     "name": "stdout",
     "output_type": "stream",
     "text": [
      "Acurracy on test set 0.6125\n",
      "F1 on test set 0.7104682899394581\n"
     ]
    },
    {
     "data": {
      "application/vnd.jupyter.widget-view+json": {
       "model_id": "00bee7c474014c7891e12777cc317e9a",
       "version_major": 2,
       "version_minor": 0
      },
      "text/plain": [
       "  0%|          | 0/17 [00:00<?, ?it/s]"
      ]
     },
     "metadata": {},
     "output_type": "display_data"
    },
    {
     "name": "stdout",
     "output_type": "stream",
     "text": [
      "Epoch: 1, Loss:  0.973932147026062\n"
     ]
    },
    {
     "data": {
      "application/vnd.jupyter.widget-view+json": {
       "model_id": "ffa1f0c15f1446f4bb9606089e301c6e",
       "version_major": 2,
       "version_minor": 0
      },
      "text/plain": [
       "  0%|          | 0/2 [00:00<?, ?it/s]"
      ]
     },
     "metadata": {},
     "output_type": "display_data"
    },
    {
     "name": "stdout",
     "output_type": "stream",
     "text": [
      "Acurracy on validation set 0.7142857142857143\n",
      "F1 on validation set 0.7694330209667632\n"
     ]
    },
    {
     "data": {
      "application/vnd.jupyter.widget-view+json": {
       "model_id": "3559505a148f4a55b595a1ce07264a8e",
       "version_major": 2,
       "version_minor": 0
      },
      "text/plain": [
       "  0%|          | 0/7 [00:00<?, ?it/s]"
      ]
     },
     "metadata": {},
     "output_type": "display_data"
    },
    {
     "name": "stdout",
     "output_type": "stream",
     "text": [
      "Acurracy on test set 0.6575\n",
      "F1 on test set 0.7350908769031039\n"
     ]
    },
    {
     "data": {
      "application/vnd.jupyter.widget-view+json": {
       "model_id": "b0cdde745c374c1a95a33a13ce224492",
       "version_major": 2,
       "version_minor": 0
      },
      "text/plain": [
       "  0%|          | 0/17 [00:00<?, ?it/s]"
      ]
     },
     "metadata": {},
     "output_type": "display_data"
    },
    {
     "name": "stdout",
     "output_type": "stream",
     "text": [
      "Epoch: 2, Loss:  0.9791950583457947\n"
     ]
    },
    {
     "data": {
      "application/vnd.jupyter.widget-view+json": {
       "model_id": "9809f582579e479ca8aee69da6769b35",
       "version_major": 2,
       "version_minor": 0
      },
      "text/plain": [
       "  0%|          | 0/2 [00:00<?, ?it/s]"
      ]
     },
     "metadata": {},
     "output_type": "display_data"
    },
    {
     "name": "stdout",
     "output_type": "stream",
     "text": [
      "Acurracy on validation set 0.7226890756302521\n",
      "F1 on validation set 0.7680336355934863\n"
     ]
    },
    {
     "data": {
      "application/vnd.jupyter.widget-view+json": {
       "model_id": "0fa79a86d57f4d809aaeb8089962ace9",
       "version_major": 2,
       "version_minor": 0
      },
      "text/plain": [
       "  0%|          | 0/7 [00:00<?, ?it/s]"
      ]
     },
     "metadata": {},
     "output_type": "display_data"
    },
    {
     "name": "stdout",
     "output_type": "stream",
     "text": [
      "Acurracy on test set 0.67\n",
      "F1 on test set 0.7399282420154185\n"
     ]
    }
   ],
   "source": [
    "#Run on Body without HTML codes\n",
    "from sklearn.metrics import f1_score\n",
    "\n",
    "model = BERTClass(NUM_OUT)\n",
    "model.to(device)   \n",
    "\n",
    "optimizer = torch.optim.Adam(params =  model.parameters(), lr=LEARNING_RATE)\n",
    "\n",
    "for epoch in range(EPOCHS):\n",
    "    loss = train(model, training_loader, optimizer)\n",
    "    print(f'Epoch: {epoch}, Loss:  {loss.item()}')  \n",
    "\n",
    "    #Validation Dataset\n",
    "    guess, targs = validation(model, testing_loader)\n",
    " \n",
    "    guesses = torch.max(guess, dim=1)    \n",
    "    \n",
    "    print('Acurracy on validation set {}'.format(accuracy_score(guesses.indices.cpu().numpy(), targs.cpu().numpy())))\n",
    "    print('F1 on validation set {}'.format(f1_score(guesses.indices.cpu().numpy(), targs.cpu().numpy(), average='weighted')))\n",
    "\n",
    "    #Testing Dataset\n",
    "    realguess, realtargs = validation(model, realtesting_loader)\n",
    " \n",
    "    realguesses = torch.max(realguess, dim=1)    \n",
    "    \n",
    "    print('Acurracy on test set {}'.format(accuracy_score(realguesses.indices.cpu().numpy(), realtargs.cpu().numpy())))\n",
    "    print('F1 on test set {}'.format(f1_score(realguesses.indices.cpu().numpy(), realtargs.cpu().numpy(), average='weighted')))"
   ]
  },
  {
   "cell_type": "code",
   "execution_count": 98,
   "metadata": {},
   "outputs": [],
   "source": [
    "test_result = pd.DataFrame({'Predicted': realguesses.indices.cpu().numpy(), 'Actual': realtargs.cpu().numpy()}, columns=['Predicted', 'Actual'])"
   ]
  },
  {
   "cell_type": "code",
   "execution_count": 100,
   "metadata": {},
   "outputs": [],
   "source": [
    "predicted= realguesses.indices.cpu().numpy()"
   ]
  },
  {
   "cell_type": "code",
   "execution_count": 102,
   "metadata": {},
   "outputs": [],
   "source": [
    "actual=realtargs.cpu().numpy()"
   ]
  },
  {
   "cell_type": "code",
   "execution_count": 109,
   "metadata": {},
   "outputs": [],
   "source": [
    "from sklearn import metrics\n",
    "\n",
    "confusion_matrix = metrics.confusion_matrix(actual, predicted)\n",
    "\n",
    "cm_display = metrics.ConfusionMatrixDisplay(confusion_matrix = confusion_matrix, display_labels = ['Green', 'Amber', 'Red', 'Crisis'])"
   ]
  },
  {
   "cell_type": "code",
   "execution_count": 110,
   "metadata": {},
   "outputs": [
    {
     "data": {
      "text/plain": [
       "<sklearn.metrics._plot.confusion_matrix.ConfusionMatrixDisplay at 0x215e9379d80>"
      ]
     },
     "execution_count": 110,
     "metadata": {},
     "output_type": "execute_result"
    },
    {
     "data": {
      "image/png": "[encoded data removed]",
      "text/plain": [
       "<Figure size 640x480 with 2 Axes>"
      ]
     },
     "metadata": {},
     "output_type": "display_data"
    }
   ],
   "source": [
    "cm_display.plot()"
   ]
  },
  {
   "cell_type": "code",
   "execution_count": null,
   "metadata": {},
   "outputs": [],
   "source": []
  }
 ],
 "metadata": {
  "kernelspec": {
   "display_name": "Python 3 (ipykernel)",
   "language": "python",
   "name": "python3"
  },
  "language_info": {
   "codemirror_mode": {
    "name": "ipython",
    "version": 3
   },
   "file_extension": ".py",
   "mimetype": "text/x-python",
   "name": "python",
   "nbconvert_exporter": "python",
   "pygments_lexer": "ipython3",
   "version": "3.10.13"
  }
 },
 "nbformat": 4,
 "nbformat_minor": 4
}
