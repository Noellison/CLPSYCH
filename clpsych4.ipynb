{
 "cells": [
  {
   "cell_type": "markdown",
   "metadata": {},
   "source": [
    "# CLPsych Classification NLP Project\n",
    "Noel Ellison"
   ]
  },
  {
   "cell_type": "markdown",
   "metadata": {},
   "source": [
    "## 1. Set-up Data and Packages"
   ]
  },
  {
   "cell_type": "markdown",
   "metadata": {},
   "source": [
    "### 1.1 Import Packages"
   ]
  },
  {
   "cell_type": "code",
   "execution_count": 1,
   "metadata": {},
   "outputs": [],
   "source": [
    "import warnings\n",
    "warnings.filterwarnings('ignore')"
   ]
  },
  {
   "cell_type": "code",
   "execution_count": 2,
   "metadata": {},
   "outputs": [
    {
     "name": "stdout",
     "output_type": "stream",
     "text": [
      "12.1\n"
     ]
    },
    {
     "data": {
      "text/plain": [
       "'cuda'"
      ]
     },
     "execution_count": 2,
     "metadata": {},
     "output_type": "execute_result"
    }
   ],
   "source": [
    "#BERT model imports\n",
    "import os\n",
    "import re\n",
    "import numpy as np \n",
    "from sklearn.metrics import accuracy_score\n",
    "\n",
    "import transformers\n",
    "from transformers import BertTokenizer, BertModel\n",
    "\n",
    "import torch\n",
    "from torch import cuda\n",
    "#from tqdm.notebook import tqdm as tqdm\n",
    "from tqdm import tqdm_notebook as tqdm\n",
    "device = 'cuda' if cuda.is_available() else 'cpu'\n",
    "print(torch.version.cuda)\n",
    "\n",
    "device\n"
   ]
  },
  {
   "cell_type": "markdown",
   "metadata": {},
   "source": [
    "Helpful website for understanding XML data structures: https://nanonets.com/blog/parse-xml-files-using-python/#:~:text=Let's%20start%20by%20importing%20the,root%20tag%20as%20shown%20below.\n",
    "\n",
    "\n",
    "Turn the XML files into a pandas DF: https://www.reddit.com/r/learnpython/comments/zh9vgw/parsing_xml_into_a_pandas_dataframe/\n",
    "\n",
    "https://stackabuse.com/reading-and-writing-xml-files-in-python-with-pandas/"
   ]
  },
  {
   "cell_type": "markdown",
   "metadata": {},
   "source": [
    "### 1.2 Read-in Source Data"
   ]
  },
  {
   "cell_type": "markdown",
   "metadata": {},
   "source": [
    "#### 1.2.1 Read-in XML Files (individual posts)"
   ]
  },
  {
   "cell_type": "code",
   "execution_count": 3,
   "metadata": {},
   "outputs": [
    {
     "name": "stdout",
     "output_type": "stream",
     "text": [
      "board_id {'type': 'int'}\n",
      "root {'type': 'message', 'href': '/messages/id/52'}\n",
      "kudos {}\n",
      "0\n",
      "message_rating {'type': 'float'}\n",
      "last_edit_author {'type': 'user', 'href': '/users/id/68'}\n",
      "post_time {'type': 'date_time'}\n",
      "last_edit_time {'type': 'date_time'}\n",
      "body {'type': 'string'}\n",
      "thread {'type': 'thread', 'href': '/threads/id/52'}\n",
      "board {'type': 'board', 'href': '/boards/id/Games'}\n",
      "parent {'type': 'message', 'href': '/messages/id/856'}\n",
      "teaser {'type': 'string'}\n",
      "views {}\n",
      "2094\n",
      "subject {'type': 'string'}\n",
      "id {'type': 'int'}\n",
      "read_only {'type': 'boolean'}\n",
      "deleted {'type': 'boolean'}\n",
      "author {'type': 'user', 'href': '/users/id/68'}\n"
     ]
    }
   ],
   "source": [
    "#This code checks one XML file\n",
    "from os import listdir, path\n",
    "import xml.etree.ElementTree as ET\n",
    "import re\n",
    "import os\n",
    "from lxml import etree\n",
    "\n",
    "mypath = 'clpsych17-data/clpsych17-data/data/training/posts/post-886.xml'\n",
    "#files = [path.join(mypath, f) for f in listdir(mypath) if f.endswith('.xml')]\n",
    "messageIDs = []\n",
    "messageBodys = []\n",
    "messagePostTimes = []\n",
    "authorIDs = []\n",
    "\n",
    "\n",
    "tree = ET.parse(mypath)\n",
    "root = tree.getroot()\n",
    "for x in root[0]:\n",
    "    print(x.tag, x.attrib)\n",
    "    if x.tag == 'kudos':\n",
    "            print(x.findall(\".//count\")[0].text)\n",
    "    if x.tag == 'views':\n",
    "            print(x.findall(\".//count\")[0].text)"
   ]
  },
  {
   "cell_type": "code",
   "execution_count": 4,
   "metadata": {},
   "outputs": [],
   "source": [
    "#Import all XML data which contains the text of the posts\n",
    "from os import listdir, path\n",
    "import xml.etree.ElementTree as ET\n",
    "import re\n",
    "import os\n",
    "from lxml import etree\n",
    "\n",
    "mypath = 'clpsych17-data/clpsych17-data/data/training/posts'\n",
    "files = [path.join(mypath, f) for f in listdir(mypath) if f.endswith('.xml')]\n",
    "messageIDs = []\n",
    "messageBodys = []\n",
    "messagePostTimes = []\n",
    "authorIDs = []\n",
    "kudos = []\n",
    "views = []\n",
    "\n",
    "#for file in files:\n",
    " #   print(file)\n",
    "  #  tree = ET.parse(file)\n",
    "   # root = tree.getroot()\n",
    "    #for x in root[0]:\n",
    "     #   print(x.tag, x.attrib)\n",
    "\n",
    "for file in files:\n",
    "    res = re.findall(\"post-(\\d+).xml\", file)\n",
    "    if not res: continue\n",
    "    messageIDs.append(res[0]) # You can append the result to a list\n",
    "    tree = ET.parse(file)\n",
    "    root = tree.getroot()\n",
    "    for x in root[0]:\n",
    "    #print(x.tag, x.attrib)\n",
    "        if x.tag == 'body':\n",
    "            messageBodys.append(x.text)\n",
    "        if x.tag == 'post_time':\n",
    "            messagePostTimes.append(x.text)\n",
    "        if x.tag == 'author':\n",
    "            authorIDs.append((x.attrib['href']).replace('/users/id/',''))\n",
    "        if x.tag == 'kudos':\n",
    "            kudos.append(x.findall(\".//count\")[0].text)\n",
    "        if x.tag == 'views':\n",
    "            views.append(x.findall(\".//count\")[0].text)\n",
    "    if len(messageBodys) != len(messageIDs):\n",
    "        messageBodys.append('')\n",
    "    if len(messagePostTimes) != len(messageIDs):\n",
    "        messagePostTimes.append('')\n",
    "    if len(authorIDs) != len(messageIDs):\n",
    "        authorIDs.append('')\n",
    "    if len(kudos) != len(messageIDs):\n",
    "        authorIDs.append('')\n",
    "    if len(views) != len(messageIDs):\n",
    "        authorIDs.append('')\n",
    "    #print(res[0])\n",
    "\n",
    "\n",
    "#tree.find('./message type').attrib['key']\n"
   ]
  },
  {
   "cell_type": "code",
   "execution_count": 5,
   "metadata": {},
   "outputs": [
    {
     "name": "stdout",
     "output_type": "stream",
     "text": [
      "65755\n",
      "65755\n",
      "65755\n",
      "65755\n",
      "65755\n",
      "65755\n"
     ]
    }
   ],
   "source": [
    "print(len(messageIDs))\n",
    "print(len(authorIDs))\n",
    "print(len(messageBodys))\n",
    "print(len(views))\n",
    "print(len(kudos))\n",
    "print(len(messagePostTimes))"
   ]
  },
  {
   "cell_type": "code",
   "execution_count": 6,
   "metadata": {},
   "outputs": [],
   "source": [
    "import pandas as pd\n",
    "dict = {'Message ID': messageIDs,'Author ID': authorIDs, 'Message Body': messageBodys, 'Message Views': views, 'Message Kudos': kudos, 'Message Post Time': messagePostTimes} \n",
    "    \n",
    "df = pd.DataFrame(dict)"
   ]
  },
  {
   "cell_type": "code",
   "execution_count": 7,
   "metadata": {},
   "outputs": [
    {
     "data": {
      "text/html": [
       "<div>\n",
       "<style scoped>\n",
       "    .dataframe tbody tr th:only-of-type {\n",
       "        vertical-align: middle;\n",
       "    }\n",
       "\n",
       "    .dataframe tbody tr th {\n",
       "        vertical-align: top;\n",
       "    }\n",
       "\n",
       "    .dataframe thead th {\n",
       "        text-align: right;\n",
       "    }\n",
       "</style>\n",
       "<table border=\"1\" class=\"dataframe\">\n",
       "  <thead>\n",
       "    <tr style=\"text-align: right;\">\n",
       "      <th></th>\n",
       "      <th>Message ID</th>\n",
       "      <th>Author ID</th>\n",
       "      <th>Message Body</th>\n",
       "      <th>Message Views</th>\n",
       "      <th>Message Kudos</th>\n",
       "      <th>Message Post Time</th>\n",
       "    </tr>\n",
       "  </thead>\n",
       "  <tbody>\n",
       "    <tr>\n",
       "      <th>65750</th>\n",
       "      <td>99987</td>\n",
       "      <td>3030</td>\n",
       "      <td>&lt;P&gt;Hey &lt;a href=\"http://forums.au.reachout.com/...</td>\n",
       "      <td>451</td>\n",
       "      <td>0</td>\n",
       "      <td>2014-08-22T10:28:17+00:00</td>\n",
       "    </tr>\n",
       "    <tr>\n",
       "      <th>65751</th>\n",
       "      <td>99989</td>\n",
       "      <td>292</td>\n",
       "      <td>&lt;P&gt;&lt;a href=\"http://forums.au.reachout.com/t5/u...</td>\n",
       "      <td>745</td>\n",
       "      <td>0</td>\n",
       "      <td>2014-08-22T10:29:15+00:00</td>\n",
       "    </tr>\n",
       "    <tr>\n",
       "      <th>65752</th>\n",
       "      <td>99993</td>\n",
       "      <td>3030</td>\n",
       "      <td>&lt;P&gt;Hey &lt;a href=\"http://forums.au.reachout.com/...</td>\n",
       "      <td>489</td>\n",
       "      <td>1</td>\n",
       "      <td>2014-08-22T10:35:29+00:00</td>\n",
       "    </tr>\n",
       "    <tr>\n",
       "      <th>65753</th>\n",
       "      <td>99995</td>\n",
       "      <td>292</td>\n",
       "      <td>&lt;P&gt;Mwahahaha&amp;nbsp;&lt;img class=\"emoticon emotico...</td>\n",
       "      <td>426</td>\n",
       "      <td>0</td>\n",
       "      <td>2014-08-22T10:39:06+00:00</td>\n",
       "    </tr>\n",
       "    <tr>\n",
       "      <th>65754</th>\n",
       "      <td>99999</td>\n",
       "      <td>5111</td>\n",
       "      <td>I am looking forward to a new job oppurtunity,...</td>\n",
       "      <td>885</td>\n",
       "      <td>1</td>\n",
       "      <td>2014-08-22T10:44:38+00:00</td>\n",
       "    </tr>\n",
       "  </tbody>\n",
       "</table>\n",
       "</div>"
      ],
      "text/plain": [
       "      Message ID Author ID                                       Message Body  \\\n",
       "65750      99987      3030  <P>Hey <a href=\"http://forums.au.reachout.com/...   \n",
       "65751      99989       292  <P><a href=\"http://forums.au.reachout.com/t5/u...   \n",
       "65752      99993      3030  <P>Hey <a href=\"http://forums.au.reachout.com/...   \n",
       "65753      99995       292  <P>Mwahahaha&nbsp;<img class=\"emoticon emotico...   \n",
       "65754      99999      5111  I am looking forward to a new job oppurtunity,...   \n",
       "\n",
       "      Message Views Message Kudos          Message Post Time  \n",
       "65750           451             0  2014-08-22T10:28:17+00:00  \n",
       "65751           745             0  2014-08-22T10:29:15+00:00  \n",
       "65752           489             1  2014-08-22T10:35:29+00:00  \n",
       "65753           426             0  2014-08-22T10:39:06+00:00  \n",
       "65754           885             1  2014-08-22T10:44:38+00:00  "
      ]
     },
     "execution_count": 7,
     "metadata": {},
     "output_type": "execute_result"
    }
   ],
   "source": [
    "df.tail()"
   ]
  },
  {
   "cell_type": "code",
   "execution_count": 8,
   "metadata": {},
   "outputs": [
    {
     "name": "stdout",
     "output_type": "stream",
     "text": [
      "<class 'pandas.core.frame.DataFrame'>\n",
      "RangeIndex: 65755 entries, 0 to 65754\n",
      "Data columns (total 6 columns):\n",
      " #   Column             Non-Null Count  Dtype \n",
      "---  ------             --------------  ----- \n",
      " 0   Message ID         65755 non-null  object\n",
      " 1   Author ID          65755 non-null  object\n",
      " 2   Message Body       64371 non-null  object\n",
      " 3   Message Views      65755 non-null  object\n",
      " 4   Message Kudos      65755 non-null  object\n",
      " 5   Message Post Time  65755 non-null  object\n",
      "dtypes: object(6)\n",
      "memory usage: 3.0+ MB\n"
     ]
    }
   ],
   "source": [
    "df.info()"
   ]
  },
  {
   "cell_type": "code",
   "execution_count": 9,
   "metadata": {},
   "outputs": [
    {
     "data": {
      "text/plain": [
       "'<BLOCKQUOTE><HR />FindingHope wrote:<BR />\\n<P>Cassie: So my uncle was in a psych ward for about a couple of months and then when discharged, found out he was fired from his job today. It sucks that companies can have lack of compassion for people who are ill <img class=\"emoticon emoticon-smileysad\" id=\"smileysad\" src=\"http://inspire.i.lithium.com/i/smilies/16x16_smiley-sad.png\" alt=\"Smiley Sad\" title=\"Smiley Sad\" /></P>\\n<HR /></BLOCKQUOTE>\\n<P>@Cassie: That seriously sucks. <img class=\"emoticon emoticon-smileysad\" id=\"smileysad\" src=\"http://inspire.i.lithium.com/i/smilies/16x16_smiley-sad.png\" alt=\"Smiley Sad\" title=\"Smiley Sad\" /> It can be so sad when people don\\'t try to take the time to understand the situation and when stigma comes into it. I hope he can find a new job without too much hassle.&nbsp;</P>'"
      ]
     },
     "execution_count": 9,
     "metadata": {},
     "output_type": "execute_result"
    }
   ],
   "source": [
    "df['Message Body'][0]"
   ]
  },
  {
   "cell_type": "markdown",
   "metadata": {},
   "source": [
    "#### 1.2.2 Read-in TSV Files (labels and author rank)"
   ]
  },
  {
   "cell_type": "code",
   "execution_count": 10,
   "metadata": {},
   "outputs": [],
   "source": [
    "#Bring in classification of message\n",
    "df_label = pd.read_csv('clpsych17-data/clpsych17-data/data/training/labels.tsv', sep='\\t', names=['Message ID2','Label','Detail Label'])"
   ]
  },
  {
   "cell_type": "code",
   "execution_count": 11,
   "metadata": {},
   "outputs": [
    {
     "data": {
      "text/html": [
       "<div>\n",
       "<style scoped>\n",
       "    .dataframe tbody tr th:only-of-type {\n",
       "        vertical-align: middle;\n",
       "    }\n",
       "\n",
       "    .dataframe tbody tr th {\n",
       "        vertical-align: top;\n",
       "    }\n",
       "\n",
       "    .dataframe thead th {\n",
       "        text-align: right;\n",
       "    }\n",
       "</style>\n",
       "<table border=\"1\" class=\"dataframe\">\n",
       "  <thead>\n",
       "    <tr style=\"text-align: right;\">\n",
       "      <th></th>\n",
       "      <th>Message ID2</th>\n",
       "      <th>Label</th>\n",
       "      <th>Detail Label</th>\n",
       "    </tr>\n",
       "  </thead>\n",
       "  <tbody>\n",
       "    <tr>\n",
       "      <th>0</th>\n",
       "      <td>135267</td>\n",
       "      <td>green</td>\n",
       "      <td>allClear</td>\n",
       "    </tr>\n",
       "    <tr>\n",
       "      <th>1</th>\n",
       "      <td>135268</td>\n",
       "      <td>green</td>\n",
       "      <td>allClear</td>\n",
       "    </tr>\n",
       "    <tr>\n",
       "      <th>2</th>\n",
       "      <td>135276</td>\n",
       "      <td>green</td>\n",
       "      <td>allClear</td>\n",
       "    </tr>\n",
       "    <tr>\n",
       "      <th>3</th>\n",
       "      <td>135277</td>\n",
       "      <td>green</td>\n",
       "      <td>allClear</td>\n",
       "    </tr>\n",
       "    <tr>\n",
       "      <th>4</th>\n",
       "      <td>135278</td>\n",
       "      <td>green</td>\n",
       "      <td>allClear</td>\n",
       "    </tr>\n",
       "    <tr>\n",
       "      <th>...</th>\n",
       "      <td>...</td>\n",
       "      <td>...</td>\n",
       "      <td>...</td>\n",
       "    </tr>\n",
       "    <tr>\n",
       "      <th>1183</th>\n",
       "      <td>139559</td>\n",
       "      <td>amber</td>\n",
       "      <td>followupOk</td>\n",
       "    </tr>\n",
       "    <tr>\n",
       "      <th>1184</th>\n",
       "      <td>139560</td>\n",
       "      <td>green</td>\n",
       "      <td>allClear</td>\n",
       "    </tr>\n",
       "    <tr>\n",
       "      <th>1185</th>\n",
       "      <td>139562</td>\n",
       "      <td>red</td>\n",
       "      <td>currentAcuteDistress</td>\n",
       "    </tr>\n",
       "    <tr>\n",
       "      <th>1186</th>\n",
       "      <td>139565</td>\n",
       "      <td>green</td>\n",
       "      <td>allClear</td>\n",
       "    </tr>\n",
       "    <tr>\n",
       "      <th>1187</th>\n",
       "      <td>139568</td>\n",
       "      <td>green</td>\n",
       "      <td>allClear</td>\n",
       "    </tr>\n",
       "  </tbody>\n",
       "</table>\n",
       "<p>1188 rows × 3 columns</p>\n",
       "</div>"
      ],
      "text/plain": [
       "      Message ID2  Label          Detail Label\n",
       "0          135267  green              allClear\n",
       "1          135268  green              allClear\n",
       "2          135276  green              allClear\n",
       "3          135277  green              allClear\n",
       "4          135278  green              allClear\n",
       "...           ...    ...                   ...\n",
       "1183       139559  amber            followupOk\n",
       "1184       139560  green              allClear\n",
       "1185       139562    red  currentAcuteDistress\n",
       "1186       139565  green              allClear\n",
       "1187       139568  green              allClear\n",
       "\n",
       "[1188 rows x 3 columns]"
      ]
     },
     "execution_count": 11,
     "metadata": {},
     "output_type": "execute_result"
    }
   ],
   "source": [
    "df_label"
   ]
  },
  {
   "cell_type": "code",
   "execution_count": 12,
   "metadata": {},
   "outputs": [],
   "source": [
    "#Bring in author rankings\n",
    "df_author = pd.read_csv('clpsych17-data/clpsych17-data/data/training/author_rankings.tsv', sep='\\t', names=['Author ID2','Author Rank'])"
   ]
  },
  {
   "cell_type": "code",
   "execution_count": 13,
   "metadata": {},
   "outputs": [
    {
     "data": {
      "text/html": [
       "<div>\n",
       "<style scoped>\n",
       "    .dataframe tbody tr th:only-of-type {\n",
       "        vertical-align: middle;\n",
       "    }\n",
       "\n",
       "    .dataframe tbody tr th {\n",
       "        vertical-align: top;\n",
       "    }\n",
       "\n",
       "    .dataframe thead th {\n",
       "        text-align: right;\n",
       "    }\n",
       "</style>\n",
       "<table border=\"1\" class=\"dataframe\">\n",
       "  <thead>\n",
       "    <tr style=\"text-align: right;\">\n",
       "      <th></th>\n",
       "      <th>Author ID2</th>\n",
       "      <th>Author Rank</th>\n",
       "    </tr>\n",
       "  </thead>\n",
       "  <tbody>\n",
       "    <tr>\n",
       "      <th>0</th>\n",
       "      <td>10</td>\n",
       "      <td>Community Manager</td>\n",
       "    </tr>\n",
       "    <tr>\n",
       "      <th>1</th>\n",
       "      <td>36</td>\n",
       "      <td>Staff</td>\n",
       "    </tr>\n",
       "    <tr>\n",
       "      <th>2</th>\n",
       "      <td>40</td>\n",
       "      <td>Staff</td>\n",
       "    </tr>\n",
       "    <tr>\n",
       "      <th>3</th>\n",
       "      <td>50</td>\n",
       "      <td>Rookie scribe</td>\n",
       "    </tr>\n",
       "    <tr>\n",
       "      <th>4</th>\n",
       "      <td>52</td>\n",
       "      <td>Community Manager</td>\n",
       "    </tr>\n",
       "    <tr>\n",
       "      <th>...</th>\n",
       "      <td>...</td>\n",
       "      <td>...</td>\n",
       "    </tr>\n",
       "    <tr>\n",
       "      <th>1644</th>\n",
       "      <td>6917</td>\n",
       "      <td>Visitor</td>\n",
       "    </tr>\n",
       "    <tr>\n",
       "      <th>1645</th>\n",
       "      <td>6930</td>\n",
       "      <td>Casual scribe</td>\n",
       "    </tr>\n",
       "    <tr>\n",
       "      <th>1646</th>\n",
       "      <td>6932</td>\n",
       "      <td>Rookie scribe</td>\n",
       "    </tr>\n",
       "    <tr>\n",
       "      <th>1647</th>\n",
       "      <td>6934</td>\n",
       "      <td>Rookie</td>\n",
       "    </tr>\n",
       "    <tr>\n",
       "      <th>1648</th>\n",
       "      <td>6935</td>\n",
       "      <td>Rookie scribe</td>\n",
       "    </tr>\n",
       "  </tbody>\n",
       "</table>\n",
       "<p>1649 rows × 2 columns</p>\n",
       "</div>"
      ],
      "text/plain": [
       "      Author ID2        Author Rank\n",
       "0             10  Community Manager\n",
       "1             36              Staff\n",
       "2             40              Staff\n",
       "3             50      Rookie scribe\n",
       "4             52  Community Manager\n",
       "...          ...                ...\n",
       "1644        6917            Visitor\n",
       "1645        6930      Casual scribe\n",
       "1646        6932      Rookie scribe\n",
       "1647        6934             Rookie\n",
       "1648        6935      Rookie scribe\n",
       "\n",
       "[1649 rows x 2 columns]"
      ]
     },
     "execution_count": 13,
     "metadata": {},
     "output_type": "execute_result"
    }
   ],
   "source": [
    "df_author"
   ]
  },
  {
   "cell_type": "code",
   "execution_count": 14,
   "metadata": {},
   "outputs": [
    {
     "name": "stdout",
     "output_type": "stream",
     "text": [
      "<class 'pandas.core.frame.DataFrame'>\n",
      "RangeIndex: 1649 entries, 0 to 1648\n",
      "Data columns (total 2 columns):\n",
      " #   Column       Non-Null Count  Dtype \n",
      "---  ------       --------------  ----- \n",
      " 0   Author ID2   1649 non-null   int64 \n",
      " 1   Author Rank  1649 non-null   object\n",
      "dtypes: int64(1), object(1)\n",
      "memory usage: 25.9+ KB\n"
     ]
    }
   ],
   "source": [
    "df_author.info()"
   ]
  },
  {
   "cell_type": "code",
   "execution_count": 15,
   "metadata": {},
   "outputs": [],
   "source": [
    "#Convert message ID and author to integer in order to merge with tab delimited files\n",
    "df['Message ID2']=df['Message ID'].astype(int)\n",
    "df['Author ID2']=df['Author ID'].astype(int)"
   ]
  },
  {
   "cell_type": "code",
   "execution_count": 16,
   "metadata": {},
   "outputs": [],
   "source": [
    "#Merge message text with classification\n",
    "df_new1=df.merge(df_label, how='inner', on='Message ID2')"
   ]
  },
  {
   "cell_type": "code",
   "execution_count": 17,
   "metadata": {},
   "outputs": [
    {
     "name": "stdout",
     "output_type": "stream",
     "text": [
      "<class 'pandas.core.frame.DataFrame'>\n",
      "RangeIndex: 1188 entries, 0 to 1187\n",
      "Data columns (total 11 columns):\n",
      " #   Column             Non-Null Count  Dtype \n",
      "---  ------             --------------  ----- \n",
      " 0   Message ID         1188 non-null   object\n",
      " 1   Author ID          1188 non-null   object\n",
      " 2   Message Body       1188 non-null   object\n",
      " 3   Message Views      1188 non-null   object\n",
      " 4   Message Kudos      1188 non-null   object\n",
      " 5   Message Post Time  1188 non-null   object\n",
      " 6   Message ID2        1188 non-null   int32 \n",
      " 7   Author ID2         1188 non-null   int32 \n",
      " 8   Label              1188 non-null   object\n",
      " 9   Detail Label       1188 non-null   object\n",
      " 10  Author Rank        1188 non-null   object\n",
      "dtypes: int32(2), object(9)\n",
      "memory usage: 92.9+ KB\n"
     ]
    }
   ],
   "source": [
    "#Merge message data (with label) with author ID\n",
    "df_new=df_new1.merge(df_author, how='left', on='Author ID2')\n",
    "df_new.info()"
   ]
  },
  {
   "cell_type": "code",
   "execution_count": 18,
   "metadata": {},
   "outputs": [
    {
     "data": {
      "text/html": [
       "<div>\n",
       "<style scoped>\n",
       "    .dataframe tbody tr th:only-of-type {\n",
       "        vertical-align: middle;\n",
       "    }\n",
       "\n",
       "    .dataframe tbody tr th {\n",
       "        vertical-align: top;\n",
       "    }\n",
       "\n",
       "    .dataframe thead th {\n",
       "        text-align: right;\n",
       "    }\n",
       "</style>\n",
       "<table border=\"1\" class=\"dataframe\">\n",
       "  <thead>\n",
       "    <tr style=\"text-align: right;\">\n",
       "      <th></th>\n",
       "      <th>Message ID</th>\n",
       "      <th>Author ID</th>\n",
       "      <th>Message Body</th>\n",
       "      <th>Message Views</th>\n",
       "      <th>Message Kudos</th>\n",
       "      <th>Message Post Time</th>\n",
       "      <th>Message ID2</th>\n",
       "      <th>Author ID2</th>\n",
       "      <th>Label</th>\n",
       "      <th>Detail Label</th>\n",
       "      <th>Author Rank</th>\n",
       "    </tr>\n",
       "  </thead>\n",
       "  <tbody>\n",
       "    <tr>\n",
       "      <th>7</th>\n",
       "      <td>135284</td>\n",
       "      <td>5155</td>\n",
       "      <td>Redhead: aaaaarrrrgggg getting really sick of ...</td>\n",
       "      <td>201</td>\n",
       "      <td>0</td>\n",
       "      <td>2015-04-24T06:23:04+00:00</td>\n",
       "      <td>135284</td>\n",
       "      <td>5155</td>\n",
       "      <td>crisis</td>\n",
       "      <td>crisis</td>\n",
       "      <td>Uber contributor</td>\n",
       "    </tr>\n",
       "  </tbody>\n",
       "</table>\n",
       "</div>"
      ],
      "text/plain": [
       "  Message ID Author ID                                       Message Body  \\\n",
       "7     135284      5155  Redhead: aaaaarrrrgggg getting really sick of ...   \n",
       "\n",
       "  Message Views Message Kudos          Message Post Time  Message ID2  \\\n",
       "7           201             0  2015-04-24T06:23:04+00:00       135284   \n",
       "\n",
       "   Author ID2   Label Detail Label       Author Rank  \n",
       "7        5155  crisis       crisis  Uber contributor  "
      ]
     },
     "execution_count": 18,
     "metadata": {},
     "output_type": "execute_result"
    }
   ],
   "source": [
    "#Check one record on the merge\n",
    "df_new[df_new['Message ID2']==135284]"
   ]
  },
  {
   "cell_type": "code",
   "execution_count": null,
   "metadata": {},
   "outputs": [],
   "source": []
  },
  {
   "cell_type": "markdown",
   "metadata": {},
   "source": [
    "## 2. Data Pre-processing\n",
    "In this section I pre-process the data."
   ]
  },
  {
   "cell_type": "markdown",
   "metadata": {},
   "source": [
    "### 2.1 Posts for ReachOut.com Staff\n",
    "In this section, I look into the annotated posts for ReacOut.com Staff to see if they should be included in the dataset. I conclude that they should be included since there were 2 moderators with \"Amber\" posts and since moderators can be trained volunteers, it could be that the moderators themselves need help. The content of these 2 posts was indeed concerning, so I think we should categorize all posts including the staff.\n",
    "\n",
    "There were 97 posts from staff members that were annotated and only 2 were classified as \"Amber.\" I think that the addition 95 \"Green\" posts will provide good positive examples of \"Green\" posts, so it is also good to leave these in the dataset."
   ]
  },
  {
   "cell_type": "code",
   "execution_count": 19,
   "metadata": {},
   "outputs": [
    {
     "data": {
      "text/plain": [
       "Author Rank\n",
       "Uber contributor             680\n",
       "Star contributor             234\n",
       "Casual scribe                 74\n",
       "Mod                           49\n",
       "Mod Squad                     43\n",
       "Rookie scribe                 35\n",
       "Super frequent scribe         27\n",
       "Frequent scribe               22\n",
       "Visitor                        7\n",
       "Rookie                         7\n",
       "Special Guest Contributor      5\n",
       "Post Mod                       2\n",
       "Youth Ambassador               2\n",
       "Frequent Visitor               1\n",
       "Name: count, dtype: int64"
      ]
     },
     "execution_count": 19,
     "metadata": {},
     "output_type": "execute_result"
    }
   ],
   "source": [
    "#Look at distribution of author rankings, see if annotations were done for staff\n",
    "df_new['Author Rank'].value_counts()"
   ]
  },
  {
   "cell_type": "code",
   "execution_count": 20,
   "metadata": {},
   "outputs": [
    {
     "data": {
      "text/plain": [
       "<Axes: xlabel='Author Rank'>"
      ]
     },
     "execution_count": 20,
     "metadata": {},
     "output_type": "execute_result"
    },
    {
     "data": {
      "image/png": "[encoded data removed]",
      "text/plain": [
       "<Figure size 640x480 with 1 Axes>"
      ]
     },
     "metadata": {},
     "output_type": "display_data"
    }
   ],
   "source": [
    "#Look at break-down of categories\n",
    "df_new['Author Rank'].value_counts().plot(kind='bar')"
   ]
  },
  {
   "cell_type": "code",
   "execution_count": 21,
   "metadata": {},
   "outputs": [
    {
     "data": {
      "text/plain": [
       "Label\n",
       "green    95\n",
       "amber     2\n",
       "Name: count, dtype: int64"
      ]
     },
     "execution_count": 21,
     "metadata": {},
     "output_type": "execute_result"
    }
   ],
   "source": [
    "#Look at records for those who work at ReachOut (Community Manager, Mod, Mod in Training, Mod Squad, Reachout.com Crew, Special Guest Contributor, Staff)\n",
    "reachout_staff = ['Community Manager', 'Mod', 'Mod in Training', 'Mod Squad', 'Reachout.com Crew', 'Special Guest Contributor', 'Staff']\n",
    "df_staff=df_new[df_new['Author Rank'].isin(reachout_staff)]\n",
    "df_staff['Label'].value_counts()"
   ]
  },
  {
   "cell_type": "code",
   "execution_count": 22,
   "metadata": {},
   "outputs": [
    {
     "data": {
      "text/plain": [
       "601     Hey guys,<BR /><BR />Long time no see. <img class=\"emoticon emoticon-smileytongue\" id=\"smileytongue\" src=\"http://inspire.i.lithium.com/i/smilies/16x16_smiley-tongue.png\" alt=\"Smiley Tongue\" title=\"Smiley Tongue\" /> Been busy with Assignments and have been binging on Netflix and thinking a lot about what both my psychologist and Dr said.<BR /><BR />They pretty much hate all these new fandangle terms for sexuality and pretty much don't believe in the term demi. They think I am romantically and sexually repressed. But I've had relationships and crushes since the incident they are referring to. So confused. Especially when it came from someone I trust. Not at all what I was expecting.<BR /><BR />Just got to remember that only I can define my sexuality.\n",
       "1025                                                                                                                                                                                                                                                                                                                                            Negative: I seem to have misplaced my meds on Friday and now I can't find them. Opps!<BR />Positive: I haven't really noticed anything bad at the moment, in fact I am feeling quite happy! Just need to remember not to create any sudden movements.<BR /><BR />Negative: My abuse has been affecting me more than normal.<BR />Positive: I know what the trigger was and know that it is a once every 2 year thing, and it is for my health.\n",
       "Name: Message Body, dtype: object"
      ]
     },
     "execution_count": 22,
     "metadata": {},
     "output_type": "execute_result"
    }
   ],
   "source": [
    "pd.set_option('display.max_colwidth', None)\n",
    "df_staff[df_staff['Label']=='amber']['Message Body']"
   ]
  },
  {
   "cell_type": "code",
   "execution_count": 23,
   "metadata": {},
   "outputs": [
    {
     "data": {
      "text/plain": [
       "601     Mod\n",
       "1025    Mod\n",
       "Name: Author Rank, dtype: object"
      ]
     },
     "execution_count": 23,
     "metadata": {},
     "output_type": "execute_result"
    }
   ],
   "source": [
    "df_staff[df_staff['Label']=='amber']['Author Rank']"
   ]
  },
  {
   "cell_type": "code",
   "execution_count": 24,
   "metadata": {},
   "outputs": [],
   "source": [
    "#Use this code if we want to remove ReachOut.com staff\n",
    "#test_df = df_new[~df_new['Author Rank'].isin(reachout_staff)]\n",
    "#test_df['Author Rank'].value_counts()"
   ]
  },
  {
   "cell_type": "markdown",
   "metadata": {},
   "source": [
    "### 2.2 Isolate Emojis\n",
    "In this section, I pull out the emoji information from the message body so it can be included as a feature. I intend to remove the HTML tags from the message body, but this also removes the emoji information. I wanted to keep that information because I think it could speak to emotional distress or stability. I didn't just keep the description of the emoji but also the prefix text **\"emoticon-\"** so that the model would treat this as emoji information."
   ]
  },
  {
   "cell_type": "code",
   "execution_count": 25,
   "metadata": {},
   "outputs": [],
   "source": [
    "#Isolate emoji text\n",
    "#Find the position of <img\n",
    "df_new['pos_emoji'] = df_new['Message Body'].str.find('<img')\n",
    "\n",
    "#Use position to slice using a lambda function, this is the portion of the emoji line I am interested in\n",
    "#Originally had x['pos_emoji'] thru the end of the line to confirm that there was no additiona information needed\n",
    "df_new['emoji_text_full'] = df_new.apply(lambda x: x['Message Body'][x['pos_emoji']+20:x['pos_emoji']+50], axis=1)\n",
    "\n",
    "#Find the end of the emoji string\n",
    "df_new['end_pos_emoji'] =  df_new['emoji_text_full'].str.find('\"')\n",
    "\n",
    "#Slice and cut-off remaining emoji text\n",
    "df_new['emoji_text'] = df_new.apply(lambda x: x['emoji_text_full'][0:x['end_pos_emoji']], axis=1)\n",
    "\n",
    "#Look at the distribution of emojis in training data\n",
    "emoji_data=df_new[df_new['pos_emoji']>0]"
   ]
  },
  {
   "cell_type": "code",
   "execution_count": 26,
   "metadata": {},
   "outputs": [],
   "source": [
    "#Remove emoji text if no emojis were used in the message\n",
    "df_new['Emoji Text'] = df_new.apply(lambda x: x['emoji_text'] if x['pos_emoji']>=0 else '', axis=1)"
   ]
  },
  {
   "cell_type": "code",
   "execution_count": 27,
   "metadata": {},
   "outputs": [
    {
     "data": {
      "text/plain": [
       "Emoji Text\n",
       "                               915\n",
       " emoticon-smileyhappy          138\n",
       " emoticon-smileysad             41\n",
       " emoticon-smileyvery-happy      34\n",
       " emoticon-smileytongue          31\n",
       " emoticon-smileywink             6\n",
       " emoticon-heart                  5\n",
       " emoticon-smileysurprised        4\n",
       " emoticon-cathappy               2\n",
       " emoticon-smileyfrustrated       2\n",
       " emoticon-smileyindifferent      2\n",
       " emoticon-manmad                 1\n",
       " emoticon-manfrustrated          1\n",
       " emoticon-manvery-happy          1\n",
       " emoticon-womanlol               1\n",
       " emoticon-smileymad              1\n",
       " emoticon-cattongue              1\n",
       " emoticon-catsad                 1\n",
       " emoticon-catvery-happy          1\n",
       "Name: count, dtype: int64"
      ]
     },
     "execution_count": 27,
     "metadata": {},
     "output_type": "execute_result"
    }
   ],
   "source": [
    "df_new['Emoji Text'].value_counts()"
   ]
  },
  {
   "cell_type": "code",
   "execution_count": 28,
   "metadata": {},
   "outputs": [
    {
     "data": {
      "text/plain": [
       "<Axes: xlabel='Emoji Text'>"
      ]
     },
     "execution_count": 28,
     "metadata": {},
     "output_type": "execute_result"
    },
    {
     "data": {
      "image/png": "[encoded data removed]",
      "text/plain": [
       "<Figure size 640x480 with 1 Axes>"
      ]
     },
     "metadata": {},
     "output_type": "display_data"
    }
   ],
   "source": [
    "df_new['Emoji Text'].value_counts().plot(kind='bar')"
   ]
  },
  {
   "cell_type": "markdown",
   "metadata": {},
   "source": [
    "### 2.3 Add Date and Time Features\n",
    "In this section, I use the date/time that the post was made to derive features that I think may be important:\n",
    "\n",
    "- **Hour**: The hour that the post was made. Studies show that suicides are more prevelant between midnight and 6 am.\n",
    "- **Day of Week**: The day of the week that the post was made. Studies show that suicides are more likely to occurr on Sundays and Mondays.\n",
    "- **Month**: The month that the post was made. I have not researched this, but imagine that suicides may be higher around the holidays"
   ]
  },
  {
   "cell_type": "code",
   "execution_count": 29,
   "metadata": {},
   "outputs": [
    {
     "name": "stdout",
     "output_type": "stream",
     "text": [
      "           Message Post Time   Datetime        Date      Time Hour  \\\n",
      "0  2015-04-24T03:49:50+00:00 2015-04-24  2015-04-24  03:49:50   03   \n",
      "1  2015-04-24T04:01:22+00:00 2015-04-24  2015-04-24  04:01:22   04   \n",
      "2  2015-04-24T04:43:34+00:00 2015-04-24  2015-04-24  04:43:34   04   \n",
      "\n",
      "  Day of Week  Month  \n",
      "0      Friday  April  \n",
      "1      Friday  April  \n",
      "2      Friday  April  \n"
     ]
    }
   ],
   "source": [
    "#Create date and time variables to be added as features\n",
    "import datetime\n",
    "import calendar\n",
    "\n",
    "# datetime in string format for may 25 1999\n",
    "input = '2021/05/25'\n",
    "format = '%Y/%m/%d'\n",
    " \n",
    "#Get message date and time as separate variables\n",
    "df_new['pos_time'] = df_new['Message Post Time'].str.find('T')\n",
    "df_new['pos_plus'] = df_new['Message Post Time'].str.find('+')\n",
    "\n",
    "#Use position to slice and get date only\n",
    "df_new['Date'] = df_new.apply(lambda x: x['Message Post Time'][0:x['pos_time']], axis=1)\n",
    "\n",
    "df_new['Time'] = df_new.apply(lambda x: x['Message Post Time'][x['pos_time']+1:x['pos_plus']], axis=1)\n",
    "df_new['Hour'] = df_new.apply(lambda x: x['Time'][0:2], axis=1)\n",
    "\n",
    "# convert from string format to datetime format\n",
    "df_new['Datetime'] = pd.to_datetime(df_new['Date'], format='%Y-%m-%d')\n",
    "df_new['Month'] = df_new.apply(lambda x: x['Datetime'].strftime(\"%B\"), axis=1)\n",
    "\n",
    "#Monday=0, Sunday=6\n",
    "df_new['Day of Week'] = df_new['Datetime'].dt.dayofweek\n",
    "\n",
    "#Replace the numeric day of the week with the name of the day\n",
    "daynames = {0:'Monday', 1:'Tuesday', 2:'Wednesday', 3:'Thursday', 4:'Friday', 5:'Saturday', 6:'Sunday'}\n",
    "df_new['Day of Week'].replace(daynames, inplace=True)\n",
    "\n",
    "#Look at results to confirm accuracy\n",
    "print(df_new[['Message Post Time', 'Datetime', 'Date', 'Time','Hour','Day of Week','Month']].head(3))\n",
    "\n",
    "#Look at times\n",
    "#df_new['what_time'] = df_new['Message Post Time'].str.find('T2')\n",
    "#df_new[df_new['what_time']>0]"
   ]
  },
  {
   "cell_type": "markdown",
   "metadata": {},
   "source": [
    "### 2.4 Remove HTML Tags from Text\n",
    "In this section, I remove HTML tags from the text to make it more readable. I have also retained the raw text as I intend to compare the performance of my LLMs on text with and without HTML tags."
   ]
  },
  {
   "cell_type": "code",
   "execution_count": 30,
   "metadata": {},
   "outputs": [
    {
     "data": {
      "text/html": [
       "<div>\n",
       "<style scoped>\n",
       "    .dataframe tbody tr th:only-of-type {\n",
       "        vertical-align: middle;\n",
       "    }\n",
       "\n",
       "    .dataframe tbody tr th {\n",
       "        vertical-align: top;\n",
       "    }\n",
       "\n",
       "    .dataframe thead th {\n",
       "        text-align: right;\n",
       "    }\n",
       "</style>\n",
       "<table border=\"1\" class=\"dataframe\">\n",
       "  <thead>\n",
       "    <tr style=\"text-align: right;\">\n",
       "      <th></th>\n",
       "      <th>Message ID2</th>\n",
       "      <th>Author ID2</th>\n",
       "      <th>Label</th>\n",
       "      <th>Author Rank</th>\n",
       "      <th>Message Body</th>\n",
       "      <th>Emoji Text</th>\n",
       "      <th>Day of Week</th>\n",
       "      <th>Hour</th>\n",
       "      <th>Date</th>\n",
       "      <th>Datetime</th>\n",
       "      <th>Month</th>\n",
       "      <th>Time</th>\n",
       "      <th>Message Views</th>\n",
       "      <th>Message Kudos</th>\n",
       "    </tr>\n",
       "  </thead>\n",
       "  <tbody>\n",
       "    <tr>\n",
       "      <th>1186</th>\n",
       "      <td>139565</td>\n",
       "      <td>5155</td>\n",
       "      <td>green</td>\n",
       "      <td>Uber contributor</td>\n",
       "      <td>Looking forward to seeing my aunt tomorrow who I haven't seen in years, she is coming to Tassie for work and taking me out for dinner. Should be great.</td>\n",
       "      <td></td>\n",
       "      <td>Sunday</td>\n",
       "      <td>12</td>\n",
       "      <td>2015-06-07</td>\n",
       "      <td>2015-06-07</td>\n",
       "      <td>June</td>\n",
       "      <td>12:16:09</td>\n",
       "      <td>214</td>\n",
       "      <td>2</td>\n",
       "    </tr>\n",
       "    <tr>\n",
       "      <th>1187</th>\n",
       "      <td>139568</td>\n",
       "      <td>5111</td>\n",
       "      <td>green</td>\n",
       "      <td>Uber contributor</td>\n",
       "      <td>Just keeping going minute by minute j</td>\n",
       "      <td></td>\n",
       "      <td>Sunday</td>\n",
       "      <td>12</td>\n",
       "      <td>2015-06-07</td>\n",
       "      <td>2015-06-07</td>\n",
       "      <td>June</td>\n",
       "      <td>12:46:45</td>\n",
       "      <td>144</td>\n",
       "      <td>0</td>\n",
       "    </tr>\n",
       "  </tbody>\n",
       "</table>\n",
       "</div>"
      ],
      "text/plain": [
       "      Message ID2  Author ID2  Label       Author Rank  \\\n",
       "1186       139565        5155  green  Uber contributor   \n",
       "1187       139568        5111  green  Uber contributor   \n",
       "\n",
       "                                                                                                                                                 Message Body  \\\n",
       "1186  Looking forward to seeing my aunt tomorrow who I haven't seen in years, she is coming to Tassie for work and taking me out for dinner. Should be great.   \n",
       "1187                                                                                                                    Just keeping going minute by minute j   \n",
       "\n",
       "     Emoji Text Day of Week Hour        Date   Datetime Month      Time  \\\n",
       "1186                 Sunday   12  2015-06-07 2015-06-07  June  12:16:09   \n",
       "1187                 Sunday   12  2015-06-07 2015-06-07  June  12:46:45   \n",
       "\n",
       "     Message Views Message Kudos  \n",
       "1186           214             2  \n",
       "1187           144             0  "
      ]
     },
     "execution_count": 30,
     "metadata": {},
     "output_type": "execute_result"
    }
   ],
   "source": [
    "#Drop variables used for derivations and only keep variables of interest\n",
    "df_red=df_new[['Message ID2', 'Author ID2', 'Label', 'Author Rank', 'Message Body', 'Emoji Text', 'Day of Week', 'Hour', 'Date', 'Datetime', 'Month', 'Time', 'Message Views', 'Message Kudos']]\n",
    "df_red.tail((2))"
   ]
  },
  {
   "cell_type": "code",
   "execution_count": 31,
   "metadata": {},
   "outputs": [
    {
     "data": {
      "text/html": [
       "<div>\n",
       "<style scoped>\n",
       "    .dataframe tbody tr th:only-of-type {\n",
       "        vertical-align: middle;\n",
       "    }\n",
       "\n",
       "    .dataframe tbody tr th {\n",
       "        vertical-align: top;\n",
       "    }\n",
       "\n",
       "    .dataframe thead th {\n",
       "        text-align: right;\n",
       "    }\n",
       "</style>\n",
       "<table border=\"1\" class=\"dataframe\">\n",
       "  <thead>\n",
       "    <tr style=\"text-align: right;\">\n",
       "      <th></th>\n",
       "      <th>Message ID2</th>\n",
       "      <th>Author ID2</th>\n",
       "      <th>Label</th>\n",
       "      <th>Author Rank</th>\n",
       "      <th>Message Body</th>\n",
       "      <th>Emoji Text</th>\n",
       "      <th>Day of Week</th>\n",
       "      <th>Hour</th>\n",
       "      <th>Date</th>\n",
       "      <th>Datetime</th>\n",
       "      <th>Month</th>\n",
       "      <th>Time</th>\n",
       "      <th>Message Views</th>\n",
       "      <th>Message Kudos</th>\n",
       "      <th>Message Body no HTML</th>\n",
       "    </tr>\n",
       "  </thead>\n",
       "  <tbody>\n",
       "    <tr>\n",
       "      <th>0</th>\n",
       "      <td>135267</td>\n",
       "      <td>5111</td>\n",
       "      <td>green</td>\n",
       "      <td>Uber contributor</td>\n",
       "      <td>&lt;P&gt;JAN&lt;BR /&gt; &lt;BR /&gt;FEB&lt;BR /&gt; &lt;BR /&gt;MAR&lt;BR /&gt; &lt;BR /&gt;APR&lt;/P&gt;\\n&lt;P&gt;17th: - J95!&amp;nbsp;&lt;BR /&gt; &lt;BR /&gt;MAY&lt;BR /&gt; &lt;BR /&gt;JUN&lt;BR /&gt; &lt;BR /&gt;JUL&lt;BR /&gt;19th: Sophie!!&lt;BR /&gt; &lt;BR /&gt;AUG&lt;BR /&gt; &lt;BR /&gt;SEP&lt;BR /&gt; &lt;BR /&gt;OCT&lt;BR /&gt; &lt;BR /&gt;NOV &lt;BR /&gt; &lt;BR /&gt;DEC&lt;/P&gt;</td>\n",
       "      <td></td>\n",
       "      <td>Friday</td>\n",
       "      <td>03</td>\n",
       "      <td>2015-04-24</td>\n",
       "      <td>2015-04-24</td>\n",
       "      <td>April</td>\n",
       "      <td>03:49:50</td>\n",
       "      <td>519</td>\n",
       "      <td>0</td>\n",
       "      <td>JAN FEB MAR APR17th: - J95! MAY JUN JUL19th: Sophie!! AUG SEP OCT NOV  DEC</td>\n",
       "    </tr>\n",
       "    <tr>\n",
       "      <th>1</th>\n",
       "      <td>135268</td>\n",
       "      <td>5111</td>\n",
       "      <td>green</td>\n",
       "      <td>Uber contributor</td>\n",
       "      <td>&lt;P&gt;&lt;div class=\"video-embed-center video-embed-youtube\"&gt;&lt;iframe src=\"http://www.youtube.com/embed/K_EjSuYWzxA\" width=\"320\" height=\"265\" frameborder=\"0\" allowfullscreen=\"true\"&gt;&lt;/iframe&gt;&lt;/div&gt;&lt;/P&gt;\\n&lt;P&gt;&amp;nbsp;&lt;/P&gt;\\n&lt;P&gt;Big Scary - Luck Now.&amp;nbsp;&lt;/P&gt;</td>\n",
       "      <td></td>\n",
       "      <td>Friday</td>\n",
       "      <td>04</td>\n",
       "      <td>2015-04-24</td>\n",
       "      <td>2015-04-24</td>\n",
       "      <td>April</td>\n",
       "      <td>04:01:22</td>\n",
       "      <td>207</td>\n",
       "      <td>0</td>\n",
       "      <td>Big Scary - Luck Now.</td>\n",
       "    </tr>\n",
       "  </tbody>\n",
       "</table>\n",
       "</div>"
      ],
      "text/plain": [
       "   Message ID2  Author ID2  Label       Author Rank  \\\n",
       "0       135267        5111  green  Uber contributor   \n",
       "1       135268        5111  green  Uber contributor   \n",
       "\n",
       "                                                                                                                                                                                                                                           Message Body  \\\n",
       "0            <P>JAN<BR /> <BR />FEB<BR /> <BR />MAR<BR /> <BR />APR</P>\\n<P>17th: - J95!&nbsp;<BR /> <BR />MAY<BR /> <BR />JUN<BR /> <BR />JUL<BR />19th: Sophie!!<BR /> <BR />AUG<BR /> <BR />SEP<BR /> <BR />OCT<BR /> <BR />NOV <BR /> <BR />DEC</P>   \n",
       "1  <P><div class=\"video-embed-center video-embed-youtube\"><iframe src=\"http://www.youtube.com/embed/K_EjSuYWzxA\" width=\"320\" height=\"265\" frameborder=\"0\" allowfullscreen=\"true\"></iframe></div></P>\\n<P>&nbsp;</P>\\n<P>Big Scary - Luck Now.&nbsp;</P>   \n",
       "\n",
       "  Emoji Text Day of Week Hour        Date   Datetime  Month      Time  \\\n",
       "0                 Friday   03  2015-04-24 2015-04-24  April  03:49:50   \n",
       "1                 Friday   04  2015-04-24 2015-04-24  April  04:01:22   \n",
       "\n",
       "  Message Views Message Kudos  \\\n",
       "0           519             0   \n",
       "1           207             0   \n",
       "\n",
       "                                                         Message Body no HTML  \n",
       "0  JAN FEB MAR APR17th: - J95! MAY JUN JUL19th: Sophie!! AUG SEP OCT NOV  DEC  \n",
       "1                                                       Big Scary - Luck Now.  "
      ]
     },
     "execution_count": 31,
     "metadata": {},
     "output_type": "execute_result"
    }
   ],
   "source": [
    "#Add variable for text without HTML tags\n",
    "#df_new2=df_new.replace(to_replace=\"<[^>]*>|\\n|&nbsp;\", value=\"\", regex=True)\n",
    "df_red['Message Body no HTML']=df_red['Message Body'].replace(to_replace=\"<[^>]*>|\\n|&nbsp;\", value=\"\", regex=True)\n",
    "df_red.head((2))"
   ]
  },
  {
   "cell_type": "code",
   "execution_count": 32,
   "metadata": {},
   "outputs": [
    {
     "data": {
      "text/plain": [
       "7    Redhead: aaaaarrrrgggg getting really sick of this hypomania. When will this end. getting so agitated, bored. And its raining so I can't even get out for a walk to calm down. what to do. Its starting to make me feel unsafe...<img class=\"emoticon emoticon-smileysad\" id=\"smileysad\" src=\"http://inspire.i.lithium.com/i/smilies/16x16_smiley-sad.png\" alt=\"Smiley Sad\" title=\"Smiley Sad\" /> sorry for being so negative again\n",
       "Name: Message Body, dtype: object"
      ]
     },
     "execution_count": 32,
     "metadata": {},
     "output_type": "execute_result"
    }
   ],
   "source": [
    "#Look at two observations to compare how the text with and without HTML tags looks\n",
    "pd.set_option('display.max_colwidth', None)\n",
    "df_red[df_red['Message ID2']==135284]['Message Body']"
   ]
  },
  {
   "cell_type": "code",
   "execution_count": 33,
   "metadata": {},
   "outputs": [
    {
     "data": {
      "text/plain": [
       "7    Redhead: aaaaarrrrgggg getting really sick of this hypomania. When will this end. getting so agitated, bored. And its raining so I can't even get out for a walk to calm down. what to do. Its starting to make me feel unsafe... sorry for being so negative again\n",
       "Name: Message Body no HTML, dtype: object"
      ]
     },
     "execution_count": 33,
     "metadata": {},
     "output_type": "execute_result"
    }
   ],
   "source": [
    "df_red[df_red['Message ID2']==135284]['Message Body no HTML']"
   ]
  },
  {
   "cell_type": "code",
   "execution_count": 34,
   "metadata": {},
   "outputs": [
    {
     "data": {
      "text/plain": [
       "7     emoticon-smileysad\n",
       "Name: Emoji Text, dtype: object"
      ]
     },
     "execution_count": 34,
     "metadata": {},
     "output_type": "execute_result"
    }
   ],
   "source": [
    "df_red[df_red['Message ID2']==135284]['Emoji Text']"
   ]
  },
  {
   "cell_type": "markdown",
   "metadata": {},
   "source": [
    "### 2.5 Map Labels to Numeric Values\n",
    "Some of the LLMs I intend to use need categories in numbers instead of text, so I create a new variable (Label Num) to contain this information."
   ]
  },
  {
   "cell_type": "code",
   "execution_count": 35,
   "metadata": {},
   "outputs": [],
   "source": [
    "#Map the label to a numerical value because this is needed for BERT instead of the text\n",
    "#to_rep = {'green': 0, 'amber': 1, 'red': 2, 'crisis': 3}\n",
    "to_num = {'green': 0, 'amber': 1, 'red': 2, 'crisis': 3}\n",
    "df_red['Label Num']=df_red['Label']\n",
    "df_red.replace({'Label Num': to_num}, inplace=True)"
   ]
  },
  {
   "cell_type": "markdown",
   "metadata": {},
   "source": [
    "### 2.6 Create Text + Features Variable\n",
    "The research I did indicated that prepending the additional features as text to the message body could improve the accuracy of my LLM. I added the following information to the beginning of the message text:\n",
    "\n",
    "- **Author Rank**: \"My author rank is XXXXX.\"\n",
    "- **Day**: \"It is XXXXX.\"\n",
    "- **Month**: \"The month is XXXXX.\"\n",
    "- **Emoji Text**: \"emoticon-XXXXXXXX.\"\n",
    "- **Views**: \"This post has XXXX views.\"\n",
    "- **Kudos**: \"This post has XXXX kudos.\""
   ]
  },
  {
   "cell_type": "code",
   "execution_count": 36,
   "metadata": {},
   "outputs": [
    {
     "name": "stdout",
     "output_type": "stream",
     "text": [
      "        Author Rank Day of Week Hour  Month Message Views Message Kudos  \\\n",
      "0  Uber contributor      Friday   03  April           519             0   \n",
      "\n",
      "                                                         Message Body no HTML  \\\n",
      "0  JAN FEB MAR APR17th: - J95! MAY JUN JUL19th: Sophie!! AUG SEP OCT NOV  DEC   \n",
      "\n",
      "                                                                                                                                                                                                                    Text and Features  \n",
      "0  My author rank is Uber contributor. I posted this on Friday. The time is 03 oclock. The month is April.  This post has 519 views. This post has 0 kudos.JAN FEB MAR APR17th: - J95! MAY JUN JUL19th: Sophie!! AUG SEP OCT NOV  DEC  \n"
     ]
    }
   ],
   "source": [
    "#Combine text and features\n",
    "df_red['Text and Features'] = \"My author rank is \" + df_red['Author Rank'] + \".\" \\\n",
    "                            + \" I posted this on \" + df_red['Day of Week'] +\".\" \\\n",
    "                            + \" The time is \" + df_red['Hour'] + \" oclock.\" \\\n",
    "                            + \" The month is \" + df_red['Month'] + \". \" \\\n",
    "                            + df_red['Emoji Text'] \\\n",
    "                            + \" This post has \" + df_red['Message Views'] + \" views.\" \\\n",
    "                            + \" This post has \" + df_red['Message Kudos'] + \" kudos.\" \\\n",
    "                            + df_red['Message Body no HTML']\n",
    "print(df_red[['Author Rank', 'Day of Week', 'Hour', 'Month','Message Views','Message Kudos','Message Body no HTML', 'Text and Features']].head(1))"
   ]
  },
  {
   "cell_type": "markdown",
   "metadata": {},
   "source": [
    "### 2.7 Split into Train and Validation\n",
    "I used a 90-10 split for training and validation data. For the CLPsych project, they provided a separate testing dataset. I intend to use their \"Training\" data as training and validation and then apply my final model to their \"Testing\" data. However, the code does refer to the validaiton dataset as \"test\" since I used code from previous homeworks and this is what I had called the validation dataset.\n",
    "\n",
    "After all my model tweaking and testing, I will apply the best LLM to the true testing dataset and check its accuracy."
   ]
  },
  {
   "cell_type": "code",
   "execution_count": 37,
   "metadata": {},
   "outputs": [],
   "source": [
    "#Create variable in dataset for groupped labels\n",
    "#Crisis vs. Other\n",
    "to_num_crisis = {'green': 0, 'amber': 0, 'red': 0, 'crisis': 1}\n",
    "df_red['Label Num Crisis']=df_red['Label']\n",
    "df_red.replace({'Label Num Crisis': to_num_crisis}, inplace=True)\n",
    "\n",
    "#Red vs. Other\n",
    "to_num_red = {'green': 0, 'amber': 0, 'red': 1, 'crisis': 0}\n",
    "df_red['Label Num Red']=df_red['Label']\n",
    "df_red.replace({'Label Num Red': to_num_red}, inplace=True)\n",
    "\n",
    "#Amber vs. Other\n",
    "to_num_amber = {'green': 0, 'amber': 1, 'red': 0, 'crisis': 0}\n",
    "df_red['Label Num Amber']=df_red['Label']\n",
    "df_red.replace({'Label Num Amber': to_num_amber}, inplace=True)\n",
    "\n",
    "#Green vs. Other\n",
    "to_num_green = {'green': 1, 'amber': 0, 'red': 0, 'crisis': 0}\n",
    "df_red['Label Num Green']=df_red['Label']\n",
    "df_red.replace({'Label Num Green': to_num_green}, inplace=True)"
   ]
  },
  {
   "cell_type": "code",
   "execution_count": 41,
   "metadata": {},
   "outputs": [
    {
     "name": "stdout",
     "output_type": "stream",
     "text": [
      "12.1\n"
     ]
    },
    {
     "data": {
      "text/plain": [
       "'cuda'"
      ]
     },
     "execution_count": 41,
     "metadata": {},
     "output_type": "execute_result"
    }
   ],
   "source": [
    "import os\n",
    "import re\n",
    "import numpy as np \n",
    "from sklearn.metrics import accuracy_score\n",
    "\n",
    "import transformers\n",
    "from transformers import BertTokenizer, BertModel\n",
    "\n",
    "import torch\n",
    "from torch import cuda\n",
    "#from tqdm.notebook import tqdm as tqdm\n",
    "from tqdm import tqdm_notebook as tqdm\n",
    "device = 'cuda' if cuda.is_available() else 'cpu'\n",
    "print(torch.version.cuda)\n",
    "\n",
    "device"
   ]
  },
  {
   "cell_type": "markdown",
   "metadata": {},
   "source": [
    "### 3. RoBERTa Message Body with HTML Text Removed"
   ]
  },
  {
   "cell_type": "code",
   "execution_count": 39,
   "metadata": {},
   "outputs": [],
   "source": [
    "#Separate data into test/train\n",
    "np.random.seed(42)\n",
    "test = df_red.sample(frac=0.1)\n",
    "train = df_red[~df_red.index.isin(test.index)]"
   ]
  },
  {
   "cell_type": "code",
   "execution_count": 40,
   "metadata": {},
   "outputs": [],
   "source": [
    "from sklearn.metrics import f1_score"
   ]
  },
  {
   "cell_type": "code",
   "execution_count": 41,
   "metadata": {},
   "outputs": [],
   "source": [
    "#Split test and training data into X and Y\n",
    "train_X = train['Message Body no HTML'].to_list()\n",
    "test_X = test['Message Body no HTML'].to_list()"
   ]
  },
  {
   "cell_type": "code",
   "execution_count": 42,
   "metadata": {},
   "outputs": [
    {
     "data": {
      "text/plain": [
       "(1069, 1069)"
      ]
     },
     "execution_count": 42,
     "metadata": {},
     "output_type": "execute_result"
    }
   ],
   "source": [
    "train_y = train['Label Num'].to_list()\n",
    "test_y = test['Label Num'].to_list()\n",
    "\n",
    "len(train_X), len(train_y)"
   ]
  },
  {
   "cell_type": "code",
   "execution_count": 43,
   "metadata": {},
   "outputs": [],
   "source": [
    "class MultiLabelDataset(torch.utils.data.Dataset):\n",
    "\n",
    "    #Initializer function\n",
    "    #Self references what it is within this class\n",
    "    def __init__(self, text, labels, tokenizer, max_len):\n",
    "        self.tokenizer = tokenizer\n",
    "        self.text = text\n",
    "        self.targets = labels\n",
    "        self.max_len = max_len\n",
    "\n",
    "    #Return lenght of text\n",
    "    def __len__(self):\n",
    "        return len(self.text)\n",
    "\n",
    "    def __getitem__(self, index):\n",
    "        text = self.text[index]\n",
    "        inputs = self.tokenizer.encode_plus(\n",
    "            text,\n",
    "            None,\n",
    "            add_special_tokens=True,\n",
    "            max_length=self.max_len,\n",
    "            pad_to_max_length=True,                                  \n",
    "            truncation=True,\n",
    "            return_token_type_ids=True\n",
    "        )\n",
    "        ids = inputs['input_ids']\n",
    "        mask = inputs['attention_mask']\n",
    "        token_type_ids = inputs[\"token_type_ids\"]\n",
    "\n",
    "        return {\n",
    "            'ids': torch.tensor(ids, dtype=torch.long),\n",
    "            'mask': torch.tensor(mask, dtype=torch.long),\n",
    "            'token_type_ids': torch.tensor(token_type_ids, dtype=torch.long),\n",
    "            'targets': torch.tensor(self.targets[index], dtype=torch.long)\n",
    "        }"
   ]
  },
  {
   "cell_type": "code",
   "execution_count": 44,
   "metadata": {},
   "outputs": [],
   "source": [
    "from transformers import RobertaConfig, RobertaModel\n",
    "\n",
    "# Initializing a RoBERTa configuration\n",
    "configuration = RobertaConfig()\n",
    "\n",
    "# Initializing a model (with random weights) from the configuration\n",
    "#model = RobertaModel(configuration)\n",
    "\n",
    "# Accessing the model configuration\n",
    "#configuration = model.config"
   ]
  },
  {
   "cell_type": "code",
   "execution_count": 45,
   "metadata": {},
   "outputs": [],
   "source": [
    "class BERTClass(torch.nn.Module):\n",
    "    def __init__(self, NUM_OUT):\n",
    "        super(BERTClass, self).__init__()\n",
    "                   \n",
    "        self.l1 = RobertaModel(configuration)\n",
    "#         self.pre_classifier = torch.nn.Linear(768, 256)\n",
    "        self.classifier = torch.nn.Linear(768, NUM_OUT)\n",
    "#         self.dropout = torch.nn.Dropout(0.5)\n",
    "        self.softmax = torch.nn.Softmax(dim=1)\n",
    "\n",
    "    def forward(self, input_ids, attention_mask, token_type_ids):\n",
    "        output_1 = self.l1(input_ids=input_ids, attention_mask=attention_mask)\n",
    "        hidden_state = output_1[0]\n",
    "        pooler = hidden_state[:, 0]\n",
    "#         pooler = self.pre_classifier(pooler)\n",
    "#         pooler = torch.nn.Tanh()(pooler)\n",
    "#         pooler = self.dropout(pooler)\n",
    "        output = self.classifier(pooler)\n",
    "        output = self.softmax(output)\n",
    "        return output"
   ]
  },
  {
   "cell_type": "code",
   "execution_count": 46,
   "metadata": {},
   "outputs": [],
   "source": [
    "def loss_fn(outputs, targets):\n",
    "    return torch.nn.CrossEntropyLoss()(outputs, targets)\n",
    "\n",
    "def train(model, training_loader, optimizer):\n",
    "    model.train()\n",
    "    for data in tqdm(training_loader):\n",
    "        ids = data['ids'].to(device, dtype = torch.long)\n",
    "        mask = data['mask'].to(device, dtype = torch.long)\n",
    "        token_type_ids = data['token_type_ids'].to(device, dtype = torch.long)\n",
    "        targets = data['targets'].to(device, dtype = torch.long)\n",
    "\n",
    "        outputs = model(ids, mask, token_type_ids)\n",
    "\n",
    "        optimizer.zero_grad()\n",
    "        loss = loss_fn(outputs, targets)\n",
    "\n",
    "        optimizer.zero_grad()\n",
    "        loss.backward()\n",
    "        optimizer.step()\n",
    "    return loss\n",
    "    \n",
    "def validation(model, testing_loader):\n",
    "    model.eval()\n",
    "    fin_targets=[]\n",
    "    fin_outputs=[]\n",
    "    with torch.no_grad():\n",
    "        for data in tqdm(testing_loader):\n",
    "            targets = data['targets']\n",
    "            ids = data['ids'].to(device, dtype = torch.long)\n",
    "            mask = data['mask'].to(device, dtype = torch.long)\n",
    "            token_type_ids = data['token_type_ids'].to(device, dtype = torch.long)\n",
    "            outputs = model(ids, mask, token_type_ids)\n",
    "            outputs = torch.sigmoid(outputs).cpu().detach()\n",
    "            fin_outputs.extend(outputs)\n",
    "            fin_targets.extend(targets)\n",
    "    return torch.stack(fin_outputs), torch.stack(fin_targets)"
   ]
  },
  {
   "cell_type": "code",
   "execution_count": 47,
   "metadata": {},
   "outputs": [
    {
     "name": "stdout",
     "output_type": "stream",
     "text": [
      "@Sophie-RO I need to say something but I dont know how\n"
     ]
    },
    {
     "data": {
      "text/plain": [
       "{'input_ids': [0, 1039, 104, 6673, 324, 12, 8727, 38, 240, 7, 224, 402, 53, 38, 33976, 216, 141, 2, 1, 1, 1, 1, 1, 1, 1, 1, 1, 1, 1, 1, 1, 1, 1, 1, 1, 1, 1, 1, 1, 1, 1, 1, 1, 1, 1, 1, 1, 1, 1, 1, 1, 1, 1, 1, 1, 1, 1, 1, 1, 1, 1, 1, 1, 1, 1, 1, 1, 1, 1, 1, 1, 1, 1, 1, 1, 1, 1, 1, 1, 1, 1, 1, 1, 1, 1, 1, 1, 1, 1, 1, 1, 1, 1, 1, 1, 1, 1, 1, 1, 1, 1, 1, 1, 1, 1, 1, 1, 1, 1, 1, 1, 1, 1, 1, 1, 1, 1, 1, 1, 1, 1, 1, 1, 1, 1, 1, 1, 1, 1, 1, 1, 1, 1, 1, 1, 1, 1, 1, 1, 1, 1, 1, 1, 1, 1, 1, 1, 1, 1, 1, 1, 1, 1, 1, 1, 1, 1, 1, 1, 1, 1, 1, 1, 1, 1, 1, 1, 1, 1, 1, 1, 1, 1, 1, 1, 1, 1, 1, 1, 1, 1, 1, 1, 1, 1, 1, 1, 1, 1, 1, 1, 1, 1, 1, 1, 1, 1, 1, 1, 1, 1, 1, 1, 1, 1, 1, 1, 1, 1, 1, 1, 1, 1, 1, 1, 1, 1, 1, 1, 1, 1, 1, 1, 1, 1, 1, 1, 1, 1, 1, 1, 1, 1, 1, 1, 1, 1, 1, 1, 1, 1, 1, 1, 1, 1, 1, 1, 1, 1, 1, 1, 1, 1, 1, 1, 1, 1, 1, 1, 1, 1, 1, 1, 1, 1, 1, 1, 1, 1, 1, 1, 1, 1, 1, 1, 1, 1, 1, 1, 1, 1, 1, 1, 1, 1, 1, 1, 1, 1, 1, 1, 1, 1, 1, 1, 1, 1, 1, 1, 1, 1, 1, 1, 1, 1, 1, 1, 1, 1, 1, 1, 1, 1, 1, 1, 1, 1, 1, 1, 1, 1, 1, 1, 1, 1, 1, 1, 1, 1, 1, 1, 1, 1, 1, 1, 1, 1, 1, 1, 1, 1, 1, 1, 1, 1, 1, 1, 1, 1, 1], 'token_type_ids': [0, 0, 0, 0, 0, 0, 0, 0, 0, 0, 0, 0, 0, 0, 0, 0, 0, 0, 0, 0, 0, 0, 0, 0, 0, 0, 0, 0, 0, 0, 0, 0, 0, 0, 0, 0, 0, 0, 0, 0, 0, 0, 0, 0, 0, 0, 0, 0, 0, 0, 0, 0, 0, 0, 0, 0, 0, 0, 0, 0, 0, 0, 0, 0, 0, 0, 0, 0, 0, 0, 0, 0, 0, 0, 0, 0, 0, 0, 0, 0, 0, 0, 0, 0, 0, 0, 0, 0, 0, 0, 0, 0, 0, 0, 0, 0, 0, 0, 0, 0, 0, 0, 0, 0, 0, 0, 0, 0, 0, 0, 0, 0, 0, 0, 0, 0, 0, 0, 0, 0, 0, 0, 0, 0, 0, 0, 0, 0, 0, 0, 0, 0, 0, 0, 0, 0, 0, 0, 0, 0, 0, 0, 0, 0, 0, 0, 0, 0, 0, 0, 0, 0, 0, 0, 0, 0, 0, 0, 0, 0, 0, 0, 0, 0, 0, 0, 0, 0, 0, 0, 0, 0, 0, 0, 0, 0, 0, 0, 0, 0, 0, 0, 0, 0, 0, 0, 0, 0, 0, 0, 0, 0, 0, 0, 0, 0, 0, 0, 0, 0, 0, 0, 0, 0, 0, 0, 0, 0, 0, 0, 0, 0, 0, 0, 0, 0, 0, 0, 0, 0, 0, 0, 0, 0, 0, 0, 0, 0, 0, 0, 0, 0, 0, 0, 0, 0, 0, 0, 0, 0, 0, 0, 0, 0, 0, 0, 0, 0, 0, 0, 0, 0, 0, 0, 0, 0, 0, 0, 0, 0, 0, 0, 0, 0, 0, 0, 0, 0, 0, 0, 0, 0, 0, 0, 0, 0, 0, 0, 0, 0, 0, 0, 0, 0, 0, 0, 0, 0, 0, 0, 0, 0, 0, 0, 0, 0, 0, 0, 0, 0, 0, 0, 0, 0, 0, 0, 0, 0, 0, 0, 0, 0, 0, 0, 0, 0, 0, 0, 0, 0, 0, 0, 0, 0, 0, 0, 0, 0, 0, 0, 0, 0, 0, 0, 0, 0, 0, 0, 0, 0, 0, 0, 0, 0, 0, 0, 0, 0, 0, 0], 'attention_mask': [1, 1, 1, 1, 1, 1, 1, 1, 1, 1, 1, 1, 1, 1, 1, 1, 1, 1, 0, 0, 0, 0, 0, 0, 0, 0, 0, 0, 0, 0, 0, 0, 0, 0, 0, 0, 0, 0, 0, 0, 0, 0, 0, 0, 0, 0, 0, 0, 0, 0, 0, 0, 0, 0, 0, 0, 0, 0, 0, 0, 0, 0, 0, 0, 0, 0, 0, 0, 0, 0, 0, 0, 0, 0, 0, 0, 0, 0, 0, 0, 0, 0, 0, 0, 0, 0, 0, 0, 0, 0, 0, 0, 0, 0, 0, 0, 0, 0, 0, 0, 0, 0, 0, 0, 0, 0, 0, 0, 0, 0, 0, 0, 0, 0, 0, 0, 0, 0, 0, 0, 0, 0, 0, 0, 0, 0, 0, 0, 0, 0, 0, 0, 0, 0, 0, 0, 0, 0, 0, 0, 0, 0, 0, 0, 0, 0, 0, 0, 0, 0, 0, 0, 0, 0, 0, 0, 0, 0, 0, 0, 0, 0, 0, 0, 0, 0, 0, 0, 0, 0, 0, 0, 0, 0, 0, 0, 0, 0, 0, 0, 0, 0, 0, 0, 0, 0, 0, 0, 0, 0, 0, 0, 0, 0, 0, 0, 0, 0, 0, 0, 0, 0, 0, 0, 0, 0, 0, 0, 0, 0, 0, 0, 0, 0, 0, 0, 0, 0, 0, 0, 0, 0, 0, 0, 0, 0, 0, 0, 0, 0, 0, 0, 0, 0, 0, 0, 0, 0, 0, 0, 0, 0, 0, 0, 0, 0, 0, 0, 0, 0, 0, 0, 0, 0, 0, 0, 0, 0, 0, 0, 0, 0, 0, 0, 0, 0, 0, 0, 0, 0, 0, 0, 0, 0, 0, 0, 0, 0, 0, 0, 0, 0, 0, 0, 0, 0, 0, 0, 0, 0, 0, 0, 0, 0, 0, 0, 0, 0, 0, 0, 0, 0, 0, 0, 0, 0, 0, 0, 0, 0, 0, 0, 0, 0, 0, 0, 0, 0, 0, 0, 0, 0, 0, 0, 0, 0, 0, 0, 0, 0, 0, 0, 0, 0, 0, 0, 0, 0, 0, 0, 0, 0, 0, 0, 0, 0, 0, 0, 0, 0]}"
      ]
     },
     "execution_count": 47,
     "metadata": {},
     "output_type": "execute_result"
    }
   ],
   "source": [
    "from transformers import RobertaTokenizer\n",
    "\n",
    "tokenizer = RobertaTokenizer.from_pretrained(\"FacebookAI/roberta-base\")\n",
    "\n",
    "# what does the tokenizer do?\n",
    "print(train_X[5])\n",
    "\n",
    "tokenizer.encode_plus(\n",
    "            train_X[5],\n",
    "            None,\n",
    "            add_special_tokens=True,\n",
    "            max_length=350,\n",
    "            pad_to_max_length=True,\n",
    "            truncation=True,\n",
    "            return_token_type_ids=True\n",
    "        )"
   ]
  },
  {
   "cell_type": "code",
   "execution_count": 48,
   "metadata": {},
   "outputs": [],
   "source": [
    "MAX_LEN = 350\n",
    "BATCH_SIZE = 64\n",
    "EPOCHS = 3\n",
    "NUM_OUT = 4 # 7 classifications\n",
    "LEARNING_RATE = 2e-05\n",
    "\n",
    "train_y2 = torch.tensor(train_y, dtype=torch.long, device=device)\n",
    "test_y2 = torch.tensor(test_y, dtype=torch.long, device=device)\n",
    "\n",
    "training_data = MultiLabelDataset(train_X, train_y2, tokenizer, MAX_LEN)\n",
    "test_data = MultiLabelDataset(test_X, test_y2, tokenizer, MAX_LEN)\n",
    "\n",
    "train_params = {'batch_size': BATCH_SIZE,\n",
    "                'shuffle': True,\n",
    "                'num_workers': 0\n",
    "                }\n",
    "\n",
    "test_params = {'batch_size': BATCH_SIZE,\n",
    "                'shuffle': True,\n",
    "                'num_workers': 0\n",
    "                }    \n",
    "\n",
    "training_loader = torch.utils.data.DataLoader(training_data, **train_params)\n",
    "testing_loader = torch.utils.data.DataLoader(test_data, **test_params)"
   ]
  },
  {
   "cell_type": "code",
   "execution_count": 49,
   "metadata": {},
   "outputs": [
    {
     "data": {
      "application/vnd.jupyter.widget-view+json": {
       "model_id": "1342c8da7fa643bcb960f7e9a1b9fdd8",
       "version_major": 2,
       "version_minor": 0
      },
      "text/plain": [
       "  0%|          | 0/17 [00:00<?, ?it/s]"
      ]
     },
     "metadata": {},
     "output_type": "display_data"
    },
    {
     "name": "stdout",
     "output_type": "stream",
     "text": [
      "Epoch: 0, Loss:  1.0992295742034912\n"
     ]
    },
    {
     "data": {
      "application/vnd.jupyter.widget-view+json": {
       "model_id": "9c886490e2734722b724b2cf4d298856",
       "version_major": 2,
       "version_minor": 0
      },
      "text/plain": [
       "  0%|          | 0/2 [00:00<?, ?it/s]"
      ]
     },
     "metadata": {},
     "output_type": "display_data"
    },
    {
     "name": "stdout",
     "output_type": "stream",
     "text": [
      "Acurracy on test set 0.6554621848739496\n",
      "F1 on test set 0.7918781725888325\n"
     ]
    },
    {
     "data": {
      "application/vnd.jupyter.widget-view+json": {
       "model_id": "74fe6422b9244ba8a80f7a8bfb4bbfb9",
       "version_major": 2,
       "version_minor": 0
      },
      "text/plain": [
       "  0%|          | 0/17 [00:00<?, ?it/s]"
      ]
     },
     "metadata": {},
     "output_type": "display_data"
    },
    {
     "name": "stdout",
     "output_type": "stream",
     "text": [
      "Epoch: 1, Loss:  1.321437954902649\n"
     ]
    },
    {
     "data": {
      "application/vnd.jupyter.widget-view+json": {
       "model_id": "45e1ff7e8f5743afaec6c49755cb287c",
       "version_major": 2,
       "version_minor": 0
      },
      "text/plain": [
       "  0%|          | 0/2 [00:00<?, ?it/s]"
      ]
     },
     "metadata": {},
     "output_type": "display_data"
    },
    {
     "name": "stdout",
     "output_type": "stream",
     "text": [
      "Acurracy on test set 0.6554621848739496\n",
      "F1 on test set 0.7918781725888325\n"
     ]
    },
    {
     "data": {
      "application/vnd.jupyter.widget-view+json": {
       "model_id": "c9eea94cd13640169e57c20d3d3c3e82",
       "version_major": 2,
       "version_minor": 0
      },
      "text/plain": [
       "  0%|          | 0/17 [00:00<?, ?it/s]"
      ]
     },
     "metadata": {},
     "output_type": "display_data"
    },
    {
     "name": "stdout",
     "output_type": "stream",
     "text": [
      "Epoch: 2, Loss:  1.1214498281478882\n"
     ]
    },
    {
     "data": {
      "application/vnd.jupyter.widget-view+json": {
       "model_id": "87728786a77c494fbf9119584785aaf1",
       "version_major": 2,
       "version_minor": 0
      },
      "text/plain": [
       "  0%|          | 0/2 [00:00<?, ?it/s]"
      ]
     },
     "metadata": {},
     "output_type": "display_data"
    },
    {
     "name": "stdout",
     "output_type": "stream",
     "text": [
      "Acurracy on test set 0.6554621848739496\n",
      "F1 on test set 0.7918781725888325\n"
     ]
    }
   ],
   "source": [
    "#Run on Body with HTML codes\n",
    "model = BERTClass(NUM_OUT)\n",
    "model.to(device)   \n",
    "\n",
    "optimizer = torch.optim.Adam(params =  model.parameters(), lr=LEARNING_RATE)\n",
    "\n",
    "for epoch in range(EPOCHS):\n",
    "    loss = train(model, training_loader, optimizer)\n",
    "    print(f'Epoch: {epoch}, Loss:  {loss.item()}')  \n",
    "    guess, targs = validation(model, testing_loader)\n",
    " \n",
    "    guesses = torch.max(guess, dim=1)    \n",
    "    \n",
    "    print('Acurracy on test set {}'.format(accuracy_score(guesses.indices.cpu().numpy(), targs.cpu().numpy())))\n",
    "    print('F1 on test set {}'.format(f1_score(guesses.indices.cpu().numpy(), targs.cpu().numpy(), average='weighted')))\n"
   ]
  },
  {
   "cell_type": "code",
   "execution_count": 51,
   "metadata": {},
   "outputs": [],
   "source": [
    "test_result = pd.DataFrame({'Predicted': guesses.indices.cpu().numpy(), 'Actual': targs.cpu().numpy()}, columns=['Predicted', 'Actual'])"
   ]
  },
  {
   "cell_type": "code",
   "execution_count": 52,
   "metadata": {},
   "outputs": [],
   "source": [
    "predicted= guesses.indices.cpu().numpy()"
   ]
  },
  {
   "cell_type": "code",
   "execution_count": 53,
   "metadata": {},
   "outputs": [],
   "source": [
    "actual=targs.cpu().numpy()"
   ]
  },
  {
   "cell_type": "code",
   "execution_count": 54,
   "metadata": {},
   "outputs": [],
   "source": [
    "from sklearn import metrics\n",
    "\n",
    "confusion_matrix = metrics.confusion_matrix(actual, predicted)\n",
    "\n",
    "cm_display = metrics.ConfusionMatrixDisplay(confusion_matrix = confusion_matrix, display_labels = ['Green', 'Amber', 'Red', 'Crisis'])"
   ]
  },
  {
   "cell_type": "code",
   "execution_count": 55,
   "metadata": {},
   "outputs": [
    {
     "data": {
      "text/plain": [
       "<sklearn.metrics._plot.confusion_matrix.ConfusionMatrixDisplay at 0x1e24ec22920>"
      ]
     },
     "execution_count": 55,
     "metadata": {},
     "output_type": "execute_result"
    },
    {
     "data": {
      "image/png": "[encoded data removed]",
      "text/plain": [
       "<Figure size 640x480 with 2 Axes>"
      ]
     },
     "metadata": {},
     "output_type": "display_data"
    }
   ],
   "source": [
    "cm_display.plot()"
   ]
  },
  {
   "cell_type": "code",
   "execution_count": 57,
   "metadata": {},
   "outputs": [],
   "source": [
    "plist=predicted.tolist()"
   ]
  },
  {
   "cell_type": "code",
   "execution_count": 59,
   "metadata": {},
   "outputs": [
    {
     "data": {
      "text/plain": [
       "array([0, 0, 0, 0, 0, 0, 0, 0, 0, 0, 0, 0, 0, 0, 0, 0, 0, 0, 0, 0, 0, 0,\n",
       "       0, 0, 0, 0, 0, 0, 0, 0, 0, 0, 0, 0, 0, 0, 0, 0, 0, 0, 0, 0, 0, 0,\n",
       "       0, 0, 0, 0, 0, 0, 0, 0, 0, 0, 0, 0, 0, 0, 0, 0, 0, 0, 0, 0, 0, 0,\n",
       "       0, 0, 0, 0, 0, 0, 0, 0, 0, 0, 0, 0, 0, 0, 0, 0, 0, 0, 0, 0, 0, 0,\n",
       "       0, 0, 0, 0, 0, 0, 0, 0, 0, 0, 0, 0, 0, 0, 0, 0, 0, 0, 0, 0, 0, 0,\n",
       "       0, 0, 0, 0, 0, 0, 0, 0, 0], dtype=int64)"
      ]
     },
     "execution_count": 59,
     "metadata": {},
     "output_type": "execute_result"
    }
   ],
   "source": [
    "predicted"
   ]
  },
  {
   "cell_type": "markdown",
   "metadata": {},
   "source": [
    "### 4. Run Separate Models for Each Classification"
   ]
  },
  {
   "cell_type": "code",
   "execution_count": 208,
   "metadata": {},
   "outputs": [],
   "source": [
    "#Create variable in dataset for groupped labels\n",
    "#Crisis vs. Other\n",
    "to_num_crisis = {'green': 0, 'amber': 0, 'red': 0, 'crisis': 1}\n",
    "df_red['Label Num Crisis']=df_red['Label']\n",
    "df_red.replace({'Label Num Crisis': to_num_crisis}, inplace=True)\n",
    "\n",
    "#Red vs. Other\n",
    "to_num_red = {'green': 0, 'amber': 0, 'red': 1, 'crisis': 0}\n",
    "df_red['Label Num Red']=df_red['Label']\n",
    "df_red.replace({'Label Num Red': to_num_red}, inplace=True)\n",
    "\n",
    "#Amber vs. Other\n",
    "to_num_amber = {'green': 0, 'amber': 1, 'red': 0, 'crisis': 0}\n",
    "df_red['Label Num Amber']=df_red['Label']\n",
    "df_red.replace({'Label Num Amber': to_num_amber}, inplace=True)\n",
    "\n",
    "#Green vs. Other\n",
    "to_num_green = {'green': 1, 'amber': 0, 'red': 0, 'crisis': 0}\n",
    "df_red['Label Num Green']=df_red['Label']\n",
    "df_red.replace({'Label Num Green': to_num_green}, inplace=True)"
   ]
  },
  {
   "cell_type": "code",
   "execution_count": 209,
   "metadata": {},
   "outputs": [
    {
     "data": {
      "text/plain": [
       "Label Num Green\n",
       "1    715\n",
       "0    473\n",
       "Name: count, dtype: int64"
      ]
     },
     "execution_count": 209,
     "metadata": {},
     "output_type": "execute_result"
    }
   ],
   "source": [
    "df_red['Label Num Green'].value_counts()"
   ]
  },
  {
   "cell_type": "code",
   "execution_count": 210,
   "metadata": {},
   "outputs": [
    {
     "data": {
      "text/plain": [
       "Label\n",
       "green     715\n",
       "amber     296\n",
       "red       137\n",
       "crisis     40\n",
       "Name: count, dtype: int64"
      ]
     },
     "execution_count": 210,
     "metadata": {},
     "output_type": "execute_result"
    }
   ],
   "source": [
    "df_red['Label'].value_counts()"
   ]
  },
  {
   "cell_type": "code",
   "execution_count": 211,
   "metadata": {},
   "outputs": [],
   "source": [
    "from sklearn.metrics import f1_score"
   ]
  },
  {
   "cell_type": "code",
   "execution_count": 212,
   "metadata": {},
   "outputs": [],
   "source": [
    "np.random.seed(42)\n",
    "test = df_red.sample(frac=0.1)\n",
    "train = df_red[~df_red.index.isin(test.index)]"
   ]
  },
  {
   "cell_type": "code",
   "execution_count": 213,
   "metadata": {},
   "outputs": [],
   "source": [
    "#Split test and training data into X and Y\n",
    "train_X = train['Message Body no HTML'].to_list()\n",
    "test_X = test['Message Body no HTML'].to_list()\n",
    "\n",
    "train_yc = train['Label Num Crisis'].to_list()\n",
    "test_yc = test['Label Num Crisis'].to_list()\n",
    "\n",
    "train_yr = train['Label Num Red'].to_list()\n",
    "test_yr = test['Label Num Red'].to_list()\n",
    "\n",
    "train_ya = train['Label Num Amber'].to_list()\n",
    "test_ya = test['Label Num Amber'].to_list()\n",
    "\n",
    "train_yg = train['Label Num Green'].to_list()\n",
    "test_yg = test['Label Num Green'].to_list()\n",
    "\n",
    "train_messageid = train['Message ID2'].to_list()\n",
    "test_messageid = test['Message ID2'].to_list()"
   ]
  },
  {
   "cell_type": "code",
   "execution_count": 214,
   "metadata": {},
   "outputs": [
    {
     "name": "stdout",
     "output_type": "stream",
     "text": [
      "@Sophie-RO I need to say something but I dont know how\n"
     ]
    },
    {
     "data": {
      "text/plain": [
       "{'input_ids': [101, 1030, 8234, 1011, 20996, 1045, 2342, 2000, 2360, 2242, 2021, 1045, 2123, 2102, 2113, 2129, 102, 0, 0, 0, 0, 0, 0, 0, 0, 0, 0, 0, 0, 0], 'token_type_ids': [0, 0, 0, 0, 0, 0, 0, 0, 0, 0, 0, 0, 0, 0, 0, 0, 0, 0, 0, 0, 0, 0, 0, 0, 0, 0, 0, 0, 0, 0], 'attention_mask': [1, 1, 1, 1, 1, 1, 1, 1, 1, 1, 1, 1, 1, 1, 1, 1, 1, 0, 0, 0, 0, 0, 0, 0, 0, 0, 0, 0, 0, 0]}"
      ]
     },
     "execution_count": 214,
     "metadata": {},
     "output_type": "execute_result"
    }
   ],
   "source": [
    "#Initializer function\n",
    "class MultiLabelDataset(torch.utils.data.Dataset):\n",
    "\n",
    "    #Initializer function\n",
    "    #Self references what it is within this class\n",
    "    def __init__(self, text, labels, tokenizer, max_len, message_id):\n",
    "        self.tokenizer = tokenizer\n",
    "        self.text = text\n",
    "        self.targets = labels\n",
    "        self.max_len = max_len\n",
    "        self.message_id = message_id\n",
    "\n",
    "    #Return lenght of text\n",
    "    def __len__(self):\n",
    "        return len(self.text)\n",
    "\n",
    "    def __getitem__(self, index):\n",
    "        text = self.text[index]\n",
    "        inputs = self.tokenizer.encode_plus(\n",
    "            text,\n",
    "            None,\n",
    "            add_special_tokens=True,\n",
    "            max_length=self.max_len,\n",
    "            pad_to_max_length=True,                                  \n",
    "            truncation=True,\n",
    "            return_token_type_ids=True\n",
    "        )        \n",
    "        messageid = self.message_id[index]\n",
    "        ids = inputs['input_ids']\n",
    "        mask = inputs['attention_mask']\n",
    "        token_type_ids = inputs[\"token_type_ids\"]\n",
    "\n",
    "        return {\n",
    "            'messageid': torch.tensor(messageid, dtype=torch.long),\n",
    "            'ids': torch.tensor(ids, dtype=torch.long),\n",
    "            'mask': torch.tensor(mask, dtype=torch.long),\n",
    "            'token_type_ids': torch.tensor(token_type_ids, dtype=torch.long),\n",
    "            'targets': torch.tensor(self.targets[index], dtype=torch.long)\n",
    "        }\n",
    "\n",
    "class BERTClass(torch.nn.Module):\n",
    "    def __init__(self, NUM_OUT):\n",
    "        super(BERTClass, self).__init__()\n",
    "                   \n",
    "        self.l1 = BertModel.from_pretrained(\"bert-base-uncased\")\n",
    "#         self.pre_classifier = torch.nn.Linear(768, 256)\n",
    "        self.classifier = torch.nn.Linear(768, NUM_OUT)\n",
    "#         self.dropout = torch.nn.Dropout(0.5)\n",
    "        self.softmax = torch.nn.Softmax(dim=1)\n",
    "\n",
    "    def forward(self, input_ids, attention_mask, token_type_ids):\n",
    "        output_1 = self.l1(input_ids=input_ids, attention_mask=attention_mask)\n",
    "        hidden_state = output_1[0]\n",
    "        pooler = hidden_state[:, 0]\n",
    "#         pooler = self.pre_classifier(pooler)\n",
    "#         pooler = torch.nn.Tanh()(pooler)\n",
    "#         pooler = self.dropout(pooler)\n",
    "        output = self.classifier(pooler)\n",
    "        output = self.softmax(output)\n",
    "        return output\n",
    "\n",
    "def loss_fn(outputs, targets):\n",
    "    return torch.nn.CrossEntropyLoss()(outputs, targets)\n",
    "\n",
    "def train(model, training_loader, optimizer):\n",
    "    model.train()\n",
    "    for data in tqdm(training_loader):\n",
    "        ids = data['ids'].to(device, dtype = torch.long)\n",
    "        mask = data['mask'].to(device, dtype = torch.long)\n",
    "        token_type_ids = data['token_type_ids'].to(device, dtype = torch.long)\n",
    "        targets = data['targets'].to(device, dtype = torch.long)\n",
    "\n",
    "        outputs = model(ids, mask, token_type_ids)\n",
    "\n",
    "        optimizer.zero_grad()\n",
    "        loss = loss_fn(outputs, targets)\n",
    "\n",
    "        optimizer.zero_grad()\n",
    "        loss.backward()\n",
    "        optimizer.step()\n",
    "    return loss\n",
    "    \n",
    "def validation(model, testing_loader):\n",
    "    model.eval()\n",
    "    fin_targets=[]\n",
    "    fin_outputs=[]\n",
    "    id_outputs=[]\n",
    "    with torch.no_grad():\n",
    "        for data in tqdm(testing_loader):\n",
    "            targets = data['targets']\n",
    "            messageids = data['messageid']            \n",
    "            ids = data['ids'].to(device, dtype = torch.long)\n",
    "            mask = data['mask'].to(device, dtype = torch.long)\n",
    "            token_type_ids = data['token_type_ids'].to(device, dtype = torch.long)\n",
    "            outputs = model(ids, mask, token_type_ids)\n",
    "            outputs = torch.sigmoid(outputs).cpu().detach()\n",
    "            fin_outputs.extend(outputs)\n",
    "            fin_targets.extend(targets)\n",
    "            id_outputs.extend(messageids)\n",
    "    return torch.stack(fin_outputs), torch.stack(fin_targets), torch.stack(id_outputs) \n",
    "\n",
    "tokenizer = BertTokenizer.from_pretrained('bert-base-uncased')\n",
    "\n",
    "# what does the tokenizer do?\n",
    "print(train_X[5])\n",
    "\n",
    "tokenizer.encode_plus(\n",
    "            train_X[5],\n",
    "            None,\n",
    "            add_special_tokens=True,\n",
    "            max_length=30,\n",
    "            pad_to_max_length=True,\n",
    "            truncation=True,\n",
    "            return_token_type_ids=True\n",
    "        )"
   ]
  },
  {
   "cell_type": "code",
   "execution_count": 215,
   "metadata": {},
   "outputs": [],
   "source": [
    "MAX_LEN = 350\n",
    "BATCH_SIZE = 64\n",
    "EPOCHS = 3\n",
    "NUM_OUT = 2\n",
    "LEARNING_RATE = 2e-05\n",
    "   \n",
    "train_yc2 = torch.tensor(train_yc, dtype=torch.long, device=device)\n",
    "test_yc2 = torch.tensor(test_yc, dtype=torch.long, device=device)\n",
    "train_yr2 = torch.tensor(train_yr, dtype=torch.long, device=device)\n",
    "test_yr2 = torch.tensor(test_yr, dtype=torch.long, device=device)\n",
    "train_ya2 = torch.tensor(train_ya, dtype=torch.long, device=device)\n",
    "test_ya2 = torch.tensor(test_ya, dtype=torch.long, device=device)\n",
    "train_yg2 = torch.tensor(train_yg, dtype=torch.long, device=device)\n",
    "test_yg2 = torch.tensor(test_yg, dtype=torch.long, device=device)\n",
    "\n",
    "training_datac = MultiLabelDataset(train_X, train_yc2, tokenizer, MAX_LEN, train_messageid)\n",
    "test_datac = MultiLabelDataset(test_X, test_yc2, tokenizer, MAX_LEN, test_messageid)\n",
    "training_datar = MultiLabelDataset(train_X, train_yr2, tokenizer, MAX_LEN, train_messageid)\n",
    "test_datar = MultiLabelDataset(test_X, test_yr2, tokenizer, MAX_LEN, test_messageid)\n",
    "training_dataa = MultiLabelDataset(train_X, train_ya2, tokenizer, MAX_LEN, train_messageid)\n",
    "test_dataa = MultiLabelDataset(test_X, test_ya2, tokenizer, MAX_LEN, test_messageid)\n",
    "training_datag = MultiLabelDataset(train_X, train_yg2, tokenizer, MAX_LEN, train_messageid)\n",
    "test_datag = MultiLabelDataset(test_X, test_yg2, tokenizer, MAX_LEN, test_messageid)\n",
    "\n",
    "train_params = {'batch_size': BATCH_SIZE,\n",
    "                'shuffle': True,\n",
    "                'num_workers': 0\n",
    "                }\n",
    "\n",
    "test_params = {'batch_size': BATCH_SIZE,\n",
    "                'shuffle': True,\n",
    "                'num_workers': 0\n",
    "                }    \n",
    "\n",
    "training_loaderc = torch.utils.data.DataLoader(training_datac, **train_params)\n",
    "testing_loaderc = torch.utils.data.DataLoader(test_datac, **test_params)\n",
    "training_loaderr = torch.utils.data.DataLoader(training_datar, **train_params)\n",
    "testing_loaderr = torch.utils.data.DataLoader(test_datar, **test_params)\n",
    "training_loadera = torch.utils.data.DataLoader(training_dataa, **train_params)\n",
    "testing_loadera = torch.utils.data.DataLoader(test_dataa, **test_params)\n",
    "training_loaderg = torch.utils.data.DataLoader(training_datag, **train_params)\n",
    "testing_loaderg = torch.utils.data.DataLoader(test_datag, **test_params)"
   ]
  },
  {
   "cell_type": "code",
   "execution_count": 216,
   "metadata": {},
   "outputs": [
    {
     "name": "stdout",
     "output_type": "stream",
     "text": [
      "Crisis Model\n"
     ]
    },
    {
     "data": {
      "application/vnd.jupyter.widget-view+json": {
       "model_id": "e6169c2219784ba281afb12f0fe4dab6",
       "version_major": 2,
       "version_minor": 0
      },
      "text/plain": [
       "  0%|          | 0/17 [00:00<?, ?it/s]"
      ]
     },
     "metadata": {},
     "output_type": "display_data"
    },
    {
     "name": "stdout",
     "output_type": "stream",
     "text": [
      "Epoch: 0, Loss:  0.3591245114803314\n"
     ]
    },
    {
     "data": {
      "application/vnd.jupyter.widget-view+json": {
       "model_id": "44fdcb7951d44b7db718c2bf6b408ffd",
       "version_major": 2,
       "version_minor": 0
      },
      "text/plain": [
       "  0%|          | 0/2 [00:00<?, ?it/s]"
      ]
     },
     "metadata": {},
     "output_type": "display_data"
    },
    {
     "name": "stdout",
     "output_type": "stream",
     "text": [
      "Acurracy of Crisis Model on test set 0.9327731092436975\n",
      "F1 of Crisis Model on test set 0.9652173913043478\n",
      "Red Model\n"
     ]
    },
    {
     "data": {
      "application/vnd.jupyter.widget-view+json": {
       "model_id": "581437c7c8a04d3380097c40519cddde",
       "version_major": 2,
       "version_minor": 0
      },
      "text/plain": [
       "  0%|          | 0/17 [00:00<?, ?it/s]"
      ]
     },
     "metadata": {},
     "output_type": "display_data"
    },
    {
     "name": "stdout",
     "output_type": "stream",
     "text": [
      "Epoch: 0, Loss:  0.44706884026527405\n"
     ]
    },
    {
     "data": {
      "application/vnd.jupyter.widget-view+json": {
       "model_id": "36b6d4d6fd6e467fa2692bd371df0bc6",
       "version_major": 2,
       "version_minor": 0
      },
      "text/plain": [
       "  0%|          | 0/2 [00:00<?, ?it/s]"
      ]
     },
     "metadata": {},
     "output_type": "display_data"
    },
    {
     "name": "stdout",
     "output_type": "stream",
     "text": [
      "Acurracy of Red Model on test set 0.8739495798319328\n",
      "F1 of Red Model on test set 0.9327354260089686\n",
      "Amber Model\n"
     ]
    },
    {
     "data": {
      "application/vnd.jupyter.widget-view+json": {
       "model_id": "90086b302d134c588b31ec504d5f6998",
       "version_major": 2,
       "version_minor": 0
      },
      "text/plain": [
       "  0%|          | 0/17 [00:00<?, ?it/s]"
      ]
     },
     "metadata": {},
     "output_type": "display_data"
    },
    {
     "name": "stdout",
     "output_type": "stream",
     "text": [
      "Epoch: 0, Loss:  0.6238983273506165\n"
     ]
    },
    {
     "data": {
      "application/vnd.jupyter.widget-view+json": {
       "model_id": "828b4107e68b41079e44da405cf156f9",
       "version_major": 2,
       "version_minor": 0
      },
      "text/plain": [
       "  0%|          | 0/2 [00:00<?, ?it/s]"
      ]
     },
     "metadata": {},
     "output_type": "display_data"
    },
    {
     "name": "stdout",
     "output_type": "stream",
     "text": [
      "Acurracy of Amber Model on test set 0.8487394957983193\n",
      "F1 of Amber Model on test set 0.9181818181818181\n",
      "Green Model\n"
     ]
    },
    {
     "data": {
      "application/vnd.jupyter.widget-view+json": {
       "model_id": "f9d3a23dbd5945da8fadab9bd2247f4e",
       "version_major": 2,
       "version_minor": 0
      },
      "text/plain": [
       "  0%|          | 0/17 [00:00<?, ?it/s]"
      ]
     },
     "metadata": {},
     "output_type": "display_data"
    },
    {
     "name": "stdout",
     "output_type": "stream",
     "text": [
      "Epoch: 0, Loss:  0.4221082925796509\n"
     ]
    },
    {
     "data": {
      "application/vnd.jupyter.widget-view+json": {
       "model_id": "812d0af03130401cae13f629e89efe91",
       "version_major": 2,
       "version_minor": 0
      },
      "text/plain": [
       "  0%|          | 0/2 [00:00<?, ?it/s]"
      ]
     },
     "metadata": {},
     "output_type": "display_data"
    },
    {
     "name": "stdout",
     "output_type": "stream",
     "text": [
      "Acurracy of Green Model on test set 0.8907563025210085\n",
      "F1 of Green Model on test set 0.8894257862999048\n",
      "Crisis Model\n"
     ]
    },
    {
     "data": {
      "application/vnd.jupyter.widget-view+json": {
       "model_id": "74f9962a81dc46f0acbc892ddb996cd7",
       "version_major": 2,
       "version_minor": 0
      },
      "text/plain": [
       "  0%|          | 0/17 [00:00<?, ?it/s]"
      ]
     },
     "metadata": {},
     "output_type": "display_data"
    },
    {
     "name": "stdout",
     "output_type": "stream",
     "text": [
      "Epoch: 1, Loss:  0.35818272829055786\n"
     ]
    },
    {
     "data": {
      "application/vnd.jupyter.widget-view+json": {
       "model_id": "f0730d6b4c3a4e04b2a63bdde5076899",
       "version_major": 2,
       "version_minor": 0
      },
      "text/plain": [
       "  0%|          | 0/2 [00:00<?, ?it/s]"
      ]
     },
     "metadata": {},
     "output_type": "display_data"
    },
    {
     "name": "stdout",
     "output_type": "stream",
     "text": [
      "Acurracy of Crisis Model on test set 0.9327731092436975\n",
      "F1 of Crisis Model on test set 0.9652173913043478\n",
      "Red Model\n"
     ]
    },
    {
     "data": {
      "application/vnd.jupyter.widget-view+json": {
       "model_id": "c2b0c3e95c7c4fcf8ab17bb97e6e27a5",
       "version_major": 2,
       "version_minor": 0
      },
      "text/plain": [
       "  0%|          | 0/17 [00:00<?, ?it/s]"
      ]
     },
     "metadata": {},
     "output_type": "display_data"
    },
    {
     "name": "stdout",
     "output_type": "stream",
     "text": [
      "Epoch: 1, Loss:  0.38019129633903503\n"
     ]
    },
    {
     "data": {
      "application/vnd.jupyter.widget-view+json": {
       "model_id": "91d1696ed2cc403a824a3d5b83faab6a",
       "version_major": 2,
       "version_minor": 0
      },
      "text/plain": [
       "  0%|          | 0/2 [00:00<?, ?it/s]"
      ]
     },
     "metadata": {},
     "output_type": "display_data"
    },
    {
     "name": "stdout",
     "output_type": "stream",
     "text": [
      "Acurracy of Red Model on test set 0.8739495798319328\n",
      "F1 of Red Model on test set 0.9327354260089686\n",
      "Amber Model\n"
     ]
    },
    {
     "data": {
      "application/vnd.jupyter.widget-view+json": {
       "model_id": "d157d1b79d5544f09bfc0edcd7d5e7b3",
       "version_major": 2,
       "version_minor": 0
      },
      "text/plain": [
       "  0%|          | 0/17 [00:00<?, ?it/s]"
      ]
     },
     "metadata": {},
     "output_type": "display_data"
    },
    {
     "name": "stdout",
     "output_type": "stream",
     "text": [
      "Epoch: 1, Loss:  0.5585832595825195\n"
     ]
    },
    {
     "data": {
      "application/vnd.jupyter.widget-view+json": {
       "model_id": "b51a97dd1b40489a948f259422381d77",
       "version_major": 2,
       "version_minor": 0
      },
      "text/plain": [
       "  0%|          | 0/2 [00:00<?, ?it/s]"
      ]
     },
     "metadata": {},
     "output_type": "display_data"
    },
    {
     "name": "stdout",
     "output_type": "stream",
     "text": [
      "Acurracy of Amber Model on test set 0.8487394957983193\n",
      "F1 of Amber Model on test set 0.9181818181818181\n",
      "Green Model\n"
     ]
    },
    {
     "data": {
      "application/vnd.jupyter.widget-view+json": {
       "model_id": "3c1abdb61bc84ce4acee111ba9963f85",
       "version_major": 2,
       "version_minor": 0
      },
      "text/plain": [
       "  0%|          | 0/17 [00:00<?, ?it/s]"
      ]
     },
     "metadata": {},
     "output_type": "display_data"
    },
    {
     "name": "stdout",
     "output_type": "stream",
     "text": [
      "Epoch: 1, Loss:  0.3996782898902893\n"
     ]
    },
    {
     "data": {
      "application/vnd.jupyter.widget-view+json": {
       "model_id": "b67f017208564a8285ee786ed0f67d35",
       "version_major": 2,
       "version_minor": 0
      },
      "text/plain": [
       "  0%|          | 0/2 [00:00<?, ?it/s]"
      ]
     },
     "metadata": {},
     "output_type": "display_data"
    },
    {
     "name": "stdout",
     "output_type": "stream",
     "text": [
      "Acurracy of Green Model on test set 0.8823529411764706\n",
      "F1 of Green Model on test set 0.8806951871657754\n",
      "Crisis Model\n"
     ]
    },
    {
     "data": {
      "application/vnd.jupyter.widget-view+json": {
       "model_id": "22e9a87c8e534201a881d0a43b59a3b5",
       "version_major": 2,
       "version_minor": 0
      },
      "text/plain": [
       "  0%|          | 0/17 [00:00<?, ?it/s]"
      ]
     },
     "metadata": {},
     "output_type": "display_data"
    },
    {
     "name": "stdout",
     "output_type": "stream",
     "text": [
      "Epoch: 2, Loss:  0.3800998330116272\n"
     ]
    },
    {
     "data": {
      "application/vnd.jupyter.widget-view+json": {
       "model_id": "b9ef1d223df0491da6161db54bcc6ccd",
       "version_major": 2,
       "version_minor": 0
      },
      "text/plain": [
       "  0%|          | 0/2 [00:00<?, ?it/s]"
      ]
     },
     "metadata": {},
     "output_type": "display_data"
    },
    {
     "name": "stdout",
     "output_type": "stream",
     "text": [
      "Acurracy of Crisis Model on test set 0.9327731092436975\n",
      "F1 of Crisis Model on test set 0.9652173913043478\n",
      "Red Model\n"
     ]
    },
    {
     "data": {
      "application/vnd.jupyter.widget-view+json": {
       "model_id": "5fd1f9805fb74077ad8285bb2439a662",
       "version_major": 2,
       "version_minor": 0
      },
      "text/plain": [
       "  0%|          | 0/17 [00:00<?, ?it/s]"
      ]
     },
     "metadata": {},
     "output_type": "display_data"
    },
    {
     "name": "stdout",
     "output_type": "stream",
     "text": [
      "Epoch: 2, Loss:  0.4246521294116974\n"
     ]
    },
    {
     "data": {
      "application/vnd.jupyter.widget-view+json": {
       "model_id": "e2fd1c7ba00e4c23b0a1bb2cf0cd5ef2",
       "version_major": 2,
       "version_minor": 0
      },
      "text/plain": [
       "  0%|          | 0/2 [00:00<?, ?it/s]"
      ]
     },
     "metadata": {},
     "output_type": "display_data"
    },
    {
     "name": "stdout",
     "output_type": "stream",
     "text": [
      "Acurracy of Red Model on test set 0.8739495798319328\n",
      "F1 of Red Model on test set 0.9327354260089686\n",
      "Amber Model\n"
     ]
    },
    {
     "data": {
      "application/vnd.jupyter.widget-view+json": {
       "model_id": "2ebcad187bb84fc59d4fffe18cf22e36",
       "version_major": 2,
       "version_minor": 0
      },
      "text/plain": [
       "  0%|          | 0/17 [00:00<?, ?it/s]"
      ]
     },
     "metadata": {},
     "output_type": "display_data"
    },
    {
     "name": "stdout",
     "output_type": "stream",
     "text": [
      "Epoch: 2, Loss:  0.5781384110450745\n"
     ]
    },
    {
     "data": {
      "application/vnd.jupyter.widget-view+json": {
       "model_id": "3f30fd1d3a56445f9375bcfdca0fc73c",
       "version_major": 2,
       "version_minor": 0
      },
      "text/plain": [
       "  0%|          | 0/2 [00:00<?, ?it/s]"
      ]
     },
     "metadata": {},
     "output_type": "display_data"
    },
    {
     "name": "stdout",
     "output_type": "stream",
     "text": [
      "Acurracy of Amber Model on test set 0.8067226890756303\n",
      "F1 of Amber Model on test set 0.8199753019487365\n",
      "Green Model\n"
     ]
    },
    {
     "data": {
      "application/vnd.jupyter.widget-view+json": {
       "model_id": "566c83710a3f49f2b3143c1ad4ead096",
       "version_major": 2,
       "version_minor": 0
      },
      "text/plain": [
       "  0%|          | 0/17 [00:00<?, ?it/s]"
      ]
     },
     "metadata": {},
     "output_type": "display_data"
    },
    {
     "name": "stdout",
     "output_type": "stream",
     "text": [
      "Epoch: 2, Loss:  0.37028300762176514\n"
     ]
    },
    {
     "data": {
      "application/vnd.jupyter.widget-view+json": {
       "model_id": "38e5414d325b43ce83cfa663b52dc919",
       "version_major": 2,
       "version_minor": 0
      },
      "text/plain": [
       "  0%|          | 0/2 [00:00<?, ?it/s]"
      ]
     },
     "metadata": {},
     "output_type": "display_data"
    },
    {
     "name": "stdout",
     "output_type": "stream",
     "text": [
      "Acurracy of Green Model on test set 0.8823529411764706\n",
      "F1 of Green Model on test set 0.8811649506803946\n"
     ]
    }
   ],
   "source": [
    "#Run on Body with HTML codes\n",
    "modelc = BERTClass(NUM_OUT)\n",
    "modelc.to(device)   \n",
    "modelr = BERTClass(NUM_OUT)\n",
    "modelr.to(device)   \n",
    "modela = BERTClass(NUM_OUT)\n",
    "modela.to(device)   \n",
    "modelg = BERTClass(NUM_OUT)\n",
    "modelg.to(device)   \n",
    "\n",
    "optimizerc = torch.optim.Adam(params =  modelc.parameters(), lr=LEARNING_RATE)\n",
    "optimizerr = torch.optim.Adam(params =  modelr.parameters(), lr=LEARNING_RATE)\n",
    "optimizera = torch.optim.Adam(params =  modela.parameters(), lr=LEARNING_RATE)\n",
    "optimizerg = torch.optim.Adam(params =  modelg.parameters(), lr=LEARNING_RATE)\n",
    "\n",
    "for epoch in range(EPOCHS):\n",
    "\n",
    "    print('Crisis Model')\n",
    "    lossc = train(modelc, training_loaderc, optimizerc)\n",
    "    print(f'Epoch: {epoch}, Loss:  {lossc.item()}')  \n",
    "    guessc, targsc, ids_c = validation(modelc, testing_loaderc)\n",
    "    guessesc = torch.max(guessc, dim=1) \n",
    "    \n",
    "    print('Acurracy of Crisis Model on test set {}'.format(accuracy_score(guessesc.indices.cpu().numpy(), targsc.cpu().numpy())))\n",
    "    print('F1 of Crisis Model on test set {}'.format(f1_score(guessesc.indices.cpu().numpy(), targsc.cpu().numpy(), average='weighted')))\n",
    "    \n",
    "    print('Red Model')\n",
    "    lossr = train(modelr, training_loaderr, optimizerr)\n",
    "    print(f'Epoch: {epoch}, Loss:  {lossr.item()}')  \n",
    "    guessr, targsr, ids_r = validation(modelr, testing_loaderr)\n",
    "    guessesr = torch.max(guessr, dim=1) \n",
    "    \n",
    "    print('Acurracy of Red Model on test set {}'.format(accuracy_score(guessesr.indices.cpu().numpy(), targsr.cpu().numpy())))\n",
    "    print('F1 of Red Model on test set {}'.format(f1_score(guessesr.indices.cpu().numpy(), targsr.cpu().numpy(), average='weighted')))   \n",
    "\n",
    "    print('Amber Model')\n",
    "    lossa = train(modela, training_loadera, optimizera)\n",
    "    print(f'Epoch: {epoch}, Loss:  {lossa.item()}')  \n",
    "    guessa, targsa, ids_a = validation(modela, testing_loadera)\n",
    "    guessesa = torch.max(guessa, dim=1) \n",
    "    \n",
    "    print('Acurracy of Amber Model on test set {}'.format(accuracy_score(guessesa.indices.cpu().numpy(), targsa.cpu().numpy())))\n",
    "    print('F1 of Amber Model on test set {}'.format(f1_score(guessesa.indices.cpu().numpy(), targsa.cpu().numpy(), average='weighted')))\n",
    "\n",
    "    print('Green Model')\n",
    "    lossg = train(modelg, training_loaderg, optimizerg)\n",
    "    print(f'Epoch: {epoch}, Loss:  {lossg.item()}')  \n",
    "    guessg, targsg, ids_g = validation(modelg, testing_loaderg)\n",
    "    guessesg = torch.max(guessg, dim=1) \n",
    "    \n",
    "    print('Acurracy of Green Model on test set {}'.format(accuracy_score(guessesg.indices.cpu().numpy(), targsg.cpu().numpy())))\n",
    "    print('F1 of Green Model on test set {}'.format(f1_score(guessesg.indices.cpu().numpy(), targsg.cpu().numpy(), average='weighted')))"
   ]
  },
  {
   "cell_type": "code",
   "execution_count": 225,
   "metadata": {},
   "outputs": [],
   "source": [
    "#Convert to numpy and then list\n",
    "ids_r_fix=ids_r.cpu().numpy().tolist()\n",
    "ids_c_fix=ids_c.cpu().numpy().tolist()\n",
    "ids_a_fix=ids_a.cpu().numpy().tolist()\n",
    "ids_g_fix=ids_g.cpu().numpy().tolist()\n",
    "\n",
    "targsr_fix=targsr.cpu().numpy().tolist()\n",
    "targsc_fix=targsc.cpu().numpy().tolist()\n",
    "targsa_fix=targsa.cpu().numpy().tolist()\n",
    "targsg_fix=targsg.cpu().numpy().tolist()\n",
    "\n",
    "guessesr_fix=pd.DataFrame(guessr.cpu().numpy())\n",
    "guessesc_fix=pd.DataFrame(guessc.cpu().numpy())\n",
    "guessesa_fix=pd.DataFrame(guessa.cpu().numpy())\n",
    "guessesg_fix=pd.DataFrame(guessg.cpu().numpy())"
   ]
  },
  {
   "cell_type": "code",
   "execution_count": 233,
   "metadata": {},
   "outputs": [
    {
     "data": {
      "text/plain": [
       "0      0.731020\n",
       "1      0.730965\n",
       "2      0.731022\n",
       "3      0.731010\n",
       "4      0.731008\n",
       "         ...   \n",
       "114    0.731028\n",
       "115    0.731037\n",
       "116    0.731020\n",
       "117    0.731010\n",
       "118    0.731034\n",
       "Name: 0, Length: 119, dtype: float32"
      ]
     },
     "execution_count": 233,
     "metadata": {},
     "output_type": "execute_result"
    }
   ],
   "source": [
    "guessesr_fix[0]"
   ]
  },
  {
   "cell_type": "code",
   "execution_count": 245,
   "metadata": {},
   "outputs": [],
   "source": [
    "red_mod = pd.DataFrame(\n",
    "    {'Message ID2': ids_r_fix,\n",
    "     'Red Target': targsr_fix,\n",
    "     'Prob Red': guessesr_fix[1].tolist(),\n",
    "     'Prob Not Red': guessesr_fix[0].tolist(),\n",
    "     'Red Guess': guessesr.indices.cpu().numpy().tolist()\n",
    "    })"
   ]
  },
  {
   "cell_type": "code",
   "execution_count": 247,
   "metadata": {},
   "outputs": [
    {
     "data": {
      "text/plain": [
       "Red Guess\n",
       "0    119\n",
       "Name: count, dtype: int64"
      ]
     },
     "execution_count": 247,
     "metadata": {},
     "output_type": "execute_result"
    }
   ],
   "source": [
    "red_mod['Red Guess'].value_counts()"
   ]
  },
  {
   "cell_type": "code",
   "execution_count": 249,
   "metadata": {},
   "outputs": [],
   "source": [
    "crisis_mod = pd.DataFrame(\n",
    "    {'Message ID2': ids_c_fix,\n",
    "     'Crisis Target': targsc_fix,\n",
    "     'Prob Crisis': guessesc_fix[1].tolist(),\n",
    "     'Prob Not Crisis': guessesc_fix[0].tolist(),\n",
    "     'Crisis Guess': guessesc.indices.cpu().numpy().tolist()\n",
    "    })"
   ]
  },
  {
   "cell_type": "code",
   "execution_count": 250,
   "metadata": {},
   "outputs": [
    {
     "data": {
      "text/plain": [
       "Crisis Guess\n",
       "0    119\n",
       "Name: count, dtype: int64"
      ]
     },
     "execution_count": 250,
     "metadata": {},
     "output_type": "execute_result"
    }
   ],
   "source": [
    "crisis_mod['Crisis Guess'].value_counts()"
   ]
  },
  {
   "cell_type": "code",
   "execution_count": 251,
   "metadata": {},
   "outputs": [],
   "source": [
    "amber_mod = pd.DataFrame(\n",
    "    {'Message ID2': ids_a_fix,\n",
    "     'Amber Target': targsa_fix,\n",
    "     'Prob Amber': guessesa_fix[1].tolist(),\n",
    "     'Prob Not Amber': guessesa_fix[0].tolist(),\n",
    "     'Amber Guess': guessesa.indices.cpu().numpy().tolist()\n",
    "    })"
   ]
  },
  {
   "cell_type": "code",
   "execution_count": 252,
   "metadata": {},
   "outputs": [
    {
     "data": {
      "text/plain": [
       "Amber Guess\n",
       "0    106\n",
       "1     13\n",
       "Name: count, dtype: int64"
      ]
     },
     "execution_count": 252,
     "metadata": {},
     "output_type": "execute_result"
    }
   ],
   "source": [
    "amber_mod['Amber Guess'].value_counts()"
   ]
  },
  {
   "cell_type": "code",
   "execution_count": 253,
   "metadata": {},
   "outputs": [],
   "source": [
    "green_mod = pd.DataFrame(\n",
    "    {'Message ID2': ids_g_fix,\n",
    "     'Green Target': targsg_fix,\n",
    "     'Prob Green': guessesg_fix[1].tolist(),\n",
    "     'Prob Not Green': guessesg_fix[0].tolist(),\n",
    "     'Green Guess': guessesg.indices.cpu().numpy().tolist()\n",
    "    })"
   ]
  },
  {
   "cell_type": "code",
   "execution_count": 254,
   "metadata": {},
   "outputs": [
    {
     "data": {
      "text/plain": [
       "Green Guess\n",
       "1    74\n",
       "0    45\n",
       "Name: count, dtype: int64"
      ]
     },
     "execution_count": 254,
     "metadata": {},
     "output_type": "execute_result"
    }
   ],
   "source": [
    "green_mod['Green Guess'].value_counts()"
   ]
  },
  {
   "cell_type": "code",
   "execution_count": 256,
   "metadata": {},
   "outputs": [],
   "source": [
    "#Combine datasets\n",
    "combo1 = pd.merge(red_mod, crisis_mod, on=\"Message ID2\")"
   ]
  },
  {
   "cell_type": "code",
   "execution_count": 258,
   "metadata": {},
   "outputs": [],
   "source": [
    "combo2 = pd.merge(combo1, amber_mod, on=\"Message ID2\")"
   ]
  },
  {
   "cell_type": "code",
   "execution_count": 260,
   "metadata": {},
   "outputs": [],
   "source": [
    "sep_mod = pd.merge(combo2, green_mod, on=\"Message ID2\")"
   ]
  },
  {
   "cell_type": "code",
   "execution_count": 262,
   "metadata": {},
   "outputs": [
    {
     "data": {
      "text/html": [
       "<div>\n",
       "<style scoped>\n",
       "    .dataframe tbody tr th:only-of-type {\n",
       "        vertical-align: middle;\n",
       "    }\n",
       "\n",
       "    .dataframe tbody tr th {\n",
       "        vertical-align: top;\n",
       "    }\n",
       "\n",
       "    .dataframe thead th {\n",
       "        text-align: right;\n",
       "    }\n",
       "</style>\n",
       "<table border=\"1\" class=\"dataframe\">\n",
       "  <thead>\n",
       "    <tr style=\"text-align: right;\">\n",
       "      <th></th>\n",
       "      <th>Message ID2</th>\n",
       "      <th>Red Target</th>\n",
       "      <th>Prob Red</th>\n",
       "      <th>Prob Not Red</th>\n",
       "      <th>Red Guess</th>\n",
       "      <th>Crisis Target</th>\n",
       "      <th>Prob Crisis</th>\n",
       "      <th>Prob Not Crisis</th>\n",
       "      <th>Crisis Guess</th>\n",
       "      <th>Amber Target</th>\n",
       "      <th>Prob Amber</th>\n",
       "      <th>Prob Not Amber</th>\n",
       "      <th>Amber Guess</th>\n",
       "      <th>Green Target</th>\n",
       "      <th>Prob Green</th>\n",
       "      <th>Prob Not Green</th>\n",
       "      <th>Green Guess</th>\n",
       "    </tr>\n",
       "  </thead>\n",
       "  <tbody>\n",
       "    <tr>\n",
       "      <th>count</th>\n",
       "      <td>119.000000</td>\n",
       "      <td>119.00000</td>\n",
       "      <td>119.000000</td>\n",
       "      <td>119.000000</td>\n",
       "      <td>119.0</td>\n",
       "      <td>119.000000</td>\n",
       "      <td>119.000000</td>\n",
       "      <td>119.000000</td>\n",
       "      <td>119.0</td>\n",
       "      <td>119.000000</td>\n",
       "      <td>119.000000</td>\n",
       "      <td>119.000000</td>\n",
       "      <td>119.000000</td>\n",
       "      <td>119.000000</td>\n",
       "      <td>119.000000</td>\n",
       "      <td>119.000000</td>\n",
       "      <td>119.000000</td>\n",
       "    </tr>\n",
       "    <tr>\n",
       "      <th>mean</th>\n",
       "      <td>137314.655462</td>\n",
       "      <td>0.12605</td>\n",
       "      <td>0.500051</td>\n",
       "      <td>0.731019</td>\n",
       "      <td>0.0</td>\n",
       "      <td>0.067227</td>\n",
       "      <td>0.500065</td>\n",
       "      <td>0.731007</td>\n",
       "      <td>0.0</td>\n",
       "      <td>0.151261</td>\n",
       "      <td>0.535559</td>\n",
       "      <td>0.699917</td>\n",
       "      <td>0.109244</td>\n",
       "      <td>0.655462</td>\n",
       "      <td>0.647096</td>\n",
       "      <td>0.585003</td>\n",
       "      <td>0.621849</td>\n",
       "    </tr>\n",
       "    <tr>\n",
       "      <th>std</th>\n",
       "      <td>1246.222954</td>\n",
       "      <td>0.33331</td>\n",
       "      <td>0.000025</td>\n",
       "      <td>0.000020</td>\n",
       "      <td>0.0</td>\n",
       "      <td>0.251473</td>\n",
       "      <td>0.000022</td>\n",
       "      <td>0.000017</td>\n",
       "      <td>0.0</td>\n",
       "      <td>0.359818</td>\n",
       "      <td>0.050985</td>\n",
       "      <td>0.046114</td>\n",
       "      <td>0.313264</td>\n",
       "      <td>0.477227</td>\n",
       "      <td>0.106963</td>\n",
       "      <td>0.107308</td>\n",
       "      <td>0.486976</td>\n",
       "    </tr>\n",
       "    <tr>\n",
       "      <th>min</th>\n",
       "      <td>135308.000000</td>\n",
       "      <td>0.00000</td>\n",
       "      <td>0.500025</td>\n",
       "      <td>0.730918</td>\n",
       "      <td>0.0</td>\n",
       "      <td>0.000000</td>\n",
       "      <td>0.500039</td>\n",
       "      <td>0.730922</td>\n",
       "      <td>0.0</td>\n",
       "      <td>0.000000</td>\n",
       "      <td>0.500220</td>\n",
       "      <td>0.574888</td>\n",
       "      <td>0.000000</td>\n",
       "      <td>0.000000</td>\n",
       "      <td>0.500181</td>\n",
       "      <td>0.500109</td>\n",
       "      <td>0.000000</td>\n",
       "    </tr>\n",
       "    <tr>\n",
       "      <th>25%</th>\n",
       "      <td>136341.500000</td>\n",
       "      <td>0.00000</td>\n",
       "      <td>0.500033</td>\n",
       "      <td>0.731012</td>\n",
       "      <td>0.0</td>\n",
       "      <td>0.000000</td>\n",
       "      <td>0.500051</td>\n",
       "      <td>0.731003</td>\n",
       "      <td>0.0</td>\n",
       "      <td>0.000000</td>\n",
       "      <td>0.500788</td>\n",
       "      <td>0.682177</td>\n",
       "      <td>0.000000</td>\n",
       "      <td>0.000000</td>\n",
       "      <td>0.501806</td>\n",
       "      <td>0.500273</td>\n",
       "      <td>0.000000</td>\n",
       "    </tr>\n",
       "    <tr>\n",
       "      <th>50%</th>\n",
       "      <td>137326.000000</td>\n",
       "      <td>0.00000</td>\n",
       "      <td>0.500046</td>\n",
       "      <td>0.731022</td>\n",
       "      <td>0.0</td>\n",
       "      <td>0.000000</td>\n",
       "      <td>0.500060</td>\n",
       "      <td>0.731012</td>\n",
       "      <td>0.0</td>\n",
       "      <td>0.000000</td>\n",
       "      <td>0.504746</td>\n",
       "      <td>0.727310</td>\n",
       "      <td>0.000000</td>\n",
       "      <td>1.000000</td>\n",
       "      <td>0.728940</td>\n",
       "      <td>0.502687</td>\n",
       "      <td>1.000000</td>\n",
       "    </tr>\n",
       "    <tr>\n",
       "      <th>75%</th>\n",
       "      <td>138348.500000</td>\n",
       "      <td>0.00000</td>\n",
       "      <td>0.500060</td>\n",
       "      <td>0.731033</td>\n",
       "      <td>0.0</td>\n",
       "      <td>0.000000</td>\n",
       "      <td>0.500071</td>\n",
       "      <td>0.731019</td>\n",
       "      <td>0.0</td>\n",
       "      <td>0.000000</td>\n",
       "      <td>0.558773</td>\n",
       "      <td>0.730439</td>\n",
       "      <td>0.000000</td>\n",
       "      <td>1.000000</td>\n",
       "      <td>0.730843</td>\n",
       "      <td>0.729636</td>\n",
       "      <td>1.000000</td>\n",
       "    </tr>\n",
       "    <tr>\n",
       "      <th>max</th>\n",
       "      <td>139551.000000</td>\n",
       "      <td>1.00000</td>\n",
       "      <td>0.500179</td>\n",
       "      <td>0.731039</td>\n",
       "      <td>0.0</td>\n",
       "      <td>1.000000</td>\n",
       "      <td>0.500174</td>\n",
       "      <td>0.731028</td>\n",
       "      <td>0.0</td>\n",
       "      <td>1.000000</td>\n",
       "      <td>0.667784</td>\n",
       "      <td>0.730885</td>\n",
       "      <td>1.000000</td>\n",
       "      <td>1.000000</td>\n",
       "      <td>0.730973</td>\n",
       "      <td>0.730916</td>\n",
       "      <td>1.000000</td>\n",
       "    </tr>\n",
       "  </tbody>\n",
       "</table>\n",
       "</div>"
      ],
      "text/plain": [
       "         Message ID2  Red Target    Prob Red  Prob Not Red  Red Guess  \\\n",
       "count     119.000000   119.00000  119.000000    119.000000      119.0   \n",
       "mean   137314.655462     0.12605    0.500051      0.731019        0.0   \n",
       "std      1246.222954     0.33331    0.000025      0.000020        0.0   \n",
       "min    135308.000000     0.00000    0.500025      0.730918        0.0   \n",
       "25%    136341.500000     0.00000    0.500033      0.731012        0.0   \n",
       "50%    137326.000000     0.00000    0.500046      0.731022        0.0   \n",
       "75%    138348.500000     0.00000    0.500060      0.731033        0.0   \n",
       "max    139551.000000     1.00000    0.500179      0.731039        0.0   \n",
       "\n",
       "       Crisis Target  Prob Crisis  Prob Not Crisis  Crisis Guess  \\\n",
       "count     119.000000   119.000000       119.000000         119.0   \n",
       "mean        0.067227     0.500065         0.731007           0.0   \n",
       "std         0.251473     0.000022         0.000017           0.0   \n",
       "min         0.000000     0.500039         0.730922           0.0   \n",
       "25%         0.000000     0.500051         0.731003           0.0   \n",
       "50%         0.000000     0.500060         0.731012           0.0   \n",
       "75%         0.000000     0.500071         0.731019           0.0   \n",
       "max         1.000000     0.500174         0.731028           0.0   \n",
       "\n",
       "       Amber Target  Prob Amber  Prob Not Amber  Amber Guess  Green Target  \\\n",
       "count    119.000000  119.000000      119.000000   119.000000    119.000000   \n",
       "mean       0.151261    0.535559        0.699917     0.109244      0.655462   \n",
       "std        0.359818    0.050985        0.046114     0.313264      0.477227   \n",
       "min        0.000000    0.500220        0.574888     0.000000      0.000000   \n",
       "25%        0.000000    0.500788        0.682177     0.000000      0.000000   \n",
       "50%        0.000000    0.504746        0.727310     0.000000      1.000000   \n",
       "75%        0.000000    0.558773        0.730439     0.000000      1.000000   \n",
       "max        1.000000    0.667784        0.730885     1.000000      1.000000   \n",
       "\n",
       "       Prob Green  Prob Not Green  Green Guess  \n",
       "count  119.000000      119.000000   119.000000  \n",
       "mean     0.647096        0.585003     0.621849  \n",
       "std      0.106963        0.107308     0.486976  \n",
       "min      0.500181        0.500109     0.000000  \n",
       "25%      0.501806        0.500273     0.000000  \n",
       "50%      0.728940        0.502687     1.000000  \n",
       "75%      0.730843        0.729636     1.000000  \n",
       "max      0.730973        0.730916     1.000000  "
      ]
     },
     "execution_count": 262,
     "metadata": {},
     "output_type": "execute_result"
    }
   ],
   "source": [
    "sep_mod.describe()"
   ]
  },
  {
   "cell_type": "code",
   "execution_count": 263,
   "metadata": {},
   "outputs": [
    {
     "data": {
      "text/html": [
       "<div>\n",
       "<style scoped>\n",
       "    .dataframe tbody tr th:only-of-type {\n",
       "        vertical-align: middle;\n",
       "    }\n",
       "\n",
       "    .dataframe tbody tr th {\n",
       "        vertical-align: top;\n",
       "    }\n",
       "\n",
       "    .dataframe thead th {\n",
       "        text-align: right;\n",
       "    }\n",
       "</style>\n",
       "<table border=\"1\" class=\"dataframe\">\n",
       "  <thead>\n",
       "    <tr style=\"text-align: right;\">\n",
       "      <th></th>\n",
       "      <th>Message ID2</th>\n",
       "      <th>Red Target</th>\n",
       "      <th>Prob Red</th>\n",
       "      <th>Prob Not Red</th>\n",
       "      <th>Red Guess</th>\n",
       "      <th>Crisis Target</th>\n",
       "      <th>Prob Crisis</th>\n",
       "      <th>Prob Not Crisis</th>\n",
       "      <th>Crisis Guess</th>\n",
       "      <th>Amber Target</th>\n",
       "      <th>Prob Amber</th>\n",
       "      <th>Prob Not Amber</th>\n",
       "      <th>Amber Guess</th>\n",
       "      <th>Green Target</th>\n",
       "      <th>Prob Green</th>\n",
       "      <th>Prob Not Green</th>\n",
       "      <th>Green Guess</th>\n",
       "    </tr>\n",
       "  </thead>\n",
       "  <tbody>\n",
       "    <tr>\n",
       "      <th>0</th>\n",
       "      <td>137499</td>\n",
       "      <td>0</td>\n",
       "      <td>0.500049</td>\n",
       "      <td>0.731020</td>\n",
       "      <td>0</td>\n",
       "      <td>0</td>\n",
       "      <td>0.500086</td>\n",
       "      <td>0.730991</td>\n",
       "      <td>0</td>\n",
       "      <td>0</td>\n",
       "      <td>0.501393</td>\n",
       "      <td>0.729962</td>\n",
       "      <td>0</td>\n",
       "      <td>1</td>\n",
       "      <td>0.728414</td>\n",
       "      <td>0.503352</td>\n",
       "      <td>1</td>\n",
       "    </tr>\n",
       "    <tr>\n",
       "      <th>1</th>\n",
       "      <td>139531</td>\n",
       "      <td>0</td>\n",
       "      <td>0.500120</td>\n",
       "      <td>0.730965</td>\n",
       "      <td>0</td>\n",
       "      <td>0</td>\n",
       "      <td>0.500110</td>\n",
       "      <td>0.730972</td>\n",
       "      <td>0</td>\n",
       "      <td>0</td>\n",
       "      <td>0.500303</td>\n",
       "      <td>0.730820</td>\n",
       "      <td>0</td>\n",
       "      <td>1</td>\n",
       "      <td>0.730009</td>\n",
       "      <td>0.501333</td>\n",
       "      <td>1</td>\n",
       "    </tr>\n",
       "    <tr>\n",
       "      <th>2</th>\n",
       "      <td>135980</td>\n",
       "      <td>0</td>\n",
       "      <td>0.500046</td>\n",
       "      <td>0.731022</td>\n",
       "      <td>0</td>\n",
       "      <td>0</td>\n",
       "      <td>0.500085</td>\n",
       "      <td>0.730992</td>\n",
       "      <td>0</td>\n",
       "      <td>0</td>\n",
       "      <td>0.501514</td>\n",
       "      <td>0.729866</td>\n",
       "      <td>0</td>\n",
       "      <td>1</td>\n",
       "      <td>0.730697</td>\n",
       "      <td>0.500460</td>\n",
       "      <td>1</td>\n",
       "    </tr>\n",
       "    <tr>\n",
       "      <th>3</th>\n",
       "      <td>136802</td>\n",
       "      <td>1</td>\n",
       "      <td>0.500062</td>\n",
       "      <td>0.731010</td>\n",
       "      <td>0</td>\n",
       "      <td>0</td>\n",
       "      <td>0.500076</td>\n",
       "      <td>0.730999</td>\n",
       "      <td>0</td>\n",
       "      <td>0</td>\n",
       "      <td>0.503610</td>\n",
       "      <td>0.728210</td>\n",
       "      <td>0</td>\n",
       "      <td>0</td>\n",
       "      <td>0.500305</td>\n",
       "      <td>0.730818</td>\n",
       "      <td>0</td>\n",
       "    </tr>\n",
       "    <tr>\n",
       "      <th>4</th>\n",
       "      <td>136716</td>\n",
       "      <td>0</td>\n",
       "      <td>0.500064</td>\n",
       "      <td>0.731008</td>\n",
       "      <td>0</td>\n",
       "      <td>0</td>\n",
       "      <td>0.500068</td>\n",
       "      <td>0.731005</td>\n",
       "      <td>0</td>\n",
       "      <td>0</td>\n",
       "      <td>0.504746</td>\n",
       "      <td>0.727310</td>\n",
       "      <td>0</td>\n",
       "      <td>1</td>\n",
       "      <td>0.730442</td>\n",
       "      <td>0.500783</td>\n",
       "      <td>1</td>\n",
       "    </tr>\n",
       "    <tr>\n",
       "      <th>...</th>\n",
       "      <td>...</td>\n",
       "      <td>...</td>\n",
       "      <td>...</td>\n",
       "      <td>...</td>\n",
       "      <td>...</td>\n",
       "      <td>...</td>\n",
       "      <td>...</td>\n",
       "      <td>...</td>\n",
       "      <td>...</td>\n",
       "      <td>...</td>\n",
       "      <td>...</td>\n",
       "      <td>...</td>\n",
       "      <td>...</td>\n",
       "      <td>...</td>\n",
       "      <td>...</td>\n",
       "      <td>...</td>\n",
       "      <td>...</td>\n",
       "    </tr>\n",
       "    <tr>\n",
       "      <th>114</th>\n",
       "      <td>135712</td>\n",
       "      <td>0</td>\n",
       "      <td>0.500039</td>\n",
       "      <td>0.731028</td>\n",
       "      <td>0</td>\n",
       "      <td>0</td>\n",
       "      <td>0.500050</td>\n",
       "      <td>0.731019</td>\n",
       "      <td>0</td>\n",
       "      <td>0</td>\n",
       "      <td>0.500323</td>\n",
       "      <td>0.730804</td>\n",
       "      <td>0</td>\n",
       "      <td>1</td>\n",
       "      <td>0.730942</td>\n",
       "      <td>0.500148</td>\n",
       "      <td>1</td>\n",
       "    </tr>\n",
       "    <tr>\n",
       "      <th>115</th>\n",
       "      <td>136371</td>\n",
       "      <td>0</td>\n",
       "      <td>0.500028</td>\n",
       "      <td>0.731037</td>\n",
       "      <td>0</td>\n",
       "      <td>0</td>\n",
       "      <td>0.500065</td>\n",
       "      <td>0.731007</td>\n",
       "      <td>0</td>\n",
       "      <td>1</td>\n",
       "      <td>0.504148</td>\n",
       "      <td>0.727784</td>\n",
       "      <td>0</td>\n",
       "      <td>0</td>\n",
       "      <td>0.726589</td>\n",
       "      <td>0.505654</td>\n",
       "      <td>1</td>\n",
       "    </tr>\n",
       "    <tr>\n",
       "      <th>116</th>\n",
       "      <td>139430</td>\n",
       "      <td>1</td>\n",
       "      <td>0.500049</td>\n",
       "      <td>0.731020</td>\n",
       "      <td>0</td>\n",
       "      <td>0</td>\n",
       "      <td>0.500076</td>\n",
       "      <td>0.730998</td>\n",
       "      <td>0</td>\n",
       "      <td>0</td>\n",
       "      <td>0.526704</td>\n",
       "      <td>0.709526</td>\n",
       "      <td>0</td>\n",
       "      <td>0</td>\n",
       "      <td>0.500613</td>\n",
       "      <td>0.730576</td>\n",
       "      <td>0</td>\n",
       "    </tr>\n",
       "    <tr>\n",
       "      <th>117</th>\n",
       "      <td>135374</td>\n",
       "      <td>0</td>\n",
       "      <td>0.500062</td>\n",
       "      <td>0.731010</td>\n",
       "      <td>0</td>\n",
       "      <td>0</td>\n",
       "      <td>0.500102</td>\n",
       "      <td>0.730978</td>\n",
       "      <td>0</td>\n",
       "      <td>0</td>\n",
       "      <td>0.500240</td>\n",
       "      <td>0.730869</td>\n",
       "      <td>0</td>\n",
       "      <td>1</td>\n",
       "      <td>0.730885</td>\n",
       "      <td>0.500220</td>\n",
       "      <td>1</td>\n",
       "    </tr>\n",
       "    <tr>\n",
       "      <th>118</th>\n",
       "      <td>136355</td>\n",
       "      <td>0</td>\n",
       "      <td>0.500031</td>\n",
       "      <td>0.731034</td>\n",
       "      <td>0</td>\n",
       "      <td>0</td>\n",
       "      <td>0.500049</td>\n",
       "      <td>0.731020</td>\n",
       "      <td>0</td>\n",
       "      <td>0</td>\n",
       "      <td>0.500898</td>\n",
       "      <td>0.730352</td>\n",
       "      <td>0</td>\n",
       "      <td>1</td>\n",
       "      <td>0.730873</td>\n",
       "      <td>0.500236</td>\n",
       "      <td>1</td>\n",
       "    </tr>\n",
       "  </tbody>\n",
       "</table>\n",
       "<p>119 rows × 17 columns</p>\n",
       "</div>"
      ],
      "text/plain": [
       "     Message ID2  Red Target  Prob Red  Prob Not Red  Red Guess  \\\n",
       "0         137499           0  0.500049      0.731020          0   \n",
       "1         139531           0  0.500120      0.730965          0   \n",
       "2         135980           0  0.500046      0.731022          0   \n",
       "3         136802           1  0.500062      0.731010          0   \n",
       "4         136716           0  0.500064      0.731008          0   \n",
       "..           ...         ...       ...           ...        ...   \n",
       "114       135712           0  0.500039      0.731028          0   \n",
       "115       136371           0  0.500028      0.731037          0   \n",
       "116       139430           1  0.500049      0.731020          0   \n",
       "117       135374           0  0.500062      0.731010          0   \n",
       "118       136355           0  0.500031      0.731034          0   \n",
       "\n",
       "     Crisis Target  Prob Crisis  Prob Not Crisis  Crisis Guess  Amber Target  \\\n",
       "0                0     0.500086         0.730991             0             0   \n",
       "1                0     0.500110         0.730972             0             0   \n",
       "2                0     0.500085         0.730992             0             0   \n",
       "3                0     0.500076         0.730999             0             0   \n",
       "4                0     0.500068         0.731005             0             0   \n",
       "..             ...          ...              ...           ...           ...   \n",
       "114              0     0.500050         0.731019             0             0   \n",
       "115              0     0.500065         0.731007             0             1   \n",
       "116              0     0.500076         0.730998             0             0   \n",
       "117              0     0.500102         0.730978             0             0   \n",
       "118              0     0.500049         0.731020             0             0   \n",
       "\n",
       "     Prob Amber  Prob Not Amber  Amber Guess  Green Target  Prob Green  \\\n",
       "0      0.501393        0.729962            0             1    0.728414   \n",
       "1      0.500303        0.730820            0             1    0.730009   \n",
       "2      0.501514        0.729866            0             1    0.730697   \n",
       "3      0.503610        0.728210            0             0    0.500305   \n",
       "4      0.504746        0.727310            0             1    0.730442   \n",
       "..          ...             ...          ...           ...         ...   \n",
       "114    0.500323        0.730804            0             1    0.730942   \n",
       "115    0.504148        0.727784            0             0    0.726589   \n",
       "116    0.526704        0.709526            0             0    0.500613   \n",
       "117    0.500240        0.730869            0             1    0.730885   \n",
       "118    0.500898        0.730352            0             1    0.730873   \n",
       "\n",
       "     Prob Not Green  Green Guess  \n",
       "0          0.503352            1  \n",
       "1          0.501333            1  \n",
       "2          0.500460            1  \n",
       "3          0.730818            0  \n",
       "4          0.500783            1  \n",
       "..              ...          ...  \n",
       "114        0.500148            1  \n",
       "115        0.505654            1  \n",
       "116        0.730576            0  \n",
       "117        0.500220            1  \n",
       "118        0.500236            1  \n",
       "\n",
       "[119 rows x 17 columns]"
      ]
     },
     "execution_count": 263,
     "metadata": {},
     "output_type": "execute_result"
    }
   ],
   "source": [
    "sep_mod"
   ]
  },
  {
   "cell_type": "code",
   "execution_count": 271,
   "metadata": {},
   "outputs": [
    {
     "data": {
      "text/plain": [
       "Amb GT Red\n",
       "True    119\n",
       "Name: count, dtype: int64"
      ]
     },
     "execution_count": 271,
     "metadata": {},
     "output_type": "execute_result"
    }
   ],
   "source": [
    "sep_mod['Amb GT Red']=sep_mod['Prob Amber']>sep_mod['Prob Crisis']\n",
    "sep_mod['Amb GT Red'].value_counts()"
   ]
  },
  {
   "cell_type": "code",
   "execution_count": 266,
   "metadata": {},
   "outputs": [
    {
     "data": {
      "text/plain": [
       "Green Target\n",
       "0    36\n",
       "1     4\n",
       "Name: count, dtype: int64"
      ]
     },
     "execution_count": 266,
     "metadata": {},
     "output_type": "execute_result"
    }
   ],
   "source": [
    "#Combine predictions with message ID\n",
    "not_green=sep_mod[sep_mod['Prob Not Green']>0.7]\n",
    "not_green['Green Target'].value_counts()"
   ]
  },
  {
   "cell_type": "markdown",
   "metadata": {},
   "source": [
    "#### 4.1 Check Probabilities for Crisis and Not-Crisis"
   ]
  },
  {
   "cell_type": "code",
   "execution_count": 273,
   "metadata": {},
   "outputs": [
    {
     "data": {
      "text/plain": [
       "count    8.000000\n",
       "mean     0.500063\n",
       "std      0.000007\n",
       "min      0.500052\n",
       "25%      0.500060\n",
       "50%      0.500062\n",
       "75%      0.500066\n",
       "max      0.500075\n",
       "Name: Prob Crisis, dtype: float64"
      ]
     },
     "execution_count": 273,
     "metadata": {},
     "output_type": "execute_result"
    }
   ],
   "source": [
    "#Look at summary of percentages ofr crisis posts=0 and crisis posts=1\n",
    "sep_mod[sep_mod['Crisis Target']==1]['Prob Crisis'].describe()"
   ]
  },
  {
   "cell_type": "code",
   "execution_count": 275,
   "metadata": {},
   "outputs": [
    {
     "data": {
      "text/plain": [
       "count    111.000000\n",
       "mean       0.500065\n",
       "std        0.000023\n",
       "min        0.500039\n",
       "25%        0.500050\n",
       "50%        0.500059\n",
       "75%        0.500074\n",
       "max        0.500174\n",
       "Name: Prob Crisis, dtype: float64"
      ]
     },
     "execution_count": 275,
     "metadata": {},
     "output_type": "execute_result"
    }
   ],
   "source": [
    "sep_mod[sep_mod['Crisis Target']==0]['Prob Crisis'].describe()"
   ]
  },
  {
   "cell_type": "code",
   "execution_count": 276,
   "metadata": {},
   "outputs": [
    {
     "data": {
      "text/plain": [
       "count    8.000000\n",
       "mean     0.731009\n",
       "std      0.000005\n",
       "min      0.731000\n",
       "25%      0.731006\n",
       "50%      0.731010\n",
       "75%      0.731011\n",
       "max      0.731018\n",
       "Name: Prob Not Crisis, dtype: float64"
      ]
     },
     "execution_count": 276,
     "metadata": {},
     "output_type": "execute_result"
    }
   ],
   "source": [
    "#Look at summary of percentages ofr crisis posts=0 and crisis posts=1\n",
    "sep_mod[sep_mod['Crisis Target']==1]['Prob Not Crisis'].describe()"
   ]
  },
  {
   "cell_type": "code",
   "execution_count": 277,
   "metadata": {},
   "outputs": [
    {
     "data": {
      "text/plain": [
       "count    111.000000\n",
       "mean       0.731007\n",
       "std        0.000018\n",
       "min        0.730922\n",
       "25%        0.731001\n",
       "50%        0.731012\n",
       "75%        0.731019\n",
       "max        0.731028\n",
       "Name: Prob Not Crisis, dtype: float64"
      ]
     },
     "execution_count": 277,
     "metadata": {},
     "output_type": "execute_result"
    }
   ],
   "source": [
    "sep_mod[sep_mod['Crisis Target']==0]['Prob Not Crisis'].describe()"
   ]
  },
  {
   "cell_type": "code",
   "execution_count": 174,
   "metadata": {},
   "outputs": [
    {
     "data": {
      "text/plain": [
       "tensor([1, 0, 1, 1, 0, 1, 1, 1, 0, 1, 1, 1, 0, 0, 0, 0, 1, 0, 1, 1, 1, 0, 1, 1,\n",
       "        0, 1, 0, 0, 1, 0, 1, 1, 0, 1, 1, 0, 1, 0, 1, 1, 0, 1, 1, 0, 0, 1, 1, 1,\n",
       "        1, 1, 1, 0, 1, 0, 1, 0, 1, 0, 0, 1, 1, 1, 1, 1, 0, 1, 1, 1, 1, 1, 1, 0,\n",
       "        1, 0, 1, 1, 1, 1, 1, 0, 1, 0, 0, 1, 1, 1, 1, 1, 1, 1, 1, 1, 1, 1, 0, 1,\n",
       "        1, 1, 1, 0, 0, 1, 0, 1, 0, 1, 0, 0, 0, 1, 1, 1, 1, 1, 0, 0, 1, 0, 1],\n",
       "       device='cuda:0')"
      ]
     },
     "execution_count": 174,
     "metadata": {},
     "output_type": "execute_result"
    }
   ],
   "source": []
  },
  {
   "cell_type": "markdown",
   "metadata": {},
   "source": [
    "### 4.2 Check Probabilities for Red and Not-Red"
   ]
  },
  {
   "cell_type": "code",
   "execution_count": 278,
   "metadata": {},
   "outputs": [
    {
     "data": {
      "text/plain": [
       "count    15.000000\n",
       "mean      0.500065\n",
       "std       0.000034\n",
       "min       0.500028\n",
       "25%       0.500051\n",
       "50%       0.500061\n",
       "75%       0.500068\n",
       "max       0.500179\n",
       "Name: Prob Red, dtype: float64"
      ]
     },
     "execution_count": 278,
     "metadata": {},
     "output_type": "execute_result"
    }
   ],
   "source": [
    "#Look at summary of percentages ofr crisis posts=0 and crisis posts=1\n",
    "sep_mod[sep_mod['Red Target']==1]['Prob Red'].describe()"
   ]
  },
  {
   "cell_type": "code",
   "execution_count": 279,
   "metadata": {},
   "outputs": [
    {
     "data": {
      "text/plain": [
       "count    104.000000\n",
       "mean       0.500049\n",
       "std        0.000023\n",
       "min        0.500025\n",
       "25%        0.500033\n",
       "50%        0.500044\n",
       "75%        0.500057\n",
       "max        0.500167\n",
       "Name: Prob Red, dtype: float64"
      ]
     },
     "execution_count": 279,
     "metadata": {},
     "output_type": "execute_result"
    }
   ],
   "source": [
    "sep_mod[sep_mod['Red Target']==0]['Prob Red'].describe()"
   ]
  },
  {
   "cell_type": "code",
   "execution_count": 280,
   "metadata": {},
   "outputs": [
    {
     "data": {
      "text/plain": [
       "count    15.000000\n",
       "mean      0.731008\n",
       "std       0.000027\n",
       "min       0.730918\n",
       "25%       0.731005\n",
       "50%       0.731011\n",
       "75%       0.731019\n",
       "max       0.731036\n",
       "Name: Prob Not Red, dtype: float64"
      ]
     },
     "execution_count": 280,
     "metadata": {},
     "output_type": "execute_result"
    }
   ],
   "source": [
    "#Look at summary of percentages ofr crisis posts=0 and crisis posts=1\n",
    "sep_mod[sep_mod['Red Target']==1]['Prob Not Red'].describe()"
   ]
  },
  {
   "cell_type": "code",
   "execution_count": 281,
   "metadata": {},
   "outputs": [
    {
     "data": {
      "text/plain": [
       "count    104.000000\n",
       "mean       0.731020\n",
       "std        0.000018\n",
       "min        0.730927\n",
       "25%        0.731013\n",
       "50%        0.731024\n",
       "75%        0.731033\n",
       "max        0.731039\n",
       "Name: Prob Not Red, dtype: float64"
      ]
     },
     "execution_count": 281,
     "metadata": {},
     "output_type": "execute_result"
    }
   ],
   "source": [
    "sep_mod[sep_mod['Red Target']==0]['Prob Not Red'].describe()"
   ]
  },
  {
   "cell_type": "code",
   "execution_count": null,
   "metadata": {},
   "outputs": [],
   "source": []
  }
 ],
 "metadata": {
  "kernelspec": {
   "display_name": "Python 3 (ipykernel)",
   "language": "python",
   "name": "python3"
  },
  "language_info": {
   "codemirror_mode": {
    "name": "ipython",
    "version": 3
   },
   "file_extension": ".py",
   "mimetype": "text/x-python",
   "name": "python",
   "nbconvert_exporter": "python",
   "pygments_lexer": "ipython3",
   "version": "3.10.13"
  }
 },
 "nbformat": 4,
 "nbformat_minor": 4
}
